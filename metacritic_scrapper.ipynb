{
 "cells": [
  {
   "cell_type": "code",
   "execution_count": 5,
   "metadata": {},
   "outputs": [],
   "source": [
    "import requests\n",
    "from bs4 import BeautifulSoup\n",
    "import time\n"
   ]
  },
  {
   "cell_type": "code",
   "execution_count": 2,
   "metadata": {},
   "outputs": [],
   "source": [
    "# All games with metascore\n",
    "metacritic_header = \"https://www.metacritic.com/browse/game/\"\n",
    "year_range = \"?releaseYearMin=2010&releaseYearMax=2024&page=\""
   ]
  },
  {
   "cell_type": "code",
   "execution_count": 23,
   "metadata": {},
   "outputs": [
    {
     "name": "stdout",
     "output_type": "stream",
     "text": [
      "Status Code: 200\n",
      "URL: https://www.metacritic.com/game/elden-ring\n"
     ]
    },
    {
     "ename": "AttributeError",
     "evalue": "'NoneType' object has no attribute 'find'",
     "output_type": "error",
     "traceback": [
      "\u001b[1;31m---------------------------------------------------------------------------\u001b[0m",
      "\u001b[1;31mAttributeError\u001b[0m                            Traceback (most recent call last)",
      "Cell \u001b[1;32mIn[23], line 43\u001b[0m\n\u001b[0;32m     34\u001b[0m     data \u001b[38;5;241m=\u001b[39m {\u001b[38;5;124m\"\u001b[39m\u001b[38;5;124mTitle\u001b[39m\u001b[38;5;124m\"\u001b[39m: game_name,\n\u001b[0;32m     35\u001b[0m             \u001b[38;5;124m\"\u001b[39m\u001b[38;5;124mScore\u001b[39m\u001b[38;5;124m\"\u001b[39m: critic_score,\n\u001b[0;32m     36\u001b[0m             \u001b[38;5;124m\"\u001b[39m\u001b[38;5;124mPlatforms\u001b[39m\u001b[38;5;124m\"\u001b[39m: platforms_list,\n\u001b[1;32m   (...)\u001b[0m\n\u001b[0;32m     39\u001b[0m             \u001b[38;5;124m\"\u001b[39m\u001b[38;5;124mPublisher\u001b[39m\u001b[38;5;124m\"\u001b[39m: publisher,\n\u001b[0;32m     40\u001b[0m             \u001b[38;5;124m\"\u001b[39m\u001b[38;5;124mGenres\u001b[39m\u001b[38;5;124m\"\u001b[39m: genres_list}\n\u001b[0;32m     41\u001b[0m     \u001b[38;5;28;01mreturn\u001b[39;00m data\n\u001b[1;32m---> 43\u001b[0m \u001b[43mscrape_metacritic_game_page\u001b[49m\u001b[43m(\u001b[49m\u001b[38;5;124;43m\"\u001b[39;49m\u001b[38;5;124;43melden ring\u001b[39;49m\u001b[38;5;124;43m\"\u001b[39;49m\u001b[43m)\u001b[49m\n",
      "Cell \u001b[1;32mIn[23], line 17\u001b[0m, in \u001b[0;36mscrape_metacritic_game_page\u001b[1;34m(game_name)\u001b[0m\n\u001b[0;32m     14\u001b[0m soup \u001b[38;5;241m=\u001b[39m BeautifulSoup(response\u001b[38;5;241m.\u001b[39mcontent, \u001b[38;5;124m'\u001b[39m\u001b[38;5;124mhtml.parser\u001b[39m\u001b[38;5;124m'\u001b[39m)\n\u001b[0;32m     16\u001b[0m score_div \u001b[38;5;241m=\u001b[39m soup\u001b[38;5;241m.\u001b[39mfind(\u001b[38;5;124m'\u001b[39m\u001b[38;5;124mdiv\u001b[39m\u001b[38;5;124m'\u001b[39m, {\u001b[38;5;124m'\u001b[39m\u001b[38;5;124mclass\u001b[39m\u001b[38;5;124m'\u001b[39m: \u001b[38;5;124m'\u001b[39m\u001b[38;5;124mc-siteReviewScore u-flexbox-column u-flexbox-alignCenter u-flexbox-justifyCenter g-text-bold c-siteReviewScore_red g-color-white c-siteReviewScore_large\u001b[39m\u001b[38;5;124m'\u001b[39m})\n\u001b[1;32m---> 17\u001b[0m critic_score \u001b[38;5;241m=\u001b[39m \u001b[43mscore_div\u001b[49m\u001b[38;5;241;43m.\u001b[39;49m\u001b[43mfind\u001b[49m(\u001b[38;5;124m'\u001b[39m\u001b[38;5;124mspan\u001b[39m\u001b[38;5;124m'\u001b[39m)\u001b[38;5;241m.\u001b[39mtext\u001b[38;5;241m.\u001b[39mstrip()\n\u001b[0;32m     19\u001b[0m platform_div \u001b[38;5;241m=\u001b[39m soup\u001b[38;5;241m.\u001b[39mfind(\u001b[38;5;124m'\u001b[39m\u001b[38;5;124mdiv\u001b[39m\u001b[38;5;124m'\u001b[39m, {\u001b[38;5;124m'\u001b[39m\u001b[38;5;124mclass\u001b[39m\u001b[38;5;124m'\u001b[39m: \u001b[38;5;124m'\u001b[39m\u001b[38;5;124mc-gameDetails_Platforms u-flexbox u-flexbox-row\u001b[39m\u001b[38;5;124m'\u001b[39m})\n\u001b[0;32m     20\u001b[0m platforms_list \u001b[38;5;241m=\u001b[39m \u001b[38;5;28mlist\u001b[39m(\u001b[38;5;28mmap\u001b[39m(\u001b[38;5;28;01mlambda\u001b[39;00m x: x\u001b[38;5;241m.\u001b[39mtext\u001b[38;5;241m.\u001b[39mstrip(), platform_div\u001b[38;5;241m.\u001b[39mfind_all(\u001b[38;5;124m'\u001b[39m\u001b[38;5;124mli\u001b[39m\u001b[38;5;124m'\u001b[39m)))\n",
      "\u001b[1;31mAttributeError\u001b[0m: 'NoneType' object has no attribute 'find'"
     ]
    }
   ],
   "source": [
    "metacritic_header_game_page = \"https://www.metacritic.com/game/\"\n",
    "def scrape_metacritic_game_page(game_name: str):\n",
    "    game_url = game_name.replace(' ', '-').lower()\n",
    "    url = metacritic_header_game_page + game_url\n",
    "    headers = {\n",
    "        'User-Agent': 'Mozilla/5.0 (Windows NT 10.0; Win64; x64) AppleWebKit/537.36 (KHTML, like Gecko) Chrome/91.0.4472.124 Safari/537.36'\n",
    "    }\n",
    "    time.sleep(2)\n",
    "\n",
    "    response = requests.get(url, headers=headers)\n",
    "    print(f\"Status Code: {response.status_code}\")\n",
    "    print(f\"URL: {url}\")\n",
    "\n",
    "    soup = BeautifulSoup(response.content, 'html.parser')\n",
    "\n",
    "    colors = ['red', 'yellow', 'green']\n",
    "    score_template = \"c-siteReviewScore u-flexbox-column u-flexbox-alignCenter u-flexbox-justifyCenter g-text-bold c-siteReviewScore_{color} g-color-white c-siteReviewScore_large\"\n",
    "    for c in colors:\n",
    "        score_class = score_template.format(color=c)\n",
    "        score_div = soup.find('div', {'class': score_class})\n",
    "        if score_div:\n",
    "            critic_score = score_div.find('span').text.strip()\n",
    "            break\n",
    "\n",
    "    \n",
    "    platform_div = soup.find('div', {'class': 'c-gameDetails_Platforms u-flexbox u-flexbox-row'})\n",
    "    platforms_list = list(map(lambda x: x.text.strip(), platform_div.find_all('li')))\n",
    "    \n",
    "    release_div = soup.find('div', {'class': 'c-gameDetails_ReleaseDate u-flexbox u-flexbox-row'})\n",
    "    release_date = release_div.find_all('span')[1].text\n",
    "    \n",
    "    developer_div = soup.find('div', {'class': 'c-gameDetails_Developer u-flexbox u-flexbox-row'})\n",
    "    developer_list = list(map(lambda x: x.text.strip(), developer_div.find_all('li')))\n",
    "    \n",
    "    publisher_div = soup.find('div', {'class': 'c-gameDetails_Distributor u-flexbox u-flexbox-row'})\n",
    "    publisher = publisher_div.find_all('span')[1].text\n",
    "    \n",
    "    genres_div = soup.find('div', {'class': 'c-gameDetails_sectionContainer u-flexbox u-flexbox-row u-flexbox-alignBaseline'})\n",
    "    genres_list = list(map(lambda x: x.text.strip(), genres_div.find_all('li')))\n",
    "\n",
    "    data = {\"Title\": game_name,\n",
    "            \"Score\": critic_score,\n",
    "            \"Platforms\": platforms_list,\n",
    "            \"Release Date\": release_date,\n",
    "            \"Developers\": developer_list,\n",
    "            \"Publisher\": publisher,\n",
    "            \"Genres\": genres_list}\n",
    "    return data\n",
    "\n",
    "scrape_metacritic_game_page(\"the \")"
   ]
  },
  {
   "cell_type": "code",
   "execution_count": 8,
   "metadata": {},
   "outputs": [],
   "source": [
    "def scrape_metacritic_page(page_no: str):\n",
    "    assert page_no.isnumeric()\n",
    "    url = metacritic_header + year_range + page_no\n",
    "    headers = {\n",
    "        'User-Agent': 'Mozilla/5.0 (Windows NT 10.0; Win64; x64) AppleWebKit/537.36 (KHTML, like Gecko) Chrome/91.0.4472.124 Safari/537.36'\n",
    "    }\n",
    "    time.sleep(2)\n",
    "\n",
    "    response = requests.get(url, headers=headers)\n",
    "    print(f\"Status Code: {response.status_code}\")\n",
    "    print(f\"URL: {url}\")\n",
    "\n",
    "    soup = BeautifulSoup(response.content, 'html.parser')\n",
    "    games = soup.find_all('div', {'class': 'c-finderProductCard c-finderProductCard-game'})\n",
    "    if games is None:\n",
    "        print(\"Game div class invalid\")\n",
    "        return None\n",
    "    \n",
    "    game_names = []\n",
    "    for game in games:\n",
    "        spans = game.find_all('span')\n",
    "        span_texts = [span.text.strip() for span in spans if span.text.strip()]\n",
    "        game_name = span_texts[1]\n",
    "        if game_name:\n",
    "            game_names.append(games)\n",
    "\n",
    "    \n",
    "    \n",
    "    return game_names"
   ]
  },
  {
   "cell_type": "code",
   "execution_count": 9,
   "metadata": {},
   "outputs": [
    {
     "name": "stdout",
     "output_type": "stream",
     "text": [
      "Status Code: 200\n",
      "URL: https://www.metacritic.com/browse/game/?releaseYearMin=2010&releaseYearMax=2024&page=20\n",
      "24\n"
     ]
    }
   ],
   "source": [
    "t = scrape_metacritic_page(\"20\")"
   ]
  },
  {
   "cell_type": "code",
   "execution_count": 10,
   "metadata": {},
   "outputs": [
    {
     "name": "stdout",
     "output_type": "stream",
     "text": [
      "['457.', 'Professor Layton and the Unwound Future', 'Sep 12, 2010', '•', 'Rated E10+', 'Rated', 'Professor Layton and his apprentice, Luke, receive a confounding letter - from Luke 10 years in the future. But the message inside is even more troubling: London of the future is in disarray, and the only person\\r\\nwho can help set things right is Professor Layton.', '86 Metascore', '86', 'Metascore']\n",
      "['458.', 'Star Ocean: The Second Story R', 'Nov 2, 2023', '•', 'Rated T', 'Rated', \"Space Date 366 - A Federation officer finds himself transported to a mystical planet. While searching for a way home, an encounter with a young girl draws him into a quest to save her people, just as an ancient prophecy foretold... \\r\\n\\r\\nChoose your path and witness an awakened destiny. \\r\\n\\r\\nThe highly acclaimed second instalment in the STAR OCEAN series, returns as STAR OCEAN THE SECOND STORY R. Brought to life with a unique 2.5D aesthetic, which fuses 2D pixel characters and 3D environments, this remake includes everything that made the original release so great while adding new elements too!\\r\\n\\r\\nExperience new battle mechanics, full Japanese and English voice overs, original and re-arranged music, fast-travel and so much more! Discover the definitive version of a classic but modernized JRPG that's perfect for newcomers and long-time fans alike.\", '86 Metascore', '86', 'Metascore']\n",
      "['459.', 'HROT', 'May 16, 2023', 'HROT is a single-player retro FPS set in a small socialist country neighboring Soviet Union (Czechoslovakia) after an unspecified disaster in 1986. Those times were dark and terrifying and so is the game.', '86 Metascore', '86', 'Metascore']\n",
      "['460.', 'Dance Central 2', 'Oct 25, 2011', '•', 'Rated T', 'Rated', 'Dance Central 2 is the sequel to the popular Dance Central game.', '86 Metascore', '86', 'Metascore']\n",
      "['461.', 'Total War: WARHAMMER III', 'Feb 17, 2022', '•', 'Rated T', 'Rated', 'Far beyond the world and its petty wars there exists a dimension of pure, malevolent magic: The Realm of Chaos. It is a terrible place, incomprehensible to the mortal mind. It whispers promises of power, but to behold it is to be seduced by it. To relinquish your soul to it. To become it.\\r\\n\\r\\nThe four Ruinous Powers rule over this place, ever seeking to slip their bonds and engulf the world in a tide of daemonic corruption. Nurgle, the plague god; Slaanesh, the lord of excess; Tzeentch, the changer of ways; and Khorne, the god of blood and slaughter.\\r\\n\\r\\nOn the border between the worlds, two mighty kingdoms stand sentinel: the stern warriors of Kislev and the vast empire of Grand Cathay. But each is beset by its own trials, and now both have cause to cross the threshold and send their armies into the Realm of Chaos.\\r\\n\\r\\nThe world stands on a precipice. A single push will plunge it into cataclysm. And there is one who schemes to achieve just that, an ancient figure who desires nothing less than to wield supreme power. But to succeed, he will need a champion...', '86 Metascore', '86', 'Metascore']\n",
      "['462.', 'Bastion', 'Jul 20, 2011', '•', 'Rated E10+', 'Rated', 'Bastion is an action role-playing game from Supergiant Games.', '86 Metascore', '86', 'Metascore']\n",
      "['463.', 'Devotion', 'Feb 19, 2019', 'Devotion is a first-person atmospheric horror game depicting the life of a family shadowed by religious belief. Explore a 1980s Taiwan apartment complex lost in time gradually shift into a hellish nightmare. Delve into the vows each member of the family has made, and witness their devotion.', '86 Metascore', '86', 'Metascore']\n",
      "['464.', 'Sonic Mania', 'Aug 15, 2017', '•', 'Rated E', 'Rated', 'Experience the ultimate celebration of past and future in Sonic Mania, an all-new 2D Sonic adventure running at a crisp 60FPS with stunning HD retro-style graphics. Multiple playable characters give you the ability to go explosively fast as Sonic, soar as Tails, or power through tough obstacles with Knuckles’ brute strength. You can re-live the Sonic of the past with an exciting new twist on classic zones while fighting against new bosses and Dr. Eggman’s evil robot army. Go head to-head with players in Competition Mode or play in Co-Op Mode with a friend. [Playstation.com]', '86 Metascore', '86', 'Metascore']\n",
      "['465.', 'Joe Danger', 'Jun 8, 2010', '•', 'Rated E', 'Rated', '[Playstation Network]  Take control of Joe Danger, motorbike stuntman, and break world records in this 3D side-scrolling stunt-em-up.', '86 Metascore', '86', 'Metascore']\n",
      "['466.', 'Sons of the Forest', 'Feb 22, 2024', \"An entirely new experience from the makers of the 'The Forest'. Sent to find a missing billionaire on a remote island, you find yourself in a cannibal-infested hellscape. Craft, build, and struggle to survive, alone or with friends, in this terrifying new open-world survival horror simulator. Experience complete freedom to tackle the world how you want. You decide what you do, where to go and how best to survive. There are no NPC's barking orders at you or giving you missions you don't want to do. You give the orders, you choose what happens next. Enter a world where nowhere is safe and fight against a range of mutated creatures, some who are almost human like, and others who are like nothing you have ever seen before. Armed with pistols, axes, stun batons and more, protect yourself and those you care for. Feel every interaction; Break sticks to make fires. Use an axe to cut out windows and floors. Build a small cabin, or a sea-side compound, the choice is yours. Pluck fresh salmon directly from streams in spring and summer. Collect and store meat for the cold winter months. You're not alone on this island, so as winter rolls in and food and resources become scarce you won't be the only one looking for a meal. Co-op Gameplay - Survive alone, or with friends. Share items and work together to build defenses. Bring back-up to explore above and below ground.\", '86 Metascore', '86', 'Metascore']\n",
      "['467.', 'Fight Night Champion', 'Mar 1, 2011', '•', 'Rated M', 'Rated', \"A new installment in EA Sports' boxing series will enter the ring in early 2011.\", '86 Metascore', '86', 'Metascore']\n",
      "['468.', 'Desperados III', 'Jun 16, 2020', '•', 'Rated M', 'Rated', 'On his epic journey through 1870s USA and Mexico, John Cooper will have to take responsibility for mistakes that have been made in the past. On his quest for redemption, Cooper joins forces with the runaway bride Kate O\\'Hara, shady Arthur \"Doc\" McCoy, the giant trapper Hector and a mysterious lady from New Orleans. They make their way from the mountains of Colorado to the heart of Louisiana, then finally to New Mexico, right back into Cooper\\'s past.\\r\\n\\r\\nYou take control of this ragtag band becoming a highly functional group of unlikely heroes and heroines. The leader of his team is Cooper, drifter and gunslinger, who can kill quietly with a knife or take out multiple foes with his revolvers. Strongman Hector carries a giant beartrap and can slay the toughest opponents with his trusty axe. Cold-blooded bounty hunter McCoy likes to be methodical, using lures, knockout gas, poison syringes and a custom long-range pistol. Kate can fool almost any man with the right outfit and kill discretely with her hidden gun.\\r\\n\\r\\nCombine your specialists to overcome tough challenges in many different ways. Plan your moves wisely and execute them perfectly in real-time to sneak past your enemies while remaining undetected.', '86 Metascore', '86', 'Metascore']\n",
      "['469.', 'Pony Island', 'Jan 4, 2016', 'Pony Island is a suspense puzzle game in disguise. You are in limbo, trapped in a malevolent and malfunctioning arcade machine devised by the devil himself.', '86 Metascore', '86', 'Metascore']\n",
      "['470.', 'MLB The Show 19', 'Mar 26, 2019', '•', 'Rated E', 'Rated', 'MLB® The Show 19 brings you the best of baseball. Experience the ultimate duel: the 1v1 battle between hitter and pitcher to see who reigns supreme. Whether it be home runs, quick experiences, playing as legends, a full RPG experience or stiff Player vs Player competition; MLBTS 19 provides the perfect combination of authentic baseball experience mixed with video game fun.', '86 Metascore', '86', 'Metascore']\n",
      "['471.', 'The Legend of Zelda: Echoes of Wisdom', 'Sep 26, 2024', '•', 'Rated E10+', 'Rated', 'Save the kingdom of Hyrule – this time with the wisdom of Princess Zelda – in The Legend of Zelda: Echoes of Wisdom. The people of Hyrule are being stolen away by strange rifts that have appeared, and with a certain swordsman among those missing, it’s up to Princess Zelda to save her kingdom. Team up with the mysterious fairy, Tri, and use the power of the Tri Rod to learn how to create echoes, imitations of things found in the environment. You can then recreate those echoes whenever you like to solve puzzles and defeat enemies. Create echoes like water blocks to reach new heights, make bridges out of old beds, throw rocks at foes, or find your own creative combination of echoes to do things your way. You can even create echoes of monsters to fight at your side in combat.', '86 Metascore', '86', 'Metascore']\n",
      "['472.', 'Tales From Space: Mutant Blobs Attack', 'Feb 21, 2012', '•', 'Rated E10+', 'Rated', \"Tales from Space: Mutant Blobs Attack is a side-scrolling puzzle platformer about an ornery mutant blob that, after being held captive in a lab that can only be described as something out of a retro sci-fi movie from the early '50's, escapes into the world and sets out on a path to destroy and consume everything! A follow-up to last year's PlayStation&Acirc;&reg;Network title Tales from Space: About a Blob, Mutant Blobs Attack will contain a wide range of exciting new features and gameplay modes designed exclusively for the PlayStation&Acirc;&reg;Vita handheld entertainment system.\", '86 Metascore', '86', 'Metascore']\n",
      "['473.', 'Max Payne 3', 'May 15, 2012', '•', 'Rated M', 'Rated', \"The tragedies that took Max Payne's loved ones years ago are wounds that won't heal. No longer a police, nearly washed up and addicted to pain killers, Max takes a job in São Paulo, Brazil, protecting the family of wealthy real estate mogul Rodrigo Branco to finally escape his troubled past. But as events spin out of his control, Max finds himself alone on the streets of an unfamiliar city, desperately searching for the truth and fighting for a way out.\", '86 Metascore', '86', 'Metascore']\n",
      "['474.', 'Resident Evil 7: biohazard', 'Jan 24, 2017', '•', 'Rated M', 'Rated', 'While Resident Evil 7 draws from the series’ roots of atmospheric survival horror, it also delivers a new level of terror. In the Resident Evil games of yesteryear, players braced for fear in the first-person via the creepy door-opening scenes, and Resident Evil 7 ramps up that tension with an immersive first-person view and a photorealistic graphical style. Capcom is able to achieve a higher degree of visual fidelity thanks to the new proprietary in-house RE Engine that includes VR oriented tools. With the RE Engine plus industry leading audio and visual technologies, you experience every abhorrent detail up close and personal in Resident Evil 7. Playing the game in the PlayStation VR Mode escalates the unsettling feeling of presence to a level that horror fans have never experienced. The full gameplay experience is available in the included PlayStation VR Mode from beginning to end. No Resident Evil you’ve ever survived could prepare you for this. [Capcom]', '86 Metascore', '86', 'Metascore']\n",
      "['475.', 'NHL 12', 'Sep 13, 2011', '•', 'Rated E10+', 'Rated', 'NHL 12 has players try to become the next legend in hockey.', '86 Metascore', '86', 'Metascore']\n",
      "['476.', 'Rise of the Tomb Raider', 'Nov 10, 2015', '•', 'Rated M', 'Rated', \"Conquer a world strenuously protecting its secrets, endure dangers conditions and unstable landscapes, face viscous wildlife that act as guardians to ancient tombs, and explore massive interactive environments. Utilize the environment to your advantage, climb trees and go underwater to avoid or accost enemies, configure Lara's gear, weapons, and ammunition to suit your play style, dummy up explosives on the fly to wreak havoc, and wield Lara's signature combat bows and climbing axe. [Xbox.com]\", '86 Metascore', '86', 'Metascore']\n",
      "['477.', 'Chants of Sennaar', 'Sep 5, 2023', 'Divided since the dawn of time, the Peoples of the Tower no longer speak to each other. But it is said that one day, a Traveler will find the wisdom to break down the walls and restore the Balance.\\r\\n\\r\\nExplore and discover an enthralling world in a colorful, poetic setting inspired by the myth of Babel, where men have forgotten their past. Travel the endless steps of a prodigious labyrinth, uncover an ominous truth and unveil the mysteries of this fascinating universe where ancient languages are both the lock and the key.\\r\\n\\r\\nEmbark on a captivating journey with ancient languages to decipher.', '86 Metascore', '86', 'Metascore']\n",
      "['478.', \"PlayerUnknown's Battlegrounds\", 'Dec 21, 2017', '•', 'Rated T', 'Rated', \"PLAYERUNKNOWN'S BATTLEGROUNDS is a last-man-standing shooter being developed with community feedback. Players must fight to locate weapons and supplies in a massive 8x8 km island to be the lone survivor. This is BATTLE ROYALE.\", '86 Metascore', '86', 'Metascore']\n",
      "['479.', 'Forza Horizon 2', 'Sep 30, 2014', 'Race through a wide-open world featuring dramatic weather and day to night cycles. Connect with friends in this celebration of speed, style, and action-packed driving. Explore exotic locations in more than 200 of the world’s greatest cars.', '86 Metascore', '86', 'Metascore']\n",
      "['480.', 'Monster Train', 'May 21, 2020', 'Monster Train is a strategic roguelike deck building game with a twist. Set on a train to hell, you’ll use tactical decision making to defend multiple vertical battlegrounds. With real time competitive multiplayer and endless replayability, Monster Train is always on time.', '86 Metascore', '86', 'Metascore']\n"
     ]
    }
   ],
   "source": [
    "print(*t, sep='\\n')"
   ]
  }
 ],
 "metadata": {
  "kernelspec": {
   "display_name": ".venv",
   "language": "python",
   "name": "python3"
  },
  "language_info": {
   "codemirror_mode": {
    "name": "ipython",
    "version": 3
   },
   "file_extension": ".py",
   "mimetype": "text/x-python",
   "name": "python",
   "nbconvert_exporter": "python",
   "pygments_lexer": "ipython3",
   "version": "3.12.7"
  }
 },
 "nbformat": 4,
 "nbformat_minor": 2
}
