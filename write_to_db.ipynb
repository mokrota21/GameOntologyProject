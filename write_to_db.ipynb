{
 "cells": [
  {
   "cell_type": "code",
   "execution_count": 4,
   "metadata": {},
   "outputs": [
    {
     "data": {
      "text/plain": [
       "True"
      ]
     },
     "execution_count": 4,
     "metadata": {},
     "output_type": "execute_result"
    }
   ],
   "source": [
    "import os\n",
    "import json\n",
    "import datetime\n",
    "from dotenv import load_dotenv\n",
    "from tqdm.notebook import tqdm\n",
    "import pandas as pd\n",
    "\n",
    "load_dotenv()  # take environment variables from .env."
   ]
  },
  {
   "cell_type": "code",
   "execution_count": 2,
   "metadata": {},
   "outputs": [],
   "source": [
    "# establish a connection to the MongoDB database\n",
    "from pymongo import MongoClient\n",
    "\n",
    "# connect to your Atlas cluster\n",
    "client = MongoClient(os.environ[\"MONGODB_URI\"])"
   ]
  },
  {
   "cell_type": "code",
   "execution_count": 3,
   "metadata": {},
   "outputs": [],
   "source": [
    "# establish a connection to the PostgreSQL database\n",
    "import psycopg2 as pg\n",
    "\n",
    "conn = pg.connect(\n",
    "    dbname=os.environ[\"POSTGRES_DB\"],\n",
    "    user=os.environ[\"POSTGRES_USER\"],\n",
    "    password=os.environ[\"POSTGRES_PASSWORD\"],\n",
    "    host=os.environ[\"POSTGRES_HOST\"]\n",
    ")"
   ]
  },
  {
   "cell_type": "code",
   "execution_count": null,
   "metadata": {},
   "outputs": [],
   "source": []
  },
  {
   "cell_type": "markdown",
   "metadata": {},
   "source": [
    "## Load Fandom pages into postgres and mongo db"
   ]
  },
  {
   "cell_type": "code",
   "execution_count": 4,
   "metadata": {},
   "outputs": [],
   "source": [
    "# get list of names of files in a fodler\n",
    "folder = 'fandom_data'\n",
    "file_names = os.listdir(folder)"
   ]
  },
  {
   "cell_type": "code",
   "execution_count": 5,
   "metadata": {},
   "outputs": [],
   "source": [
    "# parse json contents of each file\n",
    "data = []\n",
    "for file_name in file_names:\n",
    "    if file_name.endswith('.json'):\n",
    "        with open(f'{folder}/{file_name}', 'r') as file:\n",
    "            l = json.load(file)\n",
    "            if len(l) > 1:\n",
    "                for item in zip(l[0], l[1]):\n",
    "                    item = {\n",
    "                        'game_name': file_name.split('.')[0],\n",
    "                        'game_url': item[1].split('wiki')[0],\n",
    "                        'page_name': item[1].split('/')[-1],\n",
    "                        'page_url': item[1],\n",
    "                        'content': item[0]\n",
    "                    }\n",
    "                    data.append(item)\n",
    "\n"
   ]
  },
  {
   "cell_type": "code",
   "execution_count": 62,
   "metadata": {},
   "outputs": [
    {
     "data": {
      "text/plain": [
       "{'game_name': 'lostark',\n",
       " 'game_url': 'https://lostark.fandom.com/',\n",
       " 'page_name': 'A_Bell_in_the_Night',\n",
       " 'page_url': 'https://lostark.fandom.com/wiki/A_Bell_in_the_Night',\n",
       " 'content': '<aside class=\"portable-infobox pi-background pi-border-color pi-theme-wikia pi-layout-default\" role=\"region\">\\n<h2>A Bell in the Night</h2>\\n\\n<div>\\n<h3>Type</h3>\\n<div>Normal</div>\\n</div>\\n<div>\\n<h3>Continent</h3>\\n<div><a>East Luterra</a></div>\\n</div>\\n<div>\\n<h3>Location</h3>\\n<div><a>Blackrose Chapel</a></div>\\n</div>\\n<div>\\n<h3>Start NPC</h3>\\n<div><span>Vion</span></div>\\n</div>\\n</aside>',\n",
       " '_id': ObjectId('6713a1e88f64cb721b2f3f05')}"
      ]
     },
     "execution_count": 62,
     "metadata": {},
     "output_type": "execute_result"
    }
   ],
   "source": [
    "data[25]"
   ]
  },
  {
   "cell_type": "code",
   "execution_count": 18,
   "metadata": {},
   "outputs": [],
   "source": [
    "# get the database and collection on which to run the operation\n",
    "collection = client['Fandom']['Pages']\n",
    "cur = conn.cursor()\n",
    "\n",
    "for item in data:\n",
    "    # insert into MongoDB\n",
    "    result = collection.insert_one(item)\n",
    "    # result.inserted_id\n",
    "\n",
    "    # insert into PostgreSQL\n",
    "    cur.execute(\n",
    "        f\"\"\"\n",
    "        INSERT INTO fandom_pages (object_id, game_name, game_url, page_name, page_url, content)\n",
    "        VALUES (%s, %s, %s, %s, %s, %s);\n",
    "        \"\"\",\n",
    "        (str(result.inserted_id), item['game_name'], item['game_url'], item['page_name'], item['page_url'], item['content'])\n",
    "    )\n",
    "    conn.commit()\n",
    "    \n",
    "cur.close()"
   ]
  },
  {
   "cell_type": "code",
   "execution_count": null,
   "metadata": {},
   "outputs": [],
   "source": []
  },
  {
   "cell_type": "markdown",
   "metadata": {},
   "source": [
    "## Load Metacritic data into postgres"
   ]
  },
  {
   "cell_type": "code",
   "execution_count": null,
   "metadata": {},
   "outputs": [],
   "source": [
    "# Title,Score,Platforms,Release Date,Developers,Publisher,Genres\n",
    "# Elden Ring: Shadow of the Erdtree,94,\"['PC', 'Xbox Series X', 'PlayStation 5', 'PlayStation 4', 'Xbox One']\",\"Jun 21, 2024\",['From Software'],Bandai Namco Games,['Action RPG']\n",
    "# Batman: Arkham City,94,\"['PC', 'Xbox 360', 'PlayStation 3', 'Nintendo Switch']\",\"Oct 18, 2011\",['Rocksteady Studios'],Warner Bros. Interactive Entertainment,['Open-World Action']"
   ]
  },
  {
   "cell_type": "code",
   "execution_count": 4,
   "metadata": {},
   "outputs": [
    {
     "name": "stdout",
     "output_type": "stream",
     "text": [
      "{'Title': \"Hero's Hour\", 'Score': '82', 'Platforms': \"['PC', 'Nintendo Switch']\", 'Release Date': 'Mar 1, 2022', 'Developers': '[\\'Benjamin \"ThingOnItsOwn\" Hauer\\']', 'Publisher': 'Goblinz Studio', 'Genres': \"['Turn-Based Strategy']\"}\n",
      "{'Title': 'Cyber Shadow', 'Score': '82', 'Platforms': \"['Nintendo Switch', 'PC', 'PlayStation 4', 'Xbox One', 'PlayStation 5']\", 'Release Date': 'Jan 26, 2021', 'Developers': '[\\'Aarne \"MekaSkull\" Hunziker\\']', 'Publisher': 'Yacht Club Games', 'Genres': \"['2D Platformer']\"}\n"
     ]
    }
   ],
   "source": [
    "import csv\n",
    "\n",
    "mc_filename = 'metacritic_2010_2024.csv'\n",
    "mc_data = []\n",
    "\n",
    "with open(mc_filename, newline='') as csvfile:\n",
    "    reader = csv.DictReader(csvfile, delimiter=',', quotechar='\"')\n",
    "    for row in reader:\n",
    "        item = {\n",
    "            'title': row['Title'],\n",
    "            'score': int(row['Score']) if row['Score'] != '' else None,\n",
    "            # 'platforms': json.loads(row['Platforms'].replace(\"'\", '\"')),\n",
    "            'release_date': datetime.datetime.strptime(row['Release Date'], '%b %d, %Y') if row['Release Date'] != '' else None,\n",
    "            # Date string: 'May 23, 2010'\n",
    "            # 'developers': json.loads(row['Developers'].replace(\"'\", '\"')),\n",
    "            'publisher': row['Publisher'],\n",
    "            # 'genres': json.loads(row['Genres'].replace(\"'\", '\"'))\n",
    "        }\n",
    "        try:\n",
    "            item['platforms'] = json.loads(row['Platforms'].replace(\"'\", '\"'))\n",
    "        except:\n",
    "            item['platforms'] = json.loads(row['Platforms'])\n",
    "\n",
    "        if row['Developers'] != '':\n",
    "            try:\n",
    "                item['developers'] = json.loads(row['Developers'].replace(\"'\", '\"'))\n",
    "            except:\n",
    "                \n",
    "                try:\n",
    "                    item['developers'] = json.loads(row['Developers'])\n",
    "                except:\n",
    "                    print(row)\n",
    "\n",
    "        try:\n",
    "            item['genres'] = json.loads(row['Genres'].replace(\"'\", '\"'))\n",
    "        except:\n",
    "            item['genres'] = json.loads(row['Genres'])\n",
    "            \n",
    "        mc_data.append(item)\n",
    "\n"
   ]
  },
  {
   "cell_type": "code",
   "execution_count": 5,
   "metadata": {},
   "outputs": [
    {
     "data": {
      "text/plain": [
       "8015"
      ]
     },
     "execution_count": 5,
     "metadata": {},
     "output_type": "execute_result"
    }
   ],
   "source": [
    "len(mc_data)"
   ]
  },
  {
   "cell_type": "code",
   "execution_count": 9,
   "metadata": {},
   "outputs": [],
   "source": [
    "collection_mc = client['Metacritic']['Pages']\n",
    "cur = conn.cursor()"
   ]
  },
  {
   "cell_type": "code",
   "execution_count": null,
   "metadata": {},
   "outputs": [],
   "source": [
    "# create table metacritic_pages (\n",
    "#     object_id text primary key,\n",
    "#     title text,\n",
    "#     score int,\n",
    "#     platforms text[],\n",
    "#     release_date date,\n",
    "#     developers text[],\n",
    "#     publisher text,\n",
    "#     genres text[]\n",
    "# );"
   ]
  },
  {
   "cell_type": "code",
   "execution_count": 18,
   "metadata": {},
   "outputs": [
    {
     "data": {
      "application/vnd.jupyter.widget-view+json": {
       "model_id": "26ea31b0448d47759e43578a4ea6a1d3",
       "version_major": 2,
       "version_minor": 0
      },
      "text/plain": [
       "  0%|          | 0/7825 [00:00<?, ?it/s]"
      ]
     },
     "metadata": {},
     "output_type": "display_data"
    }
   ],
   "source": [
    "\n",
    "for item in tqdm(mc_data[190:]):\n",
    "    # insert into MongoDB\n",
    "    result = collection_mc.insert_one(item)\n",
    "    # result.inserted_id\n",
    "\n",
    "    try:\n",
    "        # insert into PostgreSQL\n",
    "        cur.execute(\n",
    "            f\"\"\"\n",
    "            INSERT INTO metacritic_pages (object_id, title, score, release_date, publisher, platforms, developers, genres)\n",
    "            VALUES (%s, %s, %s, %s, %s, %s, %s, %s);\n",
    "            \"\"\",\n",
    "            (str(result.inserted_id), item['title'], item['score'], item['release_date'], item['publisher'], item['platforms'], item.get('developers', None), item['genres'])\n",
    "        )\n",
    "        conn.commit()\n",
    "    except Exception as e:\n",
    "        conn.rollback()\n",
    "        collection_mc.delete_one({'_id': result.inserted_id})"
   ]
  },
  {
   "cell_type": "code",
   "execution_count": 17,
   "metadata": {},
   "outputs": [],
   "source": [
    "conn.rollback()"
   ]
  },
  {
   "cell_type": "code",
   "execution_count": 16,
   "metadata": {},
   "outputs": [
    {
     "data": {
      "text/plain": [
       "{'title': 'Out of the Park Baseball 15',\n",
       " 'score': 89,\n",
       " 'release_date': datetime.datetime(2014, 4, 21, 0, 0),\n",
       " 'publisher': '',\n",
       " 'platforms': ['PC'],\n",
       " 'genres': ['Baseball Sim'],\n",
       " '_id': ObjectId('6718cee717c581114a9d218d')}"
      ]
     },
     "execution_count": 16,
     "metadata": {},
     "output_type": "execute_result"
    }
   ],
   "source": [
    "mc_data[190]"
   ]
  },
  {
   "cell_type": "markdown",
   "metadata": {},
   "source": [
    "#### Add mapping between metacritic and fandom"
   ]
  },
  {
   "cell_type": "code",
   "execution_count": 5,
   "metadata": {},
   "outputs": [],
   "source": [
    "mc_mapping_filename = 'fandom_en_links.csv'\n",
    "mc_mapping = pd.read_csv(mc_mapping_filename)"
   ]
  },
  {
   "cell_type": "code",
   "execution_count": 6,
   "metadata": {},
   "outputs": [
    {
     "data": {
      "text/html": [
       "<div>\n",
       "<style scoped>\n",
       "    .dataframe tbody tr th:only-of-type {\n",
       "        vertical-align: middle;\n",
       "    }\n",
       "\n",
       "    .dataframe tbody tr th {\n",
       "        vertical-align: top;\n",
       "    }\n",
       "\n",
       "    .dataframe thead th {\n",
       "        text-align: right;\n",
       "    }\n",
       "</style>\n",
       "<table border=\"1\" class=\"dataframe\">\n",
       "  <thead>\n",
       "    <tr style=\"text-align: right;\">\n",
       "      <th></th>\n",
       "      <th>Unnamed: 0</th>\n",
       "      <th>fandom_url</th>\n",
       "      <th>Title</th>\n",
       "    </tr>\n",
       "  </thead>\n",
       "  <tbody>\n",
       "    <tr>\n",
       "      <th>0</th>\n",
       "      <td>0</td>\n",
       "      <td>https://GrandTheftAutoV.fandom.com/wiki/</td>\n",
       "      <td>Grand Theft Auto V</td>\n",
       "    </tr>\n",
       "    <tr>\n",
       "      <th>1</th>\n",
       "      <td>1</td>\n",
       "      <td>https://BaldursGate3.fandom.com/wiki/</td>\n",
       "      <td>Baldur's Gate 3</td>\n",
       "    </tr>\n",
       "    <tr>\n",
       "      <th>2</th>\n",
       "      <td>2</td>\n",
       "      <td>https://EldenRing.fandom.com/wiki/</td>\n",
       "      <td>Elden Ring</td>\n",
       "    </tr>\n",
       "    <tr>\n",
       "      <th>3</th>\n",
       "      <td>3</td>\n",
       "      <td>https://TheLastofUs.fandom.com/wiki/</td>\n",
       "      <td>The Last of Us</td>\n",
       "    </tr>\n",
       "    <tr>\n",
       "      <th>4</th>\n",
       "      <td>4</td>\n",
       "      <td>https://RedDeadRedemption.fandom.com/wiki/</td>\n",
       "      <td>Red Dead Redemption</td>\n",
       "    </tr>\n",
       "  </tbody>\n",
       "</table>\n",
       "</div>"
      ],
      "text/plain": [
       "   Unnamed: 0                                  fandom_url                Title\n",
       "0           0    https://GrandTheftAutoV.fandom.com/wiki/   Grand Theft Auto V\n",
       "1           1       https://BaldursGate3.fandom.com/wiki/      Baldur's Gate 3\n",
       "2           2          https://EldenRing.fandom.com/wiki/           Elden Ring\n",
       "3           3        https://TheLastofUs.fandom.com/wiki/       The Last of Us\n",
       "4           4  https://RedDeadRedemption.fandom.com/wiki/  Red Dead Redemption"
      ]
     },
     "execution_count": 6,
     "metadata": {},
     "output_type": "execute_result"
    }
   ],
   "source": [
    "mc_mapping.head()"
   ]
  },
  {
   "cell_type": "code",
   "execution_count": 8,
   "metadata": {},
   "outputs": [],
   "source": [
    "cur = conn.cursor()"
   ]
  },
  {
   "cell_type": "code",
   "execution_count": 14,
   "metadata": {},
   "outputs": [
    {
     "data": {
      "application/vnd.jupyter.widget-view+json": {
       "model_id": "b97469a2b49342e8a338c0013f37456b",
       "version_major": 2,
       "version_minor": 0
      },
      "text/plain": [
       "0it [00:00, ?it/s]"
      ]
     },
     "metadata": {},
     "output_type": "display_data"
    }
   ],
   "source": [
    "# update postgres db\n",
    "for i, row in tqdm(mc_mapping.iterrows()):\n",
    "    cur.execute(\n",
    "        f\"\"\"\n",
    "        UPDATE metacritic_pages\n",
    "        SET fandom_game_url = %s\n",
    "        WHERE title = %s;\n",
    "        \"\"\",\n",
    "        (row['fandom_url'].lower()[:-5], row['Title'])\n",
    "    )\n",
    "    conn.commit()"
   ]
  },
  {
   "cell_type": "code",
   "execution_count": 12,
   "metadata": {},
   "outputs": [],
   "source": [
    "conn.rollback()"
   ]
  },
  {
   "cell_type": "code",
   "execution_count": null,
   "metadata": {},
   "outputs": [],
   "source": []
  }
 ],
 "metadata": {
  "kernelspec": {
   "display_name": "venv",
   "language": "python",
   "name": "python3"
  },
  "language_info": {
   "codemirror_mode": {
    "name": "ipython",
    "version": 3
   },
   "file_extension": ".py",
   "mimetype": "text/x-python",
   "name": "python",
   "nbconvert_exporter": "python",
   "pygments_lexer": "ipython3",
   "version": "3.10.12"
  }
 },
 "nbformat": 4,
 "nbformat_minor": 2
}
