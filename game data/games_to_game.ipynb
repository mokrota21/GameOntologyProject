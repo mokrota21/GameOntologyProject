{
 "cells": [
  {
   "cell_type": "code",
   "execution_count": 2,
   "metadata": {},
   "outputs": [
    {
     "name": "stdout",
     "output_type": "stream",
     "text": [
      "success\n"
     ]
    }
   ],
   "source": [
    "import pandas as pd\n",
    "\n",
    "df = pd.read_csv('games_data.csv')\n",
    "\n",
    "df['Current'] = df['Current'].str.replace(r'[^\\w\\s]', '', regex=True)\n",
    "df['24h Peak'] = df['24h Peak'].str.replace(r'[^\\w\\s]', '', regex=True)\n",
    "df['All-Time Peak'] = df['All-Time Peak'].str.replace(r'[^\\w\\s]', '', regex=True)\n",
    "\n",
    "df.to_csv('game_data.csv', index=False)\n",
    "\n",
    "print('success')\n"
   ]
  }
 ],
 "metadata": {
  "kernelspec": {
   "display_name": "Python 3",
   "language": "python",
   "name": "python3"
  },
  "language_info": {
   "codemirror_mode": {
    "name": "ipython",
    "version": 3
   },
   "file_extension": ".py",
   "mimetype": "text/x-python",
   "name": "python",
   "nbconvert_exporter": "python",
   "pygments_lexer": "ipython3",
   "version": "3.11.1"
  }
 },
 "nbformat": 4,
 "nbformat_minor": 2
}
