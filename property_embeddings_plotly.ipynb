{
 "cells": [
  {
   "cell_type": "code",
   "execution_count": null,
   "metadata": {},
   "outputs": [],
   "source": [
    "# !pip install -q torch transformers transformers accelerate bitsandbytes langchain sentence-transformers faiss-gpu openpyxl pacmap datasets langchain-community ragatouille"
   ]
  },
  {
   "cell_type": "code",
   "execution_count": 2,
   "metadata": {},
   "outputs": [],
   "source": [
    "from tqdm.notebook import tqdm\n",
    "import pandas as pd\n",
    "from typing import Optional, List, Tuple\n",
    "import matplotlib.pyplot as plt\n",
    "\n",
    "pd.set_option(\"display.max_colwidth\", None)  # This will be helpful when visualizing retriever outputs"
   ]
  },
  {
   "cell_type": "code",
   "execution_count": 13,
   "metadata": {},
   "outputs": [
    {
     "data": {
      "text/plain": [
       "True"
      ]
     },
     "execution_count": 13,
     "metadata": {},
     "output_type": "execute_result"
    }
   ],
   "source": [
    "from dotenv import load_dotenv\n",
    "from time import sleep\n",
    "import os\n",
    "import json\n",
    "\n",
    "load_dotenv()  # take environment variables from .env."
   ]
  },
  {
   "cell_type": "code",
   "execution_count": 6,
   "metadata": {},
   "outputs": [],
   "source": [
    "# establish a connection to the PostgreSQL database\n",
    "import psycopg2 as pg\n",
    "\n",
    "conn = pg.connect(\n",
    "    dbname=os.environ[\"POSTGRES_DB\"],\n",
    "    user=os.environ[\"POSTGRES_USER\"],\n",
    "    password=os.environ[\"POSTGRES_PASSWORD\"],\n",
    "    host=os.environ[\"POSTGRES_HOST\"]\n",
    ")"
   ]
  },
  {
   "cell_type": "code",
   "execution_count": 10,
   "metadata": {},
   "outputs": [
    {
     "name": "stderr",
     "output_type": "stream",
     "text": [
      "/tmp/ipykernel_455275/1609495954.py:1: UserWarning: pandas only supports SQLAlchemy connectable (engine/connection) or database string URI or sqlite3 DBAPI2 connection. Other DBAPI2 objects are not tested. Please consider using SQLAlchemy.\n",
      "  df = pd.read_sql_query(\n"
     ]
    }
   ],
   "source": [
    "df = pd.read_sql_query(\n",
    "    \"\"\"SELECT\n",
    "            fe.name as entity_name,\n",
    "            fe.class as entity_class,\n",
    "            fe.subclass as entity_subclass,\n",
    "            fe.description as entity_description,\n",
    "\n",
    "            fp.name as property_name,\n",
    "            fp.parent as property_parent,\n",
    "            fp.value as property_value,\n",
    "            fp.description as property_description\n",
    "\n",
    "\n",
    "    FROM fandom_properties fp left join fandom_entities fe on fp.object_id = fe.object_id;\"\"\",\n",
    "      conn)\n",
    "\n",
    "# id\tobject_id\tname\tvalue\tdescription\tparent\tcreated_at\tid\tobject_id\tname\tclass\tsubclass\tdescription\tcreated_at"
   ]
  },
  {
   "cell_type": "code",
   "execution_count": 11,
   "metadata": {},
   "outputs": [
    {
     "data": {
      "text/html": [
       "<div>\n",
       "<style scoped>\n",
       "    .dataframe tbody tr th:only-of-type {\n",
       "        vertical-align: middle;\n",
       "    }\n",
       "\n",
       "    .dataframe tbody tr th {\n",
       "        vertical-align: top;\n",
       "    }\n",
       "\n",
       "    .dataframe thead th {\n",
       "        text-align: right;\n",
       "    }\n",
       "</style>\n",
       "<table border=\"1\" class=\"dataframe\">\n",
       "  <thead>\n",
       "    <tr style=\"text-align: right;\">\n",
       "      <th></th>\n",
       "      <th>entity_name</th>\n",
       "      <th>entity_class</th>\n",
       "      <th>entity_subclass</th>\n",
       "      <th>entity_description</th>\n",
       "      <th>property_name</th>\n",
       "      <th>property_parent</th>\n",
       "      <th>property_value</th>\n",
       "      <th>property_description</th>\n",
       "    </tr>\n",
       "  </thead>\n",
       "  <tbody>\n",
       "    <tr>\n",
       "      <th>0</th>\n",
       "      <td>Adam Holograd</td>\n",
       "      <td>character</td>\n",
       "      <td>lord</td>\n",
       "      <td>Adam Holograd is the Lord Commander of the Holograd Empire, a prominent character in the game Bravely Default.</td>\n",
       "      <td>Home</td>\n",
       "      <td>Location</td>\n",
       "      <td>Holograd</td>\n",
       "      <td>The place where the character resides or is associated with.</td>\n",
       "    </tr>\n",
       "    <tr>\n",
       "      <th>1</th>\n",
       "      <td>Adam Holograd</td>\n",
       "      <td>character</td>\n",
       "      <td>lord</td>\n",
       "      <td>Adam Holograd is the Lord Commander of the Holograd Empire, a prominent character in the game Bravely Default.</td>\n",
       "      <td>Affiliation</td>\n",
       "      <td>Affiliation</td>\n",
       "      <td>Holograd Empire</td>\n",
       "      <td>The faction or group the character is associated with.</td>\n",
       "    </tr>\n",
       "    <tr>\n",
       "      <th>2</th>\n",
       "      <td>Adam Holograd</td>\n",
       "      <td>character</td>\n",
       "      <td>lord</td>\n",
       "      <td>Adam Holograd is the Lord Commander of the Holograd Empire, a prominent character in the game Bravely Default.</td>\n",
       "      <td>Occupation</td>\n",
       "      <td>Occupation</td>\n",
       "      <td>Lord Commander of the Holograd Empire</td>\n",
       "      <td>The role or job held by the character within their affiliated group.</td>\n",
       "    </tr>\n",
       "    <tr>\n",
       "      <th>3</th>\n",
       "      <td>Adam Holograd</td>\n",
       "      <td>character</td>\n",
       "      <td>lord</td>\n",
       "      <td>Adam Holograd is the Lord Commander of the Holograd Empire, a prominent character in the game Bravely Default.</td>\n",
       "      <td>Race</td>\n",
       "      <td>Physical Description</td>\n",
       "      <td>Human</td>\n",
       "      <td>The species or race of the character.</td>\n",
       "    </tr>\n",
       "    <tr>\n",
       "      <th>4</th>\n",
       "      <td>Adam Holograd</td>\n",
       "      <td>character</td>\n",
       "      <td>lord</td>\n",
       "      <td>Adam Holograd is the Lord Commander of the Holograd Empire, a prominent character in the game Bravely Default.</td>\n",
       "      <td>Gender</td>\n",
       "      <td>Physical Description</td>\n",
       "      <td>Male</td>\n",
       "      <td>The gender of the character.</td>\n",
       "    </tr>\n",
       "  </tbody>\n",
       "</table>\n",
       "</div>"
      ],
      "text/plain": [
       "     entity_name entity_class entity_subclass  \\\n",
       "0  Adam Holograd    character            lord   \n",
       "1  Adam Holograd    character            lord   \n",
       "2  Adam Holograd    character            lord   \n",
       "3  Adam Holograd    character            lord   \n",
       "4  Adam Holograd    character            lord   \n",
       "\n",
       "                                                                                               entity_description  \\\n",
       "0  Adam Holograd is the Lord Commander of the Holograd Empire, a prominent character in the game Bravely Default.   \n",
       "1  Adam Holograd is the Lord Commander of the Holograd Empire, a prominent character in the game Bravely Default.   \n",
       "2  Adam Holograd is the Lord Commander of the Holograd Empire, a prominent character in the game Bravely Default.   \n",
       "3  Adam Holograd is the Lord Commander of the Holograd Empire, a prominent character in the game Bravely Default.   \n",
       "4  Adam Holograd is the Lord Commander of the Holograd Empire, a prominent character in the game Bravely Default.   \n",
       "\n",
       "  property_name       property_parent                         property_value  \\\n",
       "0          Home              Location                               Holograd   \n",
       "1   Affiliation           Affiliation                        Holograd Empire   \n",
       "2    Occupation            Occupation  Lord Commander of the Holograd Empire   \n",
       "3          Race  Physical Description                                  Human   \n",
       "4        Gender  Physical Description                                   Male   \n",
       "\n",
       "                                                   property_description  \n",
       "0          The place where the character resides or is associated with.  \n",
       "1                The faction or group the character is associated with.  \n",
       "2  The role or job held by the character within their affiliated group.  \n",
       "3                                 The species or race of the character.  \n",
       "4                                          The gender of the character.  "
      ]
     },
     "execution_count": 11,
     "metadata": {},
     "output_type": "execute_result"
    }
   ],
   "source": [
    "df.head()"
   ]
  },
  {
   "cell_type": "markdown",
   "metadata": {},
   "source": [
    "\n",
    "## Embedding properties using HuggingFace model and local FAISS vector store\n",
    "\n",
    "As described on HuggingFace tutorials here:   \n",
    "\"Advanced RAG on Hugging Face documentation using LangChain\"   \n",
    "https://huggingface.co/learn/cookbook/en/advanced_rag"
   ]
  },
  {
   "cell_type": "code",
   "execution_count": 14,
   "metadata": {},
   "outputs": [
    {
     "data": {
      "application/vnd.jupyter.widget-view+json": {
       "model_id": "79f59c8adcae47159e4e4f2077a57002",
       "version_major": 2,
       "version_minor": 0
      },
      "text/plain": [
       "  0%|          | 0/38467 [00:00<?, ?it/s]"
      ]
     },
     "metadata": {},
     "output_type": "display_data"
    }
   ],
   "source": [
    "from langchain.docstore.document import Document\n",
    "\n",
    "RAW_KNOWLEDGE_BASE = [\n",
    "    Document(page_content=json.dumps(doc), metadata={\"entity_class\": doc[\"entity_class\"]}) for doc in tqdm(df.to_dict(orient=\"records\"))\n",
    "]"
   ]
  },
  {
   "cell_type": "code",
   "execution_count": 15,
   "metadata": {},
   "outputs": [
    {
     "name": "stderr",
     "output_type": "stream",
     "text": [
      "/home/aleksey/Workspace/GameOntologyProject/venv/lib/python3.10/site-packages/sentence_transformers/cross_encoder/CrossEncoder.py:13: TqdmExperimentalWarning: Using `tqdm.autonotebook.tqdm` in notebook mode. Use `tqdm.tqdm` instead to force console mode (e.g. in jupyter console)\n",
      "  from tqdm.autonotebook import tqdm, trange\n"
     ]
    },
    {
     "data": {
      "application/vnd.jupyter.widget-view+json": {
       "model_id": "ac7c1376a802447ba613622a942b811d",
       "version_major": 2,
       "version_minor": 0
      },
      "text/plain": [
       "modules.json:   0%|          | 0.00/385 [00:00<?, ?B/s]"
      ]
     },
     "metadata": {},
     "output_type": "display_data"
    },
    {
     "data": {
      "application/vnd.jupyter.widget-view+json": {
       "model_id": "2ab6225dc91f4eda907f6a99f1320405",
       "version_major": 2,
       "version_minor": 0
      },
      "text/plain": [
       "README.md:   0%|          | 0.00/68.1k [00:00<?, ?B/s]"
      ]
     },
     "metadata": {},
     "output_type": "display_data"
    },
    {
     "data": {
      "application/vnd.jupyter.widget-view+json": {
       "model_id": "cdc671e9adb54932ad0aac71c56ba711",
       "version_major": 2,
       "version_minor": 0
      },
      "text/plain": [
       "sentence_bert_config.json:   0%|          | 0.00/57.0 [00:00<?, ?B/s]"
      ]
     },
     "metadata": {},
     "output_type": "display_data"
    },
    {
     "data": {
      "application/vnd.jupyter.widget-view+json": {
       "model_id": "e487ad65cec34bd6b921f6e48b5dc547",
       "version_major": 2,
       "version_minor": 0
      },
      "text/plain": [
       "config.json:   0%|          | 0.00/583 [00:00<?, ?B/s]"
      ]
     },
     "metadata": {},
     "output_type": "display_data"
    },
    {
     "data": {
      "application/vnd.jupyter.widget-view+json": {
       "model_id": "2f451a0c294c4f33baa8aa1b7de65520",
       "version_major": 2,
       "version_minor": 0
      },
      "text/plain": [
       "model.safetensors:   0%|          | 0.00/66.7M [00:00<?, ?B/s]"
      ]
     },
     "metadata": {},
     "output_type": "display_data"
    },
    {
     "data": {
      "application/vnd.jupyter.widget-view+json": {
       "model_id": "493212373a6c49e3bbd75eef14b51f05",
       "version_major": 2,
       "version_minor": 0
      },
      "text/plain": [
       "tokenizer_config.json:   0%|          | 0.00/394 [00:00<?, ?B/s]"
      ]
     },
     "metadata": {},
     "output_type": "display_data"
    },
    {
     "data": {
      "application/vnd.jupyter.widget-view+json": {
       "model_id": "4ab9c1bdf4ad4f28876b571cc56beef6",
       "version_major": 2,
       "version_minor": 0
      },
      "text/plain": [
       "vocab.txt:   0%|          | 0.00/232k [00:00<?, ?B/s]"
      ]
     },
     "metadata": {},
     "output_type": "display_data"
    },
    {
     "data": {
      "application/vnd.jupyter.widget-view+json": {
       "model_id": "5205194c0f8541a1a5d0e0d1bcc184a1",
       "version_major": 2,
       "version_minor": 0
      },
      "text/plain": [
       "tokenizer.json:   0%|          | 0.00/712k [00:00<?, ?B/s]"
      ]
     },
     "metadata": {},
     "output_type": "display_data"
    },
    {
     "data": {
      "application/vnd.jupyter.widget-view+json": {
       "model_id": "91b9a16ec48d494fb592a34c896b74d0",
       "version_major": 2,
       "version_minor": 0
      },
      "text/plain": [
       "special_tokens_map.json:   0%|          | 0.00/125 [00:00<?, ?B/s]"
      ]
     },
     "metadata": {},
     "output_type": "display_data"
    },
    {
     "data": {
      "application/vnd.jupyter.widget-view+json": {
       "model_id": "34355cc7ed444d9da85d28f257cd5e53",
       "version_major": 2,
       "version_minor": 0
      },
      "text/plain": [
       "1_Pooling/config.json:   0%|          | 0.00/190 [00:00<?, ?B/s]"
      ]
     },
     "metadata": {},
     "output_type": "display_data"
    },
    {
     "name": "stdout",
     "output_type": "stream",
     "text": [
      "Model's maximum sequence length: 512\n"
     ]
    },
    {
     "data": {
      "application/vnd.jupyter.widget-view+json": {
       "model_id": "a34c8558b80644559ab954517e00b45f",
       "version_major": 2,
       "version_minor": 0
      },
      "text/plain": [
       "  0%|          | 0/38467 [00:00<?, ?it/s]"
      ]
     },
     "metadata": {},
     "output_type": "display_data"
    },
    {
     "data": {
      "image/png": "[encoded data removed]",
      "text/plain": [
       "<Figure size 640x480 with 1 Axes>"
      ]
     },
     "metadata": {},
     "output_type": "display_data"
    }
   ],
   "source": [
    "from sentence_transformers import SentenceTransformer\n",
    "\n",
    "# To get the value of the max sequence_length, we will query the underlying `SentenceTransformer` object used in the RecursiveCharacterTextSplitter\n",
    "print(f\"Model's maximum sequence length: {SentenceTransformer('thenlper/gte-small').max_seq_length}\")\n",
    "\n",
    "from transformers import AutoTokenizer\n",
    "\n",
    "tokenizer = AutoTokenizer.from_pretrained(\"thenlper/gte-small\")\n",
    "lengths = [len(tokenizer.encode(doc.page_content)) for doc in tqdm(RAW_KNOWLEDGE_BASE)]\n",
    "\n",
    "# Plot the distribution of document lengths, counted as the number of tokens\n",
    "fig = pd.Series(lengths).hist()\n",
    "plt.title(\"Distribution of document lengths in the knowledge base (in count of tokens)\")\n",
    "plt.show()"
   ]
  },
  {
   "cell_type": "code",
   "execution_count": 22,
   "metadata": {},
   "outputs": [
    {
     "ename": "",
     "evalue": "",
     "output_type": "error",
     "traceback": [
      "\u001b[1;31mThe Kernel crashed while executing code in the current cell or a previous cell. \n",
      "\u001b[1;31mPlease review the code in the cell(s) to identify a possible cause of the failure. \n",
      "\u001b[1;31mClick <a href='https://aka.ms/vscodeJupyterKernelCrash'>here</a> for more info. \n",
      "\u001b[1;31mView Jupyter <a href='command:jupyter.viewOutput'>log</a> for further details."
     ]
    }
   ],
   "source": [
    "from langchain.vectorstores import FAISS\n",
    "from langchain_community.embeddings import HuggingFaceEmbeddings\n",
    "from langchain_community.vectorstores.utils import DistanceStrategy\n",
    "\n",
    "EMBEDDING_MODEL_NAME = \"thenlper/gte-small\"\n",
    "\n",
    "embedding_model = HuggingFaceEmbeddings(\n",
    "    model_name=EMBEDDING_MODEL_NAME,\n",
    "    multi_process=True,\n",
    "    model_kwargs={\"device\": \"cpu\"},\n",
    "    encode_kwargs={\"normalize_embeddings\": True},  # Set `True` for cosine similarity\n",
    ")\n",
    "\n",
    "KNOWLEDGE_VECTOR_DATABASE = FAISS.from_documents(\n",
    "    RAW_KNOWLEDGE_BASE[:1000], embedding_model, distance_strategy=DistanceStrategy.COSINE\n",
    ")"
   ]
  },
  {
   "cell_type": "markdown",
   "metadata": {},
   "source": [
    "## Project vector embeddings to 2D and vizualize using Plotly"
   ]
  },
  {
   "cell_type": "code",
   "execution_count": 20,
   "metadata": {},
   "outputs": [
    {
     "data": {
      "text/plain": [
       "38467"
      ]
     },
     "execution_count": 20,
     "metadata": {},
     "output_type": "execute_result"
    }
   ],
   "source": [
    "import pacmap\n",
    "import numpy as np\n",
    "import plotly.express as px\n",
    "\n",
    "embedding_projector = pacmap.PaCMAP(n_components=2, n_neighbors=None, MN_ratio=0.5, FP_ratio=2.0, random_state=1)\n",
    "\n",
    "embeddings_2d = [\n",
    "    list(KNOWLEDGE_VECTOR_DATABASE.index.reconstruct_n(idx, 1)[0]) for idx in range(len(RAW_KNOWLEDGE_BASE[:1000]))\n",
    "]\n",
    "\n",
    "# Fit the data (the index of transformed data corresponds to the index of the original data)\n",
    "documents_projected = embedding_projector.fit_transform(np.array(embeddings_2d), init=\"pca\")"
   ]
  },
  {
   "cell_type": "code",
   "execution_count": null,
   "metadata": {},
   "outputs": [],
   "source": [
    "df = pd.DataFrame.from_dict(\n",
    "    [\n",
    "        {\n",
    "            \"x\": documents_projected[i, 0],\n",
    "            \"y\": documents_projected[i, 1],\n",
    "            \"class\": RAW_KNOWLEDGE_BASE[:1000][i].metadata[\"entity_class\"],\n",
    "            \"extract\": RAW_KNOWLEDGE_BASE[:1000][i].page_content[:100],\n",
    "            \"symbol\": \"circle\",\n",
    "            \"size_col\": 4,\n",
    "        }\n",
    "        for i in range(len(RAW_KNOWLEDGE_BASE[:1000]))\n",
    "    ]\n",
    ")\n",
    "\n",
    "# Visualize the embedding\n",
    "fig = px.scatter(\n",
    "    df,\n",
    "    x=\"x\",\n",
    "    y=\"y\",\n",
    "    color=\"source\",\n",
    "    hover_data=\"extract\",\n",
    "    size=\"size_col\",\n",
    "    symbol=\"symbol\",\n",
    "    color_discrete_map={\"User query\": \"black\"},\n",
    "    width=1000,\n",
    "    height=700,\n",
    ")\n",
    "fig.update_traces(\n",
    "    marker=dict(opacity=1, line=dict(width=0, color=\"DarkSlateGrey\")),\n",
    "    selector=dict(mode=\"markers\"),\n",
    ")\n",
    "fig.update_layout(\n",
    "    legend_title_text=\"<b>Chunk source</b>\",\n",
    "    title=\"<b>2D Projection of Chunk Embeddings via PaCMAP</b>\",\n",
    ")\n",
    "fig.show()"
   ]
  }
 ],
 "metadata": {
  "kernelspec": {
   "display_name": "venv",
   "language": "python",
   "name": "python3"
  },
  "language_info": {
   "codemirror_mode": {
    "name": "ipython",
    "version": 3
   },
   "file_extension": ".py",
   "mimetype": "text/x-python",
   "name": "python",
   "nbconvert_exporter": "python",
   "pygments_lexer": "ipython3",
   "version": "3.10.12"
  }
 },
 "nbformat": 4,
 "nbformat_minor": 2
}
