{
 "cells": [
  {
   "cell_type": "code",
   "execution_count": 26,
   "metadata": {},
   "outputs": [
    {
     "data": {
      "text/plain": [
       "True"
      ]
     },
     "execution_count": 26,
     "metadata": {},
     "output_type": "execute_result"
    }
   ],
   "source": [
    "import os\n",
    "import json\n",
    "import datetime\n",
    "from dotenv import load_dotenv\n",
    "from time import sleep\n",
    "\n",
    "load_dotenv()  # take environment variables from .env."
   ]
  },
  {
   "cell_type": "code",
   "execution_count": 33,
   "metadata": {},
   "outputs": [],
   "source": [
    "# establish a connection to the PostgreSQL database\n",
    "import psycopg2 as pg\n",
    "\n",
    "conn = pg.connect(\n",
    "    dbname=os.environ[\"POSTGRES_DB\"],\n",
    "    user=os.environ[\"POSTGRES_USER\"],\n",
    "    password=os.environ[\"POSTGRES_PASSWORD\"],\n",
    "    host=os.environ[\"POSTGRES_HOST\"]\n",
    ")"
   ]
  },
  {
   "cell_type": "code",
   "execution_count": 4,
   "metadata": {},
   "outputs": [
    {
     "name": "stderr",
     "output_type": "stream",
     "text": [
      "/home/aleksey/Workspace/GameOntologyProject/venv/lib/python3.10/site-packages/google/auth/_default.py:76: UserWarning: Your application has authenticated using end user credentials from Google Cloud SDK without a quota project. You might receive a \"quota exceeded\" or \"API not enabled\" error. See the following page for troubleshooting: https://cloud.google.com/docs/authentication/adc-troubleshooting/user-creds. \n",
      "  warnings.warn(_CLOUD_SDK_CREDENTIALS_WARNING)\n"
     ]
    }
   ],
   "source": [
    "\"\"\"Publishes multiple messages to a Pub/Sub topic with an error handler.\"\"\"\n",
    "from concurrent import futures\n",
    "from google.cloud import pubsub_v1\n",
    "from typing import Callable\n",
    "\n",
    "\n",
    "project_id = \"vu-game-ontology\"\n",
    "topic_id = \"extract-entity\"\n",
    "\n",
    "publisher = pubsub_v1.PublisherClient()\n",
    "topic_path = publisher.topic_path(project_id, topic_id)\n",
    "\n",
    "\n",
    "def get_callback(\n",
    "    publish_future: pubsub_v1.publisher.futures.Future, data: str\n",
    ") -> Callable[[pubsub_v1.publisher.futures.Future], None]:\n",
    "    def callback(publish_future: pubsub_v1.publisher.futures.Future) -> None:\n",
    "        try:\n",
    "            # Wait 60 seconds for the publish call to succeed.\n",
    "            print(publish_future.result(timeout=60))\n",
    "        except futures.TimeoutError:\n",
    "            print(f\"Publishing {data} timed out.\")\n",
    "\n",
    "    return callback\n",
    "\n"
   ]
  },
  {
   "cell_type": "code",
   "execution_count": 48,
   "metadata": {},
   "outputs": [],
   "source": [
    "\n",
    "try:\n",
    "    cursor = conn.cursor()\n",
    "    cursor.execute(\"SELECT object_id FROM fandom_pages WHERE id < 2000 and object_id not in (SELECT object_id FROM fandom_entities)\")\n",
    "    object_ids = cursor.fetchall()\n",
    "except Exception as e:\n",
    "    conn.rollback()\n",
    "    print(e)\n",
    "finally:\n",
    "    cursor.close()\n",
    "\n"
   ]
  },
  {
   "cell_type": "code",
   "execution_count": 49,
   "metadata": {},
   "outputs": [
    {
     "data": {
      "text/plain": [
       "1000"
      ]
     },
     "execution_count": 49,
     "metadata": {},
     "output_type": "execute_result"
    }
   ],
   "source": [
    "len(object_ids)"
   ]
  },
  {
   "cell_type": "code",
   "execution_count": null,
   "metadata": {},
   "outputs": [],
   "source": [
    "publish_futures = []\n",
    "\n",
    "for i in object_ids[:10]:\n",
    "    data = i[0]\n",
    "    # When you publish a message, the client returns a future.\n",
    "    publish_future = publisher.publish(topic_path, data.encode(\"utf-8\"))\n",
    "    # Non-blocking. Publish failures are handled in the callback function.\n",
    "    publish_future.add_done_callback(get_callback(publish_future, data))\n",
    "    publish_futures.append(publish_future)\n",
    "\n",
    "# Wait for all the publish futures to resolve before exiting.\n",
    "futures.wait(publish_futures, return_when=futures.ALL_COMPLETED)\n",
    "\n",
    "print(f\"Published messages with error handler to {topic_path}.\")"
   ]
  },
  {
   "cell_type": "code",
   "execution_count": 50,
   "metadata": {},
   "outputs": [
    {
     "name": "stdout",
     "output_type": "stream",
     "text": [
      "0\n",
      "100\n",
      "200\n",
      "300\n",
      "400\n",
      "500\n",
      "600\n",
      "700\n",
      "800\n",
      "900\n"
     ]
    }
   ],
   "source": [
    "for i, obj in enumerate(object_ids):\n",
    "    if i % 100 == 0:\n",
    "        print(i)\n",
    "        sleep(20)\n",
    "\n",
    "    data = obj[0]\n",
    "    # When you publish a message, the client returns a future.\n",
    "    publish_future = publisher.publish(topic_path, data.encode(\"utf-8\"))\n",
    "    \n"
   ]
  },
  {
   "cell_type": "code",
   "execution_count": 55,
   "metadata": {},
   "outputs": [
    {
     "name": "stdout",
     "output_type": "stream",
     "text": [
      "Processing next 0 objects from 0000 to 1000\n",
      "Processing next 0 objects from 1000 to 2000\n",
      "Processing next 0 objects from 2000 to 3000\n",
      "Processing next 0 objects from 3000 to 4000\n",
      "Processing next 0 objects from 4000 to 5000\n",
      "Processing next 0 objects from 5000 to 6000\n",
      "Processing next 0 objects from 6000 to 7000\n",
      "Processing next 670 objects from 7000 to 8000\n",
      "0\n",
      "75\n",
      "150\n"
     ]
    },
    {
     "ename": "KeyboardInterrupt",
     "evalue": "",
     "output_type": "error",
     "traceback": [
      "\u001b[0;31m---------------------------------------------------------------------------\u001b[0m",
      "\u001b[0;31mKeyboardInterrupt\u001b[0m                         Traceback (most recent call last)",
      "Cell \u001b[0;32mIn[55], line 19\u001b[0m\n\u001b[1;32m     17\u001b[0m \u001b[38;5;28;01mif\u001b[39;00m i \u001b[38;5;241m%\u001b[39m \u001b[38;5;241m75\u001b[39m \u001b[38;5;241m==\u001b[39m \u001b[38;5;241m0\u001b[39m:\n\u001b[1;32m     18\u001b[0m     \u001b[38;5;28mprint\u001b[39m(i)\n\u001b[0;32m---> 19\u001b[0m     \u001b[43msleep\u001b[49m\u001b[43m(\u001b[49m\u001b[38;5;241;43m20\u001b[39;49m\u001b[43m)\u001b[49m\n\u001b[1;32m     21\u001b[0m data \u001b[38;5;241m=\u001b[39m obj[\u001b[38;5;241m0\u001b[39m]\n\u001b[1;32m     22\u001b[0m \u001b[38;5;66;03m# When you publish a message, the client returns a future.\u001b[39;00m\n",
      "\u001b[0;31mKeyboardInterrupt\u001b[0m: "
     ]
    }
   ],
   "source": [
    "for n in range(1,14):\n",
    "    \n",
    "    try:\n",
    "        cursor = conn.cursor()\n",
    "        cursor.execute(f\"SELECT object_id FROM fandom_pages WHERE id < {n}000 and object_id not in (SELECT object_id FROM fandom_entities)\")\n",
    "        object_ids = cursor.fetchall()\n",
    "    except Exception as e:\n",
    "        conn.rollback()\n",
    "        print(e)\n",
    "    finally:\n",
    "        cursor.close()\n",
    "\n",
    "\n",
    "    print(f\"Processing next {len(object_ids)} objects from {n-1}000 to {n}000\")\n",
    "    \n",
    "    for i, obj in enumerate(object_ids):\n",
    "        if i % 50 == 0:\n",
    "            print(i)\n",
    "            sleep(15)\n",
    "\n",
    "        data = obj[0]\n",
    "        # When you publish a message, the client returns a future.\n",
    "        publish_future = publisher.publish(topic_path, data.encode(\"utf-8\"))\n",
    "    if len(object_ids) > 100:\n",
    "        sleep(20)\n",
    "\n"
   ]
  },
  {
   "cell_type": "code",
   "execution_count": null,
   "metadata": {},
   "outputs": [],
   "source": []
  }
 ],
 "metadata": {
  "kernelspec": {
   "display_name": "venv",
   "language": "python",
   "name": "python3"
  },
  "language_info": {
   "codemirror_mode": {
    "name": "ipython",
    "version": 3
   },
   "file_extension": ".py",
   "mimetype": "text/x-python",
   "name": "python",
   "nbconvert_exporter": "python",
   "pygments_lexer": "ipython3",
   "version": "3.10.12"
  }
 },
 "nbformat": 4,
 "nbformat_minor": 2
}
