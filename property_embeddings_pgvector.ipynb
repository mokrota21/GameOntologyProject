{
 "cells": [
  {
   "cell_type": "code",
   "execution_count": null,
   "metadata": {},
   "outputs": [],
   "source": [
    "# !pip install -q torch transformers transformers accelerate bitsandbytes langchain sentence-transformers faiss-gpu openpyxl pacmap datasets langchain-community ragatouille"
   ]
  },
  {
   "cell_type": "code",
   "execution_count": 52,
   "metadata": {},
   "outputs": [],
   "source": [
    "from tqdm.notebook import tqdm\n",
    "import pandas as pd\n",
    "from typing import Optional, List, Tuple\n",
    "import matplotlib.pyplot as plt\n",
    "\n",
    "pd.set_option(\"display.max_colwidth\", None)  # This will be helpful when visualizing retriever outputs"
   ]
  },
  {
   "cell_type": "code",
   "execution_count": 53,
   "metadata": {},
   "outputs": [
    {
     "data": {
      "text/plain": [
       "True"
      ]
     },
     "execution_count": 53,
     "metadata": {},
     "output_type": "execute_result"
    }
   ],
   "source": [
    "from dotenv import load_dotenv\n",
    "from time import sleep\n",
    "import os\n",
    "import json\n",
    "\n",
    "load_dotenv()  # take environment variables from .env."
   ]
  },
  {
   "cell_type": "code",
   "execution_count": 54,
   "metadata": {},
   "outputs": [],
   "source": [
    "# establish a connection to the PostgreSQL database\n",
    "import psycopg2 as pg\n",
    "\n",
    "conn = pg.connect(\n",
    "    dbname=os.environ[\"POSTGRES_DB\"],\n",
    "    user=os.environ[\"POSTGRES_USER\"],\n",
    "    password=os.environ[\"POSTGRES_PASSWORD\"],\n",
    "    host=os.environ[\"POSTGRES_HOST\"]\n",
    ")"
   ]
  },
  {
   "cell_type": "code",
   "execution_count": 4,
   "metadata": {},
   "outputs": [
    {
     "name": "stderr",
     "output_type": "stream",
     "text": [
      "/tmp/ipykernel_197753/3706504822.py:1: UserWarning: pandas only supports SQLAlchemy connectable (engine/connection) or database string URI or sqlite3 DBAPI2 connection. Other DBAPI2 objects are not tested. Please consider using SQLAlchemy.\n",
      "  df = pd.read_sql_query(\n"
     ]
    }
   ],
   "source": [
    "df = pd.read_sql_query(\n",
    "    \"\"\"SELECT\n",
    "            fe.object_id as entity_id,\n",
    "            fe.name as entity_name,\n",
    "            fe.class as entity_class,\n",
    "            fe.subclass as entity_subclass,\n",
    "            fe.description as entity_description,\n",
    "\n",
    "            fp.id as property_id,\n",
    "            fp.property_name as property_name,\n",
    "            fp.description as property_description,\n",
    "            fp.target_entity as target_entity,\n",
    "            fp.target_class as target_class\n",
    "\n",
    "    FROM fandom_properties_clean fp join fandom_entities_clean fe on fp.object_id = fe.object_id;\"\"\",\n",
    "      conn)\n",
    "\n",
    "# id\tobject_id\tname\tvalue\tdescription\tparent\tcreated_at\tid\tobject_id\tname\tclass\tsubclass\tdescription\tcreated_at"
   ]
  },
  {
   "cell_type": "code",
   "execution_count": 5,
   "metadata": {},
   "outputs": [
    {
     "data": {
      "text/html": [
       "<div>\n",
       "<style scoped>\n",
       "    .dataframe tbody tr th:only-of-type {\n",
       "        vertical-align: middle;\n",
       "    }\n",
       "\n",
       "    .dataframe tbody tr th {\n",
       "        vertical-align: top;\n",
       "    }\n",
       "\n",
       "    .dataframe thead th {\n",
       "        text-align: right;\n",
       "    }\n",
       "</style>\n",
       "<table border=\"1\" class=\"dataframe\">\n",
       "  <thead>\n",
       "    <tr style=\"text-align: right;\">\n",
       "      <th></th>\n",
       "      <th>entity_id</th>\n",
       "      <th>entity_name</th>\n",
       "      <th>entity_class</th>\n",
       "      <th>entity_subclass</th>\n",
       "      <th>entity_description</th>\n",
       "      <th>property_id</th>\n",
       "      <th>property_name</th>\n",
       "      <th>property_description</th>\n",
       "      <th>target_entity</th>\n",
       "      <th>target_class</th>\n",
       "    </tr>\n",
       "  </thead>\n",
       "  <tbody>\n",
       "    <tr>\n",
       "      <th>0</th>\n",
       "      <td>67139f9e8f64cb721b2f3eec</td>\n",
       "      <td>Adam Holograd</td>\n",
       "      <td>Character</td>\n",
       "      <td>LordCommander</td>\n",
       "      <td>Adam Holograd is a character from the game Bravely Default, known as the Lord Commander of the Holograd Empire.</td>\n",
       "      <td>1</td>\n",
       "      <td>hasHome</td>\n",
       "      <td>The home location of the character.</td>\n",
       "      <td>Holograd</td>\n",
       "      <td>Location</td>\n",
       "    </tr>\n",
       "    <tr>\n",
       "      <th>1</th>\n",
       "      <td>67139f9e8f64cb721b2f3eec</td>\n",
       "      <td>Adam Holograd</td>\n",
       "      <td>Character</td>\n",
       "      <td>LordCommander</td>\n",
       "      <td>Adam Holograd is a character from the game Bravely Default, known as the Lord Commander of the Holograd Empire.</td>\n",
       "      <td>2</td>\n",
       "      <td>affiliatedWith</td>\n",
       "      <td>The faction or group the character is associated with.</td>\n",
       "      <td>Holograd Empire</td>\n",
       "      <td>Faction</td>\n",
       "    </tr>\n",
       "    <tr>\n",
       "      <th>2</th>\n",
       "      <td>67139f9e8f64cb721b2f3eec</td>\n",
       "      <td>Adam Holograd</td>\n",
       "      <td>Character</td>\n",
       "      <td>LordCommander</td>\n",
       "      <td>Adam Holograd is a character from the game Bravely Default, known as the Lord Commander of the Holograd Empire.</td>\n",
       "      <td>3</td>\n",
       "      <td>hasOccupation</td>\n",
       "      <td>The professional role or title held by the character.</td>\n",
       "      <td>Lord Commander of the Holograd Empire</td>\n",
       "      <td>Occupation</td>\n",
       "    </tr>\n",
       "    <tr>\n",
       "      <th>3</th>\n",
       "      <td>67139f9e8f64cb721b2f3eec</td>\n",
       "      <td>Adam Holograd</td>\n",
       "      <td>Character</td>\n",
       "      <td>LordCommander</td>\n",
       "      <td>Adam Holograd is a character from the game Bravely Default, known as the Lord Commander of the Holograd Empire.</td>\n",
       "      <td>4</td>\n",
       "      <td>hasRace</td>\n",
       "      <td>The racial identity of the character.</td>\n",
       "      <td>Human</td>\n",
       "      <td>Race</td>\n",
       "    </tr>\n",
       "    <tr>\n",
       "      <th>4</th>\n",
       "      <td>67139f9e8f64cb721b2f3eec</td>\n",
       "      <td>Adam Holograd</td>\n",
       "      <td>Character</td>\n",
       "      <td>LordCommander</td>\n",
       "      <td>Adam Holograd is a character from the game Bravely Default, known as the Lord Commander of the Holograd Empire.</td>\n",
       "      <td>5</td>\n",
       "      <td>hasGender</td>\n",
       "      <td>The gender identity of the character.</td>\n",
       "      <td>Male</td>\n",
       "      <td>Gender</td>\n",
       "    </tr>\n",
       "  </tbody>\n",
       "</table>\n",
       "</div>"
      ],
      "text/plain": [
       "                  entity_id    entity_name entity_class entity_subclass  \\\n",
       "0  67139f9e8f64cb721b2f3eec  Adam Holograd    Character   LordCommander   \n",
       "1  67139f9e8f64cb721b2f3eec  Adam Holograd    Character   LordCommander   \n",
       "2  67139f9e8f64cb721b2f3eec  Adam Holograd    Character   LordCommander   \n",
       "3  67139f9e8f64cb721b2f3eec  Adam Holograd    Character   LordCommander   \n",
       "4  67139f9e8f64cb721b2f3eec  Adam Holograd    Character   LordCommander   \n",
       "\n",
       "                                                                                                entity_description  \\\n",
       "0  Adam Holograd is a character from the game Bravely Default, known as the Lord Commander of the Holograd Empire.   \n",
       "1  Adam Holograd is a character from the game Bravely Default, known as the Lord Commander of the Holograd Empire.   \n",
       "2  Adam Holograd is a character from the game Bravely Default, known as the Lord Commander of the Holograd Empire.   \n",
       "3  Adam Holograd is a character from the game Bravely Default, known as the Lord Commander of the Holograd Empire.   \n",
       "4  Adam Holograd is a character from the game Bravely Default, known as the Lord Commander of the Holograd Empire.   \n",
       "\n",
       "   property_id   property_name  \\\n",
       "0            1         hasHome   \n",
       "1            2  affiliatedWith   \n",
       "2            3   hasOccupation   \n",
       "3            4         hasRace   \n",
       "4            5       hasGender   \n",
       "\n",
       "                                     property_description  \\\n",
       "0                     The home location of the character.   \n",
       "1  The faction or group the character is associated with.   \n",
       "2   The professional role or title held by the character.   \n",
       "3                   The racial identity of the character.   \n",
       "4                   The gender identity of the character.   \n",
       "\n",
       "                           target_entity target_class  \n",
       "0                               Holograd     Location  \n",
       "1                        Holograd Empire      Faction  \n",
       "2  Lord Commander of the Holograd Empire   Occupation  \n",
       "3                                  Human         Race  \n",
       "4                                   Male       Gender  "
      ]
     },
     "execution_count": 5,
     "metadata": {},
     "output_type": "execute_result"
    }
   ],
   "source": [
    "df.head()"
   ]
  },
  {
   "cell_type": "code",
   "execution_count": 6,
   "metadata": {},
   "outputs": [
    {
     "data": {
      "text/plain": [
       "(66246, 10)"
      ]
     },
     "execution_count": 6,
     "metadata": {},
     "output_type": "execute_result"
    }
   ],
   "source": [
    "df.shape"
   ]
  },
  {
   "cell_type": "markdown",
   "metadata": {},
   "source": [
    "\n",
    "## Create and populate Vectorstore using PostgreSQL and PGVector\n",
    "\n",
    "As described in LangChain docs:\n",
    "\n",
    "\"PGVector: An implementation of LangChain vectorstore abstraction using postgres as the backend and utilizing the pgvector extension.\"\n",
    "\n",
    "https://python.langchain.com/docs/integrations/vectorstores/pgvector/\n",
    "\n",
    "#### PGVector docs:\n",
    "https://api.python.langchain.com/en/latest/vectorstores/langchain_postgres.vectorstores.PGVector.html"
   ]
  },
  {
   "cell_type": "code",
   "execution_count": 55,
   "metadata": {},
   "outputs": [],
   "source": [
    "from langchain_openai import OpenAIEmbeddings\n",
    "\n",
    "embeddings_model = \"text-embedding-3-large\"\n",
    "dimensions = 256\n",
    "embeddings = OpenAIEmbeddings(model=embeddings_model, dimensions=dimensions)\n"
   ]
  },
  {
   "cell_type": "code",
   "execution_count": 56,
   "metadata": {},
   "outputs": [],
   "source": [
    "from langchain_postgres import PGVector\n",
    "from langchain_postgres.vectorstores import PGVector, DistanceStrategy\n",
    "\n",
    "# See docker command above to launch a postgres instance with pgvector enabled.\n",
    "connection = f'postgresql+psycopg://{os.environ[\"POSTGRES_USER\"]}:{os.environ[\"POSTGRES_PASSWORD\"]}@{os.environ[\"POSTGRES_HOST\"]}:5432/{os.environ[\"POSTGRES_DB_VECTOR\"]}'  # Uses psycopg3!\n",
    "collection_name = \"all_properties\"\n",
    "\n",
    "# https://api.python.langchain.com/en/latest/vectorstores/langchain_postgres.vectorstores.PGVector.html\n",
    "\n",
    "vector_store = PGVector(\n",
    "    embeddings=embeddings,\n",
    "    embedding_length=dimensions,\n",
    "    distance_strategy=DistanceStrategy.COSINE,\n",
    "    collection_name=collection_name,\n",
    "    connection=connection,\n",
    "    use_jsonb=True\n",
    ")"
   ]
  },
  {
   "cell_type": "markdown",
   "metadata": {},
   "source": [
    "## Prepare data queried from Postgres"
   ]
  },
  {
   "cell_type": "code",
   "execution_count": 10,
   "metadata": {},
   "outputs": [],
   "source": [
    "df_unique = df.drop_duplicates(subset=[\"property_name\", \"target_class\", \"entity_class\", \"property_description\"]).reset_index(drop=True)"
   ]
  },
  {
   "cell_type": "code",
   "execution_count": 11,
   "metadata": {},
   "outputs": [
    {
     "data": {
      "text/plain": [
       "(52352, 10)"
      ]
     },
     "execution_count": 11,
     "metadata": {},
     "output_type": "execute_result"
    }
   ],
   "source": [
    "df_unique.shape"
   ]
  },
  {
   "cell_type": "code",
   "execution_count": 12,
   "metadata": {},
   "outputs": [],
   "source": [
    "df_unique['id'] = df_unique.index"
   ]
  },
  {
   "cell_type": "code",
   "execution_count": 13,
   "metadata": {},
   "outputs": [
    {
     "data": {
      "text/plain": [
       "[{'entity_id': '67139f9e8f64cb721b2f3eec',\n",
       "  'entity_name': 'Adam Holograd',\n",
       "  'entity_class': 'Character',\n",
       "  'entity_subclass': 'LordCommander',\n",
       "  'entity_description': 'Adam Holograd is a character from the game Bravely Default, known as the Lord Commander of the Holograd Empire.',\n",
       "  'property_id': 1,\n",
       "  'property_name': 'hasHome',\n",
       "  'property_description': 'The home location of the character.',\n",
       "  'target_entity': 'Holograd',\n",
       "  'target_class': 'Location',\n",
       "  'id': 0},\n",
       " {'entity_id': '67139f9e8f64cb721b2f3eec',\n",
       "  'entity_name': 'Adam Holograd',\n",
       "  'entity_class': 'Character',\n",
       "  'entity_subclass': 'LordCommander',\n",
       "  'entity_description': 'Adam Holograd is a character from the game Bravely Default, known as the Lord Commander of the Holograd Empire.',\n",
       "  'property_id': 2,\n",
       "  'property_name': 'affiliatedWith',\n",
       "  'property_description': 'The faction or group the character is associated with.',\n",
       "  'target_entity': 'Holograd Empire',\n",
       "  'target_class': 'Faction',\n",
       "  'id': 1},\n",
       " {'entity_id': '67139f9e8f64cb721b2f3eec',\n",
       "  'entity_name': 'Adam Holograd',\n",
       "  'entity_class': 'Character',\n",
       "  'entity_subclass': 'LordCommander',\n",
       "  'entity_description': 'Adam Holograd is a character from the game Bravely Default, known as the Lord Commander of the Holograd Empire.',\n",
       "  'property_id': 3,\n",
       "  'property_name': 'hasOccupation',\n",
       "  'property_description': 'The professional role or title held by the character.',\n",
       "  'target_entity': 'Lord Commander of the Holograd Empire',\n",
       "  'target_class': 'Occupation',\n",
       "  'id': 2},\n",
       " {'entity_id': '67139f9e8f64cb721b2f3eec',\n",
       "  'entity_name': 'Adam Holograd',\n",
       "  'entity_class': 'Character',\n",
       "  'entity_subclass': 'LordCommander',\n",
       "  'entity_description': 'Adam Holograd is a character from the game Bravely Default, known as the Lord Commander of the Holograd Empire.',\n",
       "  'property_id': 4,\n",
       "  'property_name': 'hasRace',\n",
       "  'property_description': 'The racial identity of the character.',\n",
       "  'target_entity': 'Human',\n",
       "  'target_class': 'Race',\n",
       "  'id': 3},\n",
       " {'entity_id': '67139f9e8f64cb721b2f3eec',\n",
       "  'entity_name': 'Adam Holograd',\n",
       "  'entity_class': 'Character',\n",
       "  'entity_subclass': 'LordCommander',\n",
       "  'entity_description': 'Adam Holograd is a character from the game Bravely Default, known as the Lord Commander of the Holograd Empire.',\n",
       "  'property_id': 5,\n",
       "  'property_name': 'hasGender',\n",
       "  'property_description': 'The gender identity of the character.',\n",
       "  'target_entity': 'Male',\n",
       "  'target_class': 'Gender',\n",
       "  'id': 4}]"
      ]
     },
     "execution_count": 13,
     "metadata": {},
     "output_type": "execute_result"
    }
   ],
   "source": [
    "df_unique.head().to_dict(orient=\"records\")"
   ]
  },
  {
   "cell_type": "code",
   "execution_count": null,
   "metadata": {},
   "outputs": [
    {
     "data": {
      "application/vnd.jupyter.widget-view+json": {
       "model_id": "175d620f7a8d4446b0f2f1e5e2272703",
       "version_major": 2,
       "version_minor": 0
      },
      "text/plain": [
       "  0%|          | 0/52352 [00:00<?, ?it/s]"
      ]
     },
     "metadata": {},
     "output_type": "display_data"
    }
   ],
   "source": [
    "from langchain.docstore.document import Document\n",
    "\n",
    "docs = [\n",
    "    Document(\n",
    "        page_content=f\"Poperty name: '{doc['property_name']}'; property description: {doc['property_description']} This property applies to objects of class '{doc['entity_class']}' and has a target object or value with class '{doc['target_class']}'. \\\n",
    "Using OWL: '{doc['property_name']}' rdfs:comment '{doc['property_description']}'; rdfs:domain '{doc['entity_class']}'; rdfs:range '{doc['target_class']}'.\",\n",
    "        metadata={\n",
    "            \"id\": doc[\"id\"],\n",
    "            \"property_id\": doc[\"property_id\"],\n",
    "            \"entity_class\": doc[\"entity_class\"],\n",
    "            \"entity_subclass\": doc[\"entity_subclass\"],\n",
    "            \"property_name\": doc[\"property_name\"],\n",
    "            \"target_class\": doc[\"target_class\"],\n",
    "            \"property_description\": doc[\"property_description\"],\n",
    "            }\n",
    "        ) for doc in tqdm(df_unique.to_dict(orient=\"records\"))\n",
    "]"
   ]
  },
  {
   "cell_type": "markdown",
   "metadata": {},
   "source": [
    "## Create embeddings using OpenAI batch API"
   ]
  },
  {
   "cell_type": "code",
   "execution_count": 62,
   "metadata": {},
   "outputs": [
    {
     "data": {
      "application/vnd.jupyter.widget-view+json": {
       "model_id": "a7bde6eb218c476992ebdeaf8a144a1b",
       "version_major": 2,
       "version_minor": 0
      },
      "text/plain": [
       "  0%|          | 0/22352 [00:00<?, ?it/s]"
      ]
     },
     "metadata": {},
     "output_type": "display_data"
    }
   ],
   "source": [
    "batch_filename = f'batchinput_embed_properties_all_30K_2.jsonl'\n",
    "with open(batch_filename, 'w') as f:\n",
    "    for doc in tqdm(docs[30000:]):\n",
    "        request = {\n",
    "            \"custom_id\": str(doc.metadata['id']),\n",
    "            \"method\": \"POST\",\n",
    "            \"url\": \"/v1/embeddings\",\n",
    "            \"body\": {\n",
    "                \"input\": doc.page_content,\n",
    "                \"model\": embeddings_model,\n",
    "                \"encoding_format\": \"float\",\n",
    "                \"dimensions\": dimensions,\n",
    "                \"user\": \"user_001\",\n",
    "            }\n",
    "        }\n",
    "        json.dump(request, f)\n",
    "        f.write('\\n')\n"
   ]
  },
  {
   "cell_type": "code",
   "execution_count": null,
   "metadata": {},
   "outputs": [],
   "source": [
    "from openai import OpenAI\n",
    "client = OpenAI(api_key=os.environ['OPENAI_APIKEY'])\n",
    "\n",
    "batch_input_file = client.files.create(\n",
    "  file=open(batch_filename, \"rb\"),\n",
    "  purpose=\"batch\"\n",
    ")\n",
    "\n",
    "batch_input_file_id = batch_input_file.id\n",
    "\n",
    "batch_create_msg = client.batches.create(\n",
    "    input_file_id=batch_input_file_id,\n",
    "    endpoint=\"/v1/embeddings\",\n",
    "    completion_window=\"24h\",\n",
    "    metadata={\n",
    "      \"description\": f\"property embeddings all 30K 2\"\n",
    "    }\n",
    ")\n",
    "batch_create_msg"
   ]
  },
  {
   "cell_type": "code",
   "execution_count": 41,
   "metadata": {},
   "outputs": [
    {
     "name": "stdout",
     "output_type": "stream",
     "text": [
      "property embeddings all 30K 2 completed\n",
      "BatchRequestCounts(completed=22352, failed=0, total=22352)\n"
     ]
    }
   ],
   "source": [
    "# batch_info = client.batches.retrieve(batch_create_msg.id)\n",
    "batch_info = client.batches.retrieve(\"batch_6717c4726d148190b3d3bc2dc00093ac\")\n",
    "print(batch_info.metadata['description'], batch_info.status)\n",
    "print(batch_info.request_counts)"
   ]
  },
  {
   "cell_type": "code",
   "execution_count": 42,
   "metadata": {},
   "outputs": [
    {
     "data": {
      "text/plain": [
       "Batch(id='batch_6717c4726d148190b3d3bc2dc00093ac', completion_window='24h', created_at=1729610866, endpoint='/v1/embeddings', input_file_id='file-ixz7vab17rH55efmDx4NVAoj', object='batch', status='completed', cancelled_at=None, cancelling_at=None, completed_at=1729619794, error_file_id=None, errors=None, expired_at=None, expires_at=1729697266, failed_at=None, finalizing_at=1729616205, in_progress_at=1729610871, metadata={'description': 'property embeddings all 30K 2'}, output_file_id='file-cg9RXjCmd8KThPJbkIV0dT7P', request_counts=BatchRequestCounts(completed=22352, failed=0, total=22352))"
      ]
     },
     "execution_count": 42,
     "metadata": {},
     "output_type": "execute_result"
    }
   ],
   "source": [
    "batch_info"
   ]
  },
  {
   "cell_type": "code",
   "execution_count": 43,
   "metadata": {},
   "outputs": [],
   "source": [
    "batch_output_filename = 'batchoutput_embed_properties_all_30K_2.jsonl'"
   ]
  },
  {
   "cell_type": "code",
   "execution_count": 44,
   "metadata": {},
   "outputs": [
    {
     "name": "stdout",
     "output_type": "stream",
     "text": [
      "batchoutput_embed_properties_all_30K_2.jsonl completed.\n"
     ]
    }
   ],
   "source": [
    "if batch_info.status == 'completed':\n",
    "    file_response = client.files.content(batch_info.output_file_id)\n",
    "    with open(batch_output_filename, \"wb\") as f:\n",
    "        f.write(file_response.content)\n",
    "\n",
    "    print(f\"{batch_output_filename} completed.\")\n",
    "else:\n",
    "    print(f\"Batch job {batch_info.metadata['description']} is still {batch_info.status}.\")"
   ]
  },
  {
   "cell_type": "code",
   "execution_count": 45,
   "metadata": {},
   "outputs": [
    {
     "data": {
      "application/vnd.jupyter.widget-view+json": {
       "model_id": "fe9bce3dde7447a9a986b2405a9b9664",
       "version_major": 2,
       "version_minor": 0
      },
      "text/plain": [
       "0it [00:00, ?it/s]"
      ]
     },
     "metadata": {},
     "output_type": "display_data"
    }
   ],
   "source": [
    "\n",
    "batch_data = []\n",
    "with open(batch_output_filename, \"r\") as f:\n",
    "    for i, line in tqdm(enumerate(f)):\n",
    "        batch_data.append(json.loads(line))\n",
    "\n"
   ]
  },
  {
   "cell_type": "code",
   "execution_count": 46,
   "metadata": {},
   "outputs": [
    {
     "data": {
      "application/vnd.jupyter.widget-view+json": {
       "model_id": "6a8768c8e1514d2fb10059fef3229a37",
       "version_major": 2,
       "version_minor": 0
      },
      "text/plain": [
       "  0%|          | 0/22352 [00:00<?, ?it/s]"
      ]
     },
     "metadata": {},
     "output_type": "display_data"
    }
   ],
   "source": [
    "\n",
    "output_dicts = []\n",
    "for response in tqdm(batch_data):\n",
    "    content = {\n",
    "        \"id\": int(response[\"custom_id\"]),\n",
    "        \"embedding\": response[\"response\"][\"body\"][\"data\"][0][\"embedding\"]\n",
    "    }\n",
    "    # print(content)\n",
    "    # break\n",
    "    output_dicts.append(content)"
   ]
  },
  {
   "cell_type": "code",
   "execution_count": 47,
   "metadata": {},
   "outputs": [
    {
     "data": {
      "text/plain": [
       "256"
      ]
     },
     "execution_count": 47,
     "metadata": {},
     "output_type": "execute_result"
    }
   ],
   "source": [
    "len(output_dicts[0]['embedding'])"
   ]
  },
  {
   "cell_type": "code",
   "execution_count": 49,
   "metadata": {},
   "outputs": [
    {
     "data": {
      "application/vnd.jupyter.widget-view+json": {
       "model_id": "971e386f23f54057a48218add59c075d",
       "version_major": 2,
       "version_minor": 0
      },
      "text/plain": [
       "  0%|          | 0/30 [00:00<?, ?it/s]"
      ]
     },
     "metadata": {},
     "output_type": "display_data"
    },
    {
     "name": "stdout",
     "output_type": "stream",
     "text": [
      "Adding embeddings 0 to 1000...\n",
      "Adding embeddings 1000 to 2000...\n",
      "Adding embeddings 2000 to 3000...\n",
      "Adding embeddings 3000 to 4000...\n",
      "Adding embeddings 4000 to 5000...\n",
      "Adding embeddings 5000 to 6000...\n",
      "Adding embeddings 6000 to 7000...\n",
      "Adding embeddings 7000 to 8000...\n",
      "Adding embeddings 8000 to 9000...\n",
      "Adding embeddings 9000 to 10000...\n",
      "Adding embeddings 10000 to 11000...\n",
      "Adding embeddings 11000 to 12000...\n",
      "Adding embeddings 12000 to 13000...\n",
      "Adding embeddings 13000 to 14000...\n",
      "Adding embeddings 14000 to 15000...\n",
      "Adding embeddings 15000 to 16000...\n",
      "Adding embeddings 16000 to 17000...\n",
      "Adding embeddings 17000 to 18000...\n",
      "Adding embeddings 18000 to 19000...\n",
      "Adding embeddings 19000 to 20000...\n",
      "Adding embeddings 20000 to 21000...\n",
      "Adding embeddings 21000 to 22000...\n",
      "Adding embeddings 22000 to 23000...\n"
     ]
    }
   ],
   "source": [
    "# vector_store.add_documents(docs, ids=[doc.metadata[\"id\"] for doc in docs[:100]])\n",
    "for i in tqdm(range(30)):\n",
    "    start = i*1000\n",
    "    end = (i+1)*1000\n",
    "    if start > len(output_dicts):\n",
    "        break\n",
    "    print(f\"Adding embeddings {start} to {end}...\")\n",
    "    vector_store.add_embeddings(texts=[docs[em['id']].page_content for em in output_dicts[start:end]], embeddings=[em['embedding'] for em in output_dicts[start:end]], metadatas=[docs[em['id']].metadata for em in output_dicts[start:end]], ids=[em['id'] for em in output_dicts[start:end]])"
   ]
  },
  {
   "cell_type": "code",
   "execution_count": 60,
   "metadata": {},
   "outputs": [
    {
     "name": "stdout",
     "output_type": "stream",
     "text": [
      "* 0.3783160448074341 Poperty name: 'hasNumber'; property description: Specifies the numerical identifier of the in-game item. This property applies to objects of class 'Item' and has a target object or value with class 'DataValue'.             Using OWL: 'hasNumber' rdfs:comment 'Specifies the numerical identifier of the in-game item.'; rdfs:domain 'Item'; rdfs:range 'DataValue'. [{'id': 37877, 'property_id': 50397, 'entity_class': 'Item', 'target_class': 'DataValue', 'property_name': 'hasNumber', 'entity_subclass': 'Vehicle', 'property_description': 'Specifies the numerical identifier of the in-game item.'}]\n",
      "* 0.37843549251556396 Poperty name: 'hasValue'; property description: Represents the monetary value or importance of the item, if applicable. This property applies to objects of class 'Item' and has a target object or value with class 'DataValue'.             Using OWL: 'hasValue' rdfs:comment 'Represents the monetary value or importance of the item, if applicable.'; rdfs:domain 'Item'; rdfs:range 'DataValue'. [{'id': 50410, 'property_id': 59445, 'entity_class': 'Item', 'target_class': 'DataValue', 'property_name': 'hasValue', 'entity_subclass': 'Costume', 'property_description': 'Represents the monetary value or importance of the item, if applicable.'}]\n",
      "* 0.37922441959381104 Poperty name: 'hasValue'; property description: Represents the monetary value of the data artifact. This property applies to objects of class 'Item' and has a target object or value with class 'NumericValue'.             Using OWL: 'hasValue' rdfs:comment 'Represents the monetary value of the data artifact.'; rdfs:domain 'Item'; rdfs:range 'NumericValue'. [{'id': 51456, 'property_id': 35859, 'entity_class': 'Item', 'target_class': 'NumericValue', 'property_name': 'hasValue', 'entity_subclass': 'DataArtifact', 'property_description': 'Represents the monetary value of the data artifact.'}]\n",
      "* 0.3990377187728882 Poperty name: 'hasValue'; property description: Represents the monetary value of the item. This property applies to objects of class 'Item' and has a target object or value with class 'Number'.             Using OWL: 'hasValue' rdfs:comment 'Represents the monetary value of the item.'; rdfs:domain 'Item'; rdfs:range 'Number'. [{'id': 15906, 'property_id': 20626, 'entity_class': 'Item', 'target_class': 'Number', 'property_name': 'hasValue', 'entity_subclass': 'Armor', 'property_description': 'Represents the monetary value of the item.'}]\n",
      "* 0.40432951424541874 Poperty name: 'hasValue'; property description: Denotes the monetary value of the item. This property applies to objects of class 'Item' and has a target object or value with class 'Datatype'.             Using OWL: 'hasValue' rdfs:comment 'Denotes the monetary value of the item.'; rdfs:domain 'Item'; rdfs:range 'Datatype'. [{'id': 8063, 'property_id': 10303, 'entity_class': 'Item', 'target_class': 'Datatype', 'property_name': 'hasValue', 'entity_subclass': 'MechanicalItem', 'property_description': 'Denotes the monetary value of the item.'}]\n",
      "* 0.40450435876846313 Poperty name: 'hasNumber'; property description: Indicates the number associated with the item. This property applies to objects of class 'Item' and has a target object or value with class 'Number'.             Using OWL: 'hasNumber' rdfs:comment 'Indicates the number associated with the item.'; rdfs:domain 'Item'; rdfs:range 'Number'. [{'id': 38544, 'property_id': 51412, 'entity_class': 'Item', 'target_class': 'Number', 'property_name': 'hasNumber', 'entity_subclass': 'Weapon', 'property_description': 'Indicates the number associated with the item.'}]\n",
      "* 0.40546679496765137 Poperty name: 'hasBrickNumber'; property description: Indicates the unique brick number associated with this collectible. This property applies to objects of class 'Item' and has a target object or value with class 'DataValue'.             Using OWL: 'hasBrickNumber' rdfs:comment 'Indicates the unique brick number associated with this collectible.'; rdfs:domain 'Item'; rdfs:range 'DataValue'. [{'id': 50404, 'property_id': 40004, 'entity_class': 'Item', 'target_class': 'DataValue', 'property_name': 'hasBrickNumber', 'entity_subclass': 'Collectible', 'property_description': 'Indicates the unique brick number associated with this collectible.'}]\n",
      "* 0.4063265323638916 Poperty name: 'hasAge'; property description: Represents the age of the character. This property applies to objects of class 'Character' and has a target object or value with class 'DataValue'.             Using OWL: 'hasAge' rdfs:comment 'Represents the age of the character.'; rdfs:domain 'Character'; rdfs:range 'DataValue'. [{'id': 13400, 'property_id': 17402, 'entity_class': 'Character', 'target_class': 'DataValue', 'property_name': 'hasAge', 'entity_subclass': 'NPC', 'property_description': 'Represents the age of the character.'}]\n",
      "* 0.40704113245010376 Poperty name: 'hasValue'; property description: Represents the monetary value of the item. This property applies to objects of class 'Item' and has a target object or value with class 'Datatype'.             Using OWL: 'hasValue' rdfs:comment 'Represents the monetary value of the item.'; rdfs:domain 'Item'; rdfs:range 'Datatype'. [{'id': 10927, 'property_id': 14036, 'entity_class': 'Item', 'target_class': 'Datatype', 'property_name': 'hasValue', 'entity_subclass': 'Ammunition', 'property_description': 'Represents the monetary value of the item.'}]\n",
      "* 0.4073229189322629 Poperty name: 'speed'; property description: The maximum speed the item can achieve, expressed as a percentage. This property applies to objects of class 'Item' and has a target object or value with class 'DataValue'.             Using OWL: 'speed' rdfs:comment 'The maximum speed the item can achieve, expressed as a percentage.'; rdfs:domain 'Item'; rdfs:range 'DataValue'. [{'id': 20127, 'property_id': 26297, 'entity_class': 'Item', 'target_class': 'DataValue', 'property_name': 'speed', 'entity_subclass': 'Equipment', 'property_description': 'The maximum speed the item can achieve, expressed as a percentage.'}]\n",
      "* 0.40750721648292343 Poperty name: 'hasCostData'; property description: Represents the cost in data for using the item. This property applies to objects of class 'Item' and has a target object or value with class 'NumericValue'.             Using OWL: 'hasCostData' rdfs:comment 'Represents the cost in data for using the item.'; rdfs:domain 'Item'; rdfs:range 'NumericValue'. [{'id': 39588, 'property_id': 52862, 'entity_class': 'Item', 'target_class': 'NumericValue', 'property_name': 'hasCostData', 'entity_subclass': 'Consumable', 'property_description': 'Represents the cost in data for using the item.'}]\n",
      "* 0.40818631649017334 Poperty name: 'hasAge'; property description: Represents the age of the character, which can be unknown, specified, or otherwise. This property applies to objects of class 'Character' and has a target object or value with class 'DataValue'.             Using OWL: 'hasAge' rdfs:comment 'Represents the age of the character, which can be unknown, specified, or otherwise.'; rdfs:domain 'Character'; rdfs:range 'DataValue'. [{'id': 46962, 'property_id': 63067, 'entity_class': 'Character', 'target_class': 'DataValue', 'property_name': 'hasAge', 'entity_subclass': 'NPC', 'property_description': 'Represents the age of the character, which can be unknown, specified, or otherwise.'}]\n",
      "* 0.40843681718220737 Poperty name: 'hasValue'; property description: The monetary worth of the item when in perfect condition. This property applies to objects of class 'Item' and has a target object or value with class 'DatatypeProperty'.             Using OWL: 'hasValue' rdfs:comment 'The monetary worth of the item when in perfect condition.'; rdfs:domain 'Item'; rdfs:range 'DatatypeProperty'. [{'id': 16380, 'property_id': 21256, 'entity_class': 'Item', 'target_class': 'DatatypeProperty', 'property_name': 'hasValue', 'entity_subclass': 'Consumable', 'property_description': 'The monetary worth of the item when in perfect condition.'}]\n",
      "* 0.4100361466407776 Poperty name: 'hasAge'; property description: The character's age or age range. This property applies to objects of class 'Character' and has a target object or value with class 'DataValue'.             Using OWL: 'hasAge' rdfs:comment 'The character's age or age range.'; rdfs:domain 'Character'; rdfs:range 'DataValue'. [{'id': 22722, 'property_id': 29554, 'entity_class': 'Character', 'target_class': 'DataValue', 'property_name': 'hasAge', 'entity_subclass': 'NPC', 'property_description': \"The character's age or age range.\"}]\n",
      "* 0.41158735752105713 Poperty name: 'hasAge'; property description: Indicates the age of the character. This property applies to objects of class 'Character' and has a target object or value with class 'DataValue'.             Using OWL: 'hasAge' rdfs:comment 'Indicates the age of the character.'; rdfs:domain 'Character'; rdfs:range 'DataValue'. [{'id': 13084, 'property_id': 16971, 'entity_class': 'Character', 'target_class': 'DataValue', 'property_name': 'hasAge', 'entity_subclass': 'PirateCaptain', 'property_description': 'Indicates the age of the character.'}]\n",
      "* 0.4121053218841553 Poperty name: 'hasValue'; property description: The monetary value of the item. This property applies to objects of class 'Item' and has a target object or value with class 'NumericValue'.             Using OWL: 'hasValue' rdfs:comment 'The monetary value of the item.'; rdfs:domain 'Item'; rdfs:range 'NumericValue'. [{'id': 15884, 'property_id': 20601, 'entity_class': 'Item', 'target_class': 'NumericValue', 'property_name': 'hasValue', 'entity_subclass': 'Trap', 'property_description': 'The monetary value of the item.'}]\n",
      "* 0.4123457424434567 Poperty name: 'hasNumber'; property description: Refers to the unique identifier associated with the weapon. This property applies to objects of class 'Item' and has a target object or value with class 'DataValue'.             Using OWL: 'hasNumber' rdfs:comment 'Refers to the unique identifier associated with the weapon.'; rdfs:domain 'Item'; rdfs:range 'DataValue'. [{'id': 50370, 'property_id': 51371, 'entity_class': 'Item', 'target_class': 'DataValue', 'property_name': 'hasNumber', 'entity_subclass': 'Weapon', 'property_description': 'Refers to the unique identifier associated with the weapon.'}]\n",
      "* 0.41387469296526913 Poperty name: 'age'; property description: The age of the character, which can be interpreted differently. This property applies to objects of class 'Character' and has a target object or value with class 'DataValue'.             Using OWL: 'age' rdfs:comment 'The age of the character, which can be interpreted differently.'; rdfs:domain 'Character'; rdfs:range 'DataValue'. [{'id': 13279, 'property_id': 17234, 'entity_class': 'Character', 'target_class': 'DataValue', 'property_name': 'age', 'entity_subclass': 'NPC', 'property_description': 'The age of the character, which can be interpreted differently.'}]\n",
      "* 0.414168119430542 Poperty name: 'hasAge'; property description: The age of the character, often stated in terms of ranges or categories. This property applies to objects of class 'Character' and has a target object or value with class 'DataValue'.             Using OWL: 'hasAge' rdfs:comment 'The age of the character, often stated in terms of ranges or categories.'; rdfs:domain 'Character'; rdfs:range 'DataValue'. [{'id': 22726, 'property_id': 29560, 'entity_class': 'Character', 'target_class': 'DataValue', 'property_name': 'hasAge', 'entity_subclass': 'PlayableCharacter', 'property_description': 'The age of the character, often stated in terms of ranges or categories.'}]\n",
      "* 0.41465306282043457 Poperty name: 'hasNumber'; property description: The identification number assigned to the item. This property applies to objects of class 'Item' and has a target object or value with class 'Data'.             Using OWL: 'hasNumber' rdfs:comment 'The identification number assigned to the item.'; rdfs:domain 'Item'; rdfs:range 'Data'. [{'id': 38498, 'property_id': 51354, 'entity_class': 'Item', 'target_class': 'Data', 'property_name': 'hasNumber', 'entity_subclass': 'Vehicle', 'property_description': 'The identification number assigned to the item.'}]\n",
      "* 0.415523886680603 Poperty name: 'hasDamage'; property description: Represents the amount of damage dealt by the weapon, often expressed with scaling values. This property applies to objects of class 'Item' and has a target object or value with class 'DataProperty'.             Using OWL: 'hasDamage' rdfs:comment 'Represents the amount of damage dealt by the weapon, often expressed with scaling values.'; rdfs:domain 'Item'; rdfs:range 'DataProperty'. [{'id': 19133, 'property_id': 24886, 'entity_class': 'Item', 'target_class': 'DataProperty', 'property_name': 'hasDamage', 'entity_subclass': 'Weapon', 'property_description': 'Represents the amount of damage dealt by the weapon, often expressed with scaling values.'}]\n",
      "* 0.4162153353562741 Poperty name: 'value'; property description: Indicates the value of the item in points and in game currency. This property applies to objects of class 'Item' and has a target object or value with class 'DataValue'.             Using OWL: 'value' rdfs:comment 'Indicates the value of the item in points and in game currency.'; rdfs:domain 'Item'; rdfs:range 'DataValue'. [{'id': 50382, 'property_id': 2557, 'entity_class': 'Item', 'target_class': 'DataValue', 'property_name': 'value', 'entity_subclass': 'Weapon', 'property_description': 'Indicates the value of the item in points and in game currency.'}]\n",
      "* 0.4164159645786296 Poperty name: 'value'; property description: The monetary value of the item. This property applies to objects of class 'Item' and has a target object or value with class 'Number'.             Using OWL: 'value' rdfs:comment 'The monetary value of the item.'; rdfs:domain 'Item'; rdfs:range 'Number'. [{'id': 40913, 'property_id': 54770, 'entity_class': 'Item', 'target_class': 'Number', 'property_name': 'value', 'entity_subclass': 'Drug', 'property_description': 'The monetary value of the item.'}]\n",
      "* 0.41693077733906414 Poperty name: 'hasAge'; property description: The age of the character. This property applies to objects of class 'Character' and has a target object or value with class 'DataValue'.             Using OWL: 'hasAge' rdfs:comment 'The age of the character.'; rdfs:domain 'Character'; rdfs:range 'DataValue'. [{'id': 4678, 'property_id': 5843, 'entity_class': 'Character', 'target_class': 'DataValue', 'property_name': 'hasAge', 'entity_subclass': 'NPC', 'property_description': 'The age of the character.'}]\n",
      "* 0.41695451736450195 Poperty name: 'hasDamage'; property description: Indicates the damage points inflicted by the item. This property applies to objects of class 'Item' and has a target object or value with class 'Number'.             Using OWL: 'hasDamage' rdfs:comment 'Indicates the damage points inflicted by the item.'; rdfs:domain 'Item'; rdfs:range 'Number'. [{'id': 51369, 'property_id': 39589, 'entity_class': 'Item', 'target_class': 'Number', 'property_name': 'hasDamage', 'entity_subclass': 'Weapon', 'property_description': 'Indicates the damage points inflicted by the item.'}]\n",
      "* 0.4174398606252626 Poperty name: 'hasDamage'; property description: Denotes the damage dealt by the projectile. This property applies to objects of class 'Item' and has a target object or value with class 'Number'.             Using OWL: 'hasDamage' rdfs:comment 'Denotes the damage dealt by the projectile.'; rdfs:domain 'Item'; rdfs:range 'Number'. [{'id': 26072, 'property_id': 34210, 'entity_class': 'Item', 'target_class': 'Number', 'property_name': 'hasDamage', 'entity_subclass': 'Projectile', 'property_description': 'Denotes the damage dealt by the projectile.'}]\n",
      "* 0.4179540276527405 Poperty name: 'age'; property description: The age of the character, if known. This property applies to objects of class 'Character' and has a target object or value with class 'DataProperty'.             Using OWL: 'age' rdfs:comment 'The age of the character, if known.'; rdfs:domain 'Character'; rdfs:range 'DataProperty'. [{'id': 41132, 'property_id': 55076, 'entity_class': 'Character', 'target_class': 'DataProperty', 'property_name': 'age', 'entity_subclass': 'NPC', 'property_description': 'The age of the character, if known.'}]\n",
      "* 0.4180668592453003 Poperty name: 'hasAge'; property description: Represents the age of the character, which may affect their experience or abilities. This property applies to objects of class 'Character' and has a target object or value with class 'DataValue'.             Using OWL: 'hasAge' rdfs:comment 'Represents the age of the character, which may affect their experience or abilities.'; rdfs:domain 'Character'; rdfs:range 'DataValue'. [{'id': 8990, 'property_id': 11550, 'entity_class': 'Character', 'target_class': 'DataValue', 'property_name': 'hasAge', 'entity_subclass': 'Hero', 'property_description': 'Represents the age of the character, which may affect their experience or abilities.'}]\n",
      "* 0.41898757219314575 Poperty name: 'hasBodyDamage'; property description: The percentage of damage dealt to body shots. This property applies to objects of class 'Item' and has a target object or value with class 'Percentage'.             Using OWL: 'hasBodyDamage' rdfs:comment 'The percentage of damage dealt to body shots.'; rdfs:domain 'Item'; rdfs:range 'Percentage'. [{'id': 23884, 'property_id': 31092, 'entity_class': 'Item', 'target_class': 'Percentage', 'property_name': 'hasBodyDamage', 'entity_subclass': 'Weapon', 'property_description': 'The percentage of damage dealt to body shots.'}]\n",
      "* 0.41947752237319946 Poperty name: 'hasDamage'; property description: The damage dealt by the weapon per hit, measured in numeric value. This property applies to objects of class 'Item' and has a target object or value with class 'DataProperty'.             Using OWL: 'hasDamage' rdfs:comment 'The damage dealt by the weapon per hit, measured in numeric value.'; rdfs:domain 'Item'; rdfs:range 'DataProperty'. [{'id': 35231, 'property_id': 46743, 'entity_class': 'Item', 'target_class': 'DataProperty', 'property_name': 'hasDamage', 'entity_subclass': 'Weapon', 'property_description': 'The damage dealt by the weapon per hit, measured in numeric value.'}]\n",
      "* 0.4197401154196183 Poperty name: 'damage'; property description: The range of damage the character can inflict. This property applies to objects of class 'Character' and has a target object or value with class 'DataValue'.             Using OWL: 'damage' rdfs:comment 'The range of damage the character can inflict.'; rdfs:domain 'Character'; rdfs:range 'DataValue'. [{'id': 12572, 'property_id': 16387, 'entity_class': 'Character', 'target_class': 'DataValue', 'property_name': 'damage', 'entity_subclass': 'RangedTroop', 'property_description': 'The range of damage the character can inflict.'}]\n",
      "* 0.4197790026664734 Poperty name: 'age'; property description: The age of the character, if known. This property applies to objects of class 'Character' and has a target object or value with class 'DataValue'.             Using OWL: 'age' rdfs:comment 'The age of the character, if known.'; rdfs:domain 'Character'; rdfs:range 'DataValue'. [{'id': 41151, 'property_id': 55100, 'entity_class': 'Character', 'target_class': 'DataValue', 'property_name': 'age', 'entity_subclass': 'NPC', 'property_description': 'The age of the character, if known.'}]\n",
      "* 0.41996887803263094 Poperty name: 'hasDamage'; property description: The damage range of the weapon, indicative of its power in gameplay. This property applies to objects of class 'Item' and has a target object or value with class 'DataValue'.             Using OWL: 'hasDamage' rdfs:comment 'The damage range of the weapon, indicative of its power in gameplay.'; rdfs:domain 'Item'; rdfs:range 'DataValue'. [{'id': 19112, 'property_id': 24865, 'entity_class': 'Item', 'target_class': 'DataValue', 'property_name': 'hasDamage', 'entity_subclass': 'Source', 'property_description': 'The damage range of the weapon, indicative of its power in gameplay.'}]\n",
      "* 0.42087483406066895 Poperty name: 'brickNumber'; property description: The unique identifier for the collectible brick. This property applies to objects of class 'Item' and has a target object or value with class 'DataValue'.             Using OWL: 'brickNumber' rdfs:comment 'The unique identifier for the collectible brick.'; rdfs:domain 'Item'; rdfs:range 'DataValue'. [{'id': 30315, 'property_id': 40001, 'entity_class': 'Item', 'target_class': 'DataValue', 'property_name': 'brickNumber', 'entity_subclass': 'Collectible', 'property_description': 'The unique identifier for the collectible brick.'}]\n",
      "* 0.42194649111905536 Poperty name: 'damage'; property description: The total damage dealt on a hit, influenced by various factors. This property applies to objects of class 'Item' and has a target object or value with class 'Number'.             Using OWL: 'damage' rdfs:comment 'The total damage dealt on a hit, influenced by various factors.'; rdfs:domain 'Item'; rdfs:range 'Number'. [{'id': 45393, 'property_id': 60843, 'entity_class': 'Item', 'target_class': 'Number', 'property_name': 'damage', 'entity_subclass': 'Weapon', 'property_description': 'The total damage dealt on a hit, influenced by various factors.'}]\n",
      "* 0.4221610426902771 Poperty name: 'hasValue'; property description: The monetary value of the fish. This property applies to objects of class 'Item' and has a target object or value with class 'Data'.             Using OWL: 'hasValue' rdfs:comment 'The monetary value of the fish.'; rdfs:domain 'Item'; rdfs:range 'Data'. [{'id': 17135, 'property_id': 22196, 'entity_class': 'Item', 'target_class': 'Data', 'property_name': 'hasValue', 'entity_subclass': 'Fish', 'property_description': 'The monetary value of the fish.'}]\n",
      "* 0.42216700315475464 Poperty name: 'hasValue'; property description: Represents the monetary value of the item in game. This property applies to objects of class 'Item' and has a target object or value with class 'DataValue'.             Using OWL: 'hasValue' rdfs:comment 'Represents the monetary value of the item in game.'; rdfs:domain 'Item'; rdfs:range 'DataValue'. [{'id': 17563, 'property_id': 22763, 'entity_class': 'Item', 'target_class': 'DataValue', 'property_name': 'hasValue', 'entity_subclass': 'Material', 'property_description': 'Represents the monetary value of the item in game.'}]\n",
      "* 0.4224242568016052 Poperty name: 'hasDamage'; property description: Indicates the amount of damage the item can deal. This property applies to objects of class 'Item' and has a target object or value with class 'Number'.             Using OWL: 'hasDamage' rdfs:comment 'Indicates the amount of damage the item can deal.'; rdfs:domain 'Item'; rdfs:range 'Number'. [{'id': 10960, 'property_id': 14103, 'entity_class': 'Item', 'target_class': 'Number', 'property_name': 'hasDamage', 'entity_subclass': 'Magic', 'property_description': 'Indicates the amount of damage the item can deal.'}]\n",
      "* 0.4231192893719459 Poperty name: 'hasAge'; property description: The age of the character, often relevant in backstories or plot points. This property applies to objects of class 'Character' and has a target object or value with class 'DataProperty'.             Using OWL: 'hasAge' rdfs:comment 'The age of the character, often relevant in backstories or plot points.'; rdfs:domain 'Character'; rdfs:range 'DataProperty'. [{'id': 35024, 'property_id': 46472, 'entity_class': 'Character', 'target_class': 'DataProperty', 'property_name': 'hasAge', 'entity_subclass': 'Villain', 'property_description': 'The age of the character, often relevant in backstories or plot points.'}]\n",
      "* 0.4232220477826011 Poperty name: 'hasValue'; property description: Denotes the monetary value of the item for trade. This property applies to objects of class 'Item' and has a target object or value with class 'Number'.             Using OWL: 'hasValue' rdfs:comment 'Denotes the monetary value of the item for trade.'; rdfs:domain 'Item'; rdfs:range 'Number'. [{'id': 10873, 'property_id': 14017, 'entity_class': 'Item', 'target_class': 'Number', 'property_name': 'hasValue', 'entity_subclass': 'Weapon', 'property_description': 'Denotes the monetary value of the item for trade.'}]\n",
      "* 0.42333636949468734 Poperty name: 'hasRange'; property description: Represents the attack range of the character. This property applies to objects of class 'Character' and has a target object or value with class 'DataValue'.             Using OWL: 'hasRange' rdfs:comment 'Represents the attack range of the character.'; rdfs:domain 'Character'; rdfs:range 'DataValue'. [{'id': 25587, 'property_id': 33550, 'entity_class': 'Character', 'target_class': 'DataValue', 'property_name': 'hasRange', 'entity_subclass': 'UnknownCharacter', 'property_description': 'Represents the attack range of the character.'}]\n",
      "* 0.4236522912979126 Poperty name: 'age'; property description: The age of the character, which is unknown. This property applies to objects of class 'Character' and has a target object or value with class 'Data'.             Using OWL: 'age' rdfs:comment 'The age of the character, which is unknown.'; rdfs:domain 'Character'; rdfs:range 'Data'. [{'id': 41186, 'property_id': 55153, 'entity_class': 'Character', 'target_class': 'Data', 'property_name': 'age', 'entity_subclass': 'Robber', 'property_description': 'The age of the character, which is unknown.'}]\n",
      "* 0.42421403075540143 Poperty name: 'hasValue'; property description: Indicates the monetary value of the item based on its condition. This property applies to objects of class 'Item' and has a target object or value with class 'Value'.             Using OWL: 'hasValue' rdfs:comment 'Indicates the monetary value of the item based on its condition.'; rdfs:domain 'Item'; rdfs:range 'Value'. [{'id': 16360, 'property_id': 21267, 'entity_class': 'Item', 'target_class': 'Value', 'property_name': 'hasValue', 'entity_subclass': 'Consumable', 'property_description': 'Indicates the monetary value of the item based on its condition.'}]\n",
      "* 0.4243137240409851 Poperty name: 'hasValue'; property description: Specifies the numerical value of the in-game item. This property applies to objects of class 'Item' and has a target object or value with class 'Number'.             Using OWL: 'hasValue' rdfs:comment 'Specifies the numerical value of the in-game item.'; rdfs:domain 'Item'; rdfs:range 'Number'. [{'id': 27316, 'property_id': 35753, 'entity_class': 'Item', 'target_class': 'Number', 'property_name': 'hasValue', 'entity_subclass': 'AccessCard', 'property_description': 'Specifies the numerical value of the in-game item.'}]\n",
      "* 0.4246269464492798 Poperty name: 'hasAge'; property description: The age of the character, indicating their experience and history. This property applies to objects of class 'Character' and has a target object or value with class 'DataValue'.             Using OWL: 'hasAge' rdfs:comment 'The age of the character, indicating their experience and history.'; rdfs:domain 'Character'; rdfs:range 'DataValue'. [{'id': 9059, 'property_id': 11635, 'entity_class': 'Character', 'target_class': 'DataValue', 'property_name': 'hasAge', 'entity_subclass': 'Cyborg', 'property_description': 'The age of the character, indicating their experience and history.'}]\n",
      "* 0.4249831438064575 Poperty name: 'hasAge'; property description: The age of the character. This property applies to objects of class 'Character' and has a target object or value with class 'DataProperty'.             Using OWL: 'hasAge' rdfs:comment 'The age of the character.'; rdfs:domain 'Character'; rdfs:range 'DataProperty'. [{'id': 37716, 'property_id': 50155, 'entity_class': 'Character', 'target_class': 'DataProperty', 'property_name': 'hasAge', 'entity_subclass': 'Hero', 'property_description': 'The age of the character.'}]\n",
      "* 0.4256497963875643 Poperty name: 'hasDamage'; property description: Defines the damage output of the weapon, indicating its effectiveness in combat. This property applies to objects of class 'Item' and has a target object or value with class 'DataProperty'.             Using OWL: 'hasDamage' rdfs:comment 'Defines the damage output of the weapon, indicating its effectiveness in combat.'; rdfs:domain 'Item'; rdfs:range 'DataProperty'. [{'id': 48265, 'property_id': 64861, 'entity_class': 'Item', 'target_class': 'DataProperty', 'property_name': 'hasDamage', 'entity_subclass': 'Weapon', 'property_description': 'Defines the damage output of the weapon, indicating its effectiveness in combat.'}]\n",
      "* 0.42589622735977173 Poperty name: 'age'; property description: The age of the character, if known. This property applies to objects of class 'Character' and has a target object or value with class 'Data'.             Using OWL: 'age' rdfs:comment 'The age of the character, if known.'; rdfs:domain 'Character'; rdfs:range 'Data'. [{'id': 41211, 'property_id': 55184, 'entity_class': 'Character', 'target_class': 'Data', 'property_name': 'age', 'entity_subclass': 'NPC', 'property_description': 'The age of the character, if known.'}]\n",
      "* 0.42598116397857666 Poperty name: 'hasAge'; property description: The age of the character. This property applies to objects of class 'Character' and has a target object or value with class 'Data'.             Using OWL: 'hasAge' rdfs:comment 'The age of the character.'; rdfs:domain 'Character'; rdfs:range 'Data'. [{'id': 23138, 'property_id': 30111, 'entity_class': 'Character', 'target_class': 'Data', 'property_name': 'hasAge', 'entity_subclass': 'BossCharacter', 'property_description': 'The age of the character.'}]\n",
      "* 0.4263770580291748 Poperty name: 'hasValue'; property description: Represents the monetary value of the entity. This property applies to objects of class 'Item' and has a target object or value with class 'MonetaryValue'.             Using OWL: 'hasValue' rdfs:comment 'Represents the monetary value of the entity.'; rdfs:domain 'Item'; rdfs:range 'MonetaryValue'. [{'id': 17125, 'property_id': 22167, 'entity_class': 'Item', 'target_class': 'MonetaryValue', 'property_name': 'hasValue', 'entity_subclass': 'Fish', 'property_description': 'Represents the monetary value of the entity.'}]\n"
     ]
    }
   ],
   "source": [
    "query = \"data property that describes or points to a Number or Data Vaue\"\n",
    "\n",
    "results = vector_store.similarity_search_with_score(\n",
    "    query=query,\n",
    "    k=50,\n",
    "    filter={\n",
    "        # \"entity_class\": {\"$in\": ['Game']},\n",
    "        # \"target_class\": {\"$in\": ['Location', 'City']}\n",
    "    }\n",
    ")\n",
    "for doc in results:\n",
    "    print(f\"* {doc[1]} {doc[0].page_content} [{doc[0].metadata}]\")"
   ]
  },
  {
   "cell_type": "code",
   "execution_count": null,
   "metadata": {},
   "outputs": [],
   "source": [
    "query = \"property of a game that describes the developer/designer of the game\"\n",
    "\n",
    "response = client.embeddings.create(\n",
    "    model=embeddings_model, input=query, encoding_format=\"float\", dimensions=dimensions\n",
    ")\n",
    "\n",
    "embedding = response.data[0].embedding\n",
    "\n",
    "results = vector_store.similarity_search_with_score_by_vector(\n",
    "    embedding=embedding,\n",
    "    k=50,\n",
    "    filter={\n",
    "        \"entity_class\": {\"$in\": ['Game']},\n",
    "        # \"target_class\": {\"$in\": ['Location', 'City']}\n",
    "    }\n",
    ")\n",
    "for doc in results:\n",
    "    print(f\"* {doc[1]} {doc[0].page_content} [{doc[0].metadata}]\")"
   ]
  },
  {
   "cell_type": "code",
   "execution_count": 33,
   "metadata": {},
   "outputs": [
    {
     "data": {
      "text/plain": [
       "(Document(id='20732', metadata={'id': 20732, 'property_id': 27045, 'entity_class': 'Character', 'target_class': 'Designer', 'property_name': 'characterDesignBy', 'entity_subclass': 'Hero', 'property_description': \"Indicates the designer responsible for creating the character's appearance.\"}, page_content=\"Poperty name: 'characterDesignBy'; property description: Indicates the designer responsible for creating the character's appearance. This property applies to objects of class 'Character' and has a target object or value with class 'Designer'.             Using OWL: 'characterDesignBy' rdfs:comment 'Indicates the designer responsible for creating the character's appearance.'; rdfs:domain 'Character'; rdfs:range 'Designer'.\"),\n",
       " 0.24955305462443178)"
      ]
     },
     "execution_count": 33,
     "metadata": {},
     "output_type": "execute_result"
    }
   ],
   "source": [
    "results[0]"
   ]
  },
  {
   "cell_type": "code",
   "execution_count": null,
   "metadata": {},
   "outputs": [],
   "source": [
    "# vector_store.delete(ids=[str(i) for i in range(1000)])"
   ]
  },
  {
   "cell_type": "code",
   "execution_count": 1,
   "metadata": {},
   "outputs": [
    {
     "ename": "ModuleNotFoundError",
     "evalue": "No module named 'plotly'",
     "output_type": "error",
     "traceback": [
      "\u001b[0;31m---------------------------------------------------------------------------\u001b[0m",
      "\u001b[0;31mModuleNotFoundError\u001b[0m                       Traceback (most recent call last)",
      "Cell \u001b[0;32mIn[1], line 3\u001b[0m\n\u001b[1;32m      1\u001b[0m \u001b[38;5;28;01mimport\u001b[39;00m \u001b[38;5;21;01mpacmap\u001b[39;00m\n\u001b[1;32m      2\u001b[0m \u001b[38;5;28;01mimport\u001b[39;00m \u001b[38;5;21;01mnumpy\u001b[39;00m \u001b[38;5;28;01mas\u001b[39;00m \u001b[38;5;21;01mnp\u001b[39;00m\n\u001b[0;32m----> 3\u001b[0m \u001b[38;5;28;01mimport\u001b[39;00m \u001b[38;5;21;01mplotly\u001b[39;00m\u001b[38;5;21;01m.\u001b[39;00m\u001b[38;5;21;01mexpress\u001b[39;00m \u001b[38;5;28;01mas\u001b[39;00m \u001b[38;5;21;01mpx\u001b[39;00m\n\u001b[1;32m      5\u001b[0m embedding_projector \u001b[38;5;241m=\u001b[39m pacmap\u001b[38;5;241m.\u001b[39mPaCMAP(n_components\u001b[38;5;241m=\u001b[39m\u001b[38;5;241m2\u001b[39m, n_neighbors\u001b[38;5;241m=\u001b[39m\u001b[38;5;28;01mNone\u001b[39;00m, MN_ratio\u001b[38;5;241m=\u001b[39m\u001b[38;5;241m0.5\u001b[39m, FP_ratio\u001b[38;5;241m=\u001b[39m\u001b[38;5;241m2.0\u001b[39m, random_state\u001b[38;5;241m=\u001b[39m\u001b[38;5;241m1\u001b[39m)\n\u001b[1;32m      7\u001b[0m embeddings_2d \u001b[38;5;241m=\u001b[39m [\n\u001b[1;32m      8\u001b[0m     \u001b[38;5;28mlist\u001b[39m(vector_store\u001b[38;5;241m.\u001b[39mindex\u001b[38;5;241m.\u001b[39mreconstruct_n(idx, \u001b[38;5;241m1\u001b[39m)[\u001b[38;5;241m0\u001b[39m]) \u001b[38;5;28;01mfor\u001b[39;00m idx \u001b[38;5;129;01min\u001b[39;00m \u001b[38;5;28mrange\u001b[39m(\u001b[38;5;28mlen\u001b[39m(docs[:\u001b[38;5;241m1000\u001b[39m]))\n\u001b[1;32m      9\u001b[0m ]\n",
      "\u001b[0;31mModuleNotFoundError\u001b[0m: No module named 'plotly'"
     ]
    }
   ],
   "source": [
    "import pacmap\n",
    "import numpy as np\n",
    "import plotly.express as px\n",
    "\n",
    "embedding_projector = pacmap.PaCMAP(n_components=2, n_neighbors=None, MN_ratio=0.5, FP_ratio=2.0, random_state=1)\n",
    "\n",
    "embeddings_2d = [\n",
    "    list(vector_store.index.reconstruct_n(idx, 1)[0]) for idx in range(len(docs[:1000]))\n",
    "]\n",
    "\n",
    "# Fit the data (the index of transformed data corresponds to the index of the original data)\n",
    "documents_projected = embedding_projector.fit_transform(np.array(embeddings_2d), init=\"pca\")"
   ]
  },
  {
   "cell_type": "code",
   "execution_count": null,
   "metadata": {},
   "outputs": [],
   "source": [
    "df = pd.DataFrame.from_dict(\n",
    "    [\n",
    "        {\n",
    "            \"x\": documents_projected[i, 0],\n",
    "            \"y\": documents_projected[i, 1],\n",
    "            \"class\": RAW_KNOWLEDGE_BASE[:1000][i].metadata[\"entity_class\"],\n",
    "            \"extract\": RAW_KNOWLEDGE_BASE[:1000][i].page_content[:100],\n",
    "            \"symbol\": \"circle\",\n",
    "            \"size_col\": 4,\n",
    "        }\n",
    "        for i in range(len(RAW_KNOWLEDGE_BASE[:1000]))\n",
    "    ]\n",
    ")\n",
    "\n",
    "# Visualize the embedding\n",
    "fig = px.scatter(\n",
    "    df,\n",
    "    x=\"x\",\n",
    "    y=\"y\",\n",
    "    color=\"source\",\n",
    "    hover_data=\"extract\",\n",
    "    size=\"size_col\",\n",
    "    symbol=\"symbol\",\n",
    "    color_discrete_map={\"User query\": \"black\"},\n",
    "    width=1000,\n",
    "    height=700,\n",
    ")\n",
    "fig.update_traces(\n",
    "    marker=dict(opacity=1, line=dict(width=0, color=\"DarkSlateGrey\")),\n",
    "    selector=dict(mode=\"markers\"),\n",
    ")\n",
    "fig.update_layout(\n",
    "    legend_title_text=\"<b>Chunk source</b>\",\n",
    "    title=\"<b>2D Projection of Chunk Embeddings via PaCMAP</b>\",\n",
    ")\n",
    "fig.show()"
   ]
  }
 ],
 "metadata": {
  "kernelspec": {
   "display_name": "venv",
   "language": "python",
   "name": "python3"
  },
  "language_info": {
   "codemirror_mode": {
    "name": "ipython",
    "version": 3
   },
   "file_extension": ".py",
   "mimetype": "text/x-python",
   "name": "python",
   "nbconvert_exporter": "python",
   "pygments_lexer": "ipython3",
   "version": "3.10.12"
  }
 },
 "nbformat": 4,
 "nbformat_minor": 2
}
