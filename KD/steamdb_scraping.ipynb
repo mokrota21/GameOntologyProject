{
 "cells": [
  {
   "cell_type": "code",
   "execution_count": 2,
   "metadata": {},
   "outputs": [
    {
     "name": "stdout",
     "output_type": "stream",
     "text": [
      "Requirement already satisfied: beautifulsoup4 in c:\\knowledge&data\\project\\.venv\\lib\\site-packages (4.12.3)\n",
      "Requirement already satisfied: pandas in c:\\knowledge&data\\project\\.venv\\lib\\site-packages (2.2.3)\n",
      "Requirement already satisfied: soupsieve>1.2 in c:\\knowledge&data\\project\\.venv\\lib\\site-packages (from beautifulsoup4) (2.6)\n",
      "Requirement already satisfied: numpy>=1.26.0 in c:\\knowledge&data\\project\\.venv\\lib\\site-packages (from pandas) (2.0.2)\n",
      "Requirement already satisfied: python-dateutil>=2.8.2 in c:\\knowledge&data\\project\\.venv\\lib\\site-packages (from pandas) (2.9.0.post0)\n",
      "Requirement already satisfied: pytz>=2020.1 in c:\\knowledge&data\\project\\.venv\\lib\\site-packages (from pandas) (2024.2)\n",
      "Requirement already satisfied: tzdata>=2022.7 in c:\\knowledge&data\\project\\.venv\\lib\\site-packages (from pandas) (2024.2)\n",
      "Requirement already satisfied: six>=1.5 in c:\\knowledge&data\\project\\.venv\\lib\\site-packages (from python-dateutil>=2.8.2->pandas) (1.16.0)\n",
      "Note: you may need to restart the kernel to use updated packages.\n",
      "Data has been saved to output.csv\n"
     ]
    }
   ],
   "source": [
    "%pip install beautifulsoup4 pandas\n",
    "\n",
    "from bs4 import BeautifulSoup\n",
    "import pandas as pd\n",
    "\n",
    "\n",
    "with open('steamDB.txt', 'r', encoding='utf-8') as file:\n",
    "    html_content = file.read()\n",
    "\n",
    "soup = BeautifulSoup(html_content, 'html.parser')\n",
    "\n",
    "rows = []\n",
    "for tr in soup.find_all('tr', class_='app'):\n",
    "    game_name = tr.find_all('td')[2].text.strip()\n",
    "    current = tr.find_all('td')[3].text.strip()\n",
    "    peak_24h = tr.find_all('td')[4].text.strip()\n",
    "    all_time_peak = tr.find_all('td')[5].text.strip()\n",
    "    rows.append([game_name, current, peak_24h, all_time_peak])\n",
    "\n",
    "df = pd.DataFrame(rows, columns=['Name', 'Current', '24h Peak', 'All-Time Peak'])\n",
    "df.to_csv('games_data.csv', index=False)\n",
    "\n",
    "print(\"Data has been saved to output.csv\")\n"
   ]
  }
 ],
 "metadata": {
  "kernelspec": {
   "display_name": ".venv",
   "language": "python",
   "name": "python3"
  },
  "language_info": {
   "codemirror_mode": {
    "name": "ipython",
    "version": 3
   },
   "file_extension": ".py",
   "mimetype": "text/x-python",
   "name": "python",
   "nbconvert_exporter": "python",
   "pygments_lexer": "ipython3",
   "version": "3.12.7"
  }
 },
 "nbformat": 4,
 "nbformat_minor": 2
}
