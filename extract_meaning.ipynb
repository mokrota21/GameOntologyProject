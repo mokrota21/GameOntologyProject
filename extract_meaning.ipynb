{
 "cells": [
  {
   "cell_type": "code",
   "execution_count": 1,
   "metadata": {},
   "outputs": [
    {
     "data": {
      "text/plain": [
       "True"
      ]
     },
     "execution_count": 1,
     "metadata": {},
     "output_type": "execute_result"
    }
   ],
   "source": [
    "import os\n",
    "import json\n",
    "from dotenv import load_dotenv\n",
    "\n",
    "load_dotenv()  # take environment variables from .env."
   ]
  },
  {
   "cell_type": "code",
   "execution_count": 2,
   "metadata": {},
   "outputs": [],
   "source": [
    "# establish a connection to the MongoDB database\n",
    "from pymongo import MongoClient\n",
    "\n",
    "# connect to your Atlas cluster\n",
    "client = MongoClient(os.environ[\"MONGODB_URI\"])"
   ]
  },
  {
   "cell_type": "code",
   "execution_count": 126,
   "metadata": {},
   "outputs": [],
   "source": [
    "# establish a connection to the PostgreSQL database\n",
    "import psycopg2 as pg\n",
    "\n",
    "conn = pg.connect(\n",
    "    dbname=os.environ[\"POSTGRES_DB\"],\n",
    "    user=os.environ[\"POSTGRES_USER\"],\n",
    "    password=os.environ[\"POSTGRES_PASSWORD\"],\n",
    "    host=os.environ[\"POSTGRES_HOST\"]\n",
    ")\n",
    "cursor = conn.cursor()"
   ]
  },
  {
   "cell_type": "markdown",
   "metadata": {},
   "source": [
    "# LangChain: Models, Prompts and Output Parsers\n",
    "\n",
    "\n",
    "## Outline\n",
    "\n",
    " * Direct API calls to OpenAI\n",
    " * API calls through LangChain:\n",
    "   * Prompts\n",
    "   * Models\n",
    "   * Output parsers"
   ]
  },
  {
   "cell_type": "code",
   "execution_count": 129,
   "metadata": {},
   "outputs": [],
   "source": [
    "import openai\n",
    "\n",
    "openai.api_key = os.environ['OPENAI_APIKEY']\n",
    "llm_model = \"gpt-4o-mini\"\n",
    "# llm_model = \"chatgpt-4o-latest\"\n"
   ]
  },
  {
   "cell_type": "code",
   "execution_count": 6,
   "metadata": {},
   "outputs": [],
   "source": [
    "from langchain.chat_models import ChatOpenAI"
   ]
  },
  {
   "cell_type": "code",
   "execution_count": 135,
   "metadata": {},
   "outputs": [],
   "source": [
    "# To control the randomness and creativity of the generated\n",
    "# text by an LLM, use temperature = 0.0\n",
    "chat = ChatOpenAI(temperature=0.0, model=llm_model, openai_api_key=openai.api_key)\n"
   ]
  },
  {
   "cell_type": "code",
   "execution_count": 103,
   "metadata": {},
   "outputs": [],
   "source": [
    "template_string = \"\"\"You are a web ontology creator. You are given part of an html web page from the fandom wiki web server, and your role is to extract entity information from this source. \\\n",
    "Page may containt information about a specific character, location, event, lore, in-game item, etc. One page corresponds to one entity only.\\\n",
    "You need to extract the information that will be used to populate a web ontology.\\\n",
    "- Name of the entity\\\n",
    "- Class of the entity\\\n",
    "- Subclass of the entity\\\n",
    "- Description of the entity\n",
    "\n",
    "- Properties of the entity\\\n",
    "\n",
    "For each property, you need to extract the following information:\\\n",
    "- Name of the property\\\n",
    "- Value of the property\\\n",
    "- url of the link attached to the property (if exists in the html)\\\n",
    "\n",
    "Return the extracted information in the following format:\\\n",
    "\n",
    "\n",
    "Web page url: ```{page_url}```\\\n",
    "Game name: ```{game_name}```\\\n",
    "Html web page source: ```{content}```\n",
    "\"\"\""
   ]
  },
  {
   "cell_type": "code",
   "execution_count": 104,
   "metadata": {},
   "outputs": [],
   "source": [
    "from langchain.prompts import ChatPromptTemplate\n",
    "\n",
    "prompt_template = ChatPromptTemplate.from_template(template_string)"
   ]
  },
  {
   "cell_type": "code",
   "execution_count": 105,
   "metadata": {},
   "outputs": [
    {
     "data": {
      "text/plain": [
       "PromptTemplate(input_variables=['content', 'game_name', 'page_url'], input_types={}, partial_variables={}, template='You are a web ontology creator. You are given part of an html web page from the fandom wiki web server, and your role is to extract entity information from this source. Page may containt information about a specific character, location, event, lore, in-game item, etc. One page corresponds to one entity only.You need to extract the information that will be used to populate a web ontology.- Name of the entity- Class of the entity- Subclass of the entity- Description of the entity\\n\\n- Properties of the entity\\nFor each property, you need to extract the following information:- Name of the property- Value of the property- url of the link attached to the property (if exists in the html)\\nReturn the extracted information in the following format:\\n\\nWeb page url: ```{page_url}```Game name: ```{game_name}```Html web page source: ```{content}```\\n')"
      ]
     },
     "execution_count": 105,
     "metadata": {},
     "output_type": "execute_result"
    }
   ],
   "source": [
    "prompt_template.messages[0].prompt"
   ]
  },
  {
   "cell_type": "code",
   "execution_count": 106,
   "metadata": {},
   "outputs": [
    {
     "data": {
      "text/plain": [
       "['content', 'game_name', 'page_url']"
      ]
     },
     "execution_count": 106,
     "metadata": {},
     "output_type": "execute_result"
    }
   ],
   "source": [
    "prompt_template.messages[0].prompt.input_variables"
   ]
  },
  {
   "cell_type": "markdown",
   "metadata": {},
   "source": []
  },
  {
   "cell_type": "code",
   "execution_count": 107,
   "metadata": {},
   "outputs": [],
   "source": [
    "item = {'game_name': 'bravelydefault',\n",
    " 'game_url': 'https://bravelydefault.fandom.com/',\n",
    " 'page_name': 'Adam_Holograd',\n",
    " 'page_url': 'https://bravelydefault.fandom.com/wiki/Adam_Holograd',\n",
    " 'content': '<aside class=\"portable-infobox pi-background pi-border-color pi-theme-series pi-layout-default\" role=\"region\">\\n<h2>Adam Holograd</h2>\\n<div>\\n<div><span><span>アダマス・ホログラード</span> (<span>Adamasu・Horogurādo</span><span><a>?</a></span>, lit. <span>Adamas Holograd</span>)</span></div>\\n</div>\\n\\n<section>\\n<h2>Biographical information</h2>\\n<div>\\n<h3>Home</h3>\\n<div>Holograd</div>\\n</div>\\n<div>\\n<h3>Affiliation</h3>\\n<div>Holograd Empire</div>\\n</div>\\n<div>\\n<h3>Occupation</h3>\\n<div>Lord Commander of the Holograd Empire</div>\\n</div>\\n</section>\\n<section>\\n<h2>Physical description</h2>\\n<div>\\n<h3>Race</h3>\\n<div>Human</div>\\n</div>\\n<div>\\n<h3>Gender</h3>\\n<div>Male</div>\\n</div>\\n<div>\\n<h3>Hair color</h3>\\n<div>Silver</div>\\n</div>\\n</section>\\n<section>\\n<h2>Behind the scenes information</h2>\\n<div>\\n<h3>Designer</h3>\\n<div>Naoki Ikushima</div>\\n</div>\\n<div>\\n<h3>Japanese voice actor</h3>\\n<div>Rikiya Koyama</div>\\n</div>\\n<div>\\n<h3>English voice actor</h3>\\n<div>Gyuri Sarossy</div>\\n</div>\\n</section>\\n</aside>',\n",
    " '_id': '67139f9e8f64cb721b2f3eec'}"
   ]
  },
  {
   "cell_type": "code",
   "execution_count": null,
   "metadata": {},
   "outputs": [],
   "source": []
  },
  {
   "cell_type": "code",
   "execution_count": 108,
   "metadata": {},
   "outputs": [],
   "source": [
    "fandom_input = prompt_template.format_messages(**item)"
   ]
  },
  {
   "cell_type": "code",
   "execution_count": 109,
   "metadata": {},
   "outputs": [],
   "source": [
    "# Call the LLM to translate to the style of the customer message\n",
    "entity_info = chat(fandom_input)"
   ]
  },
  {
   "cell_type": "code",
   "execution_count": 111,
   "metadata": {},
   "outputs": [
    {
     "name": "stdout",
     "output_type": "stream",
     "text": [
      "Web page url: ```https://bravelydefault.fandom.com/wiki/Adam_Holograd```  \n",
      "Game name: ```bravelydefault```  \n",
      "Html web page source: ```<aside class=\"portable-infobox pi-background pi-border-color pi-theme-series pi-layout-default\" role=\"region\">\n",
      "<h2>Adam Holograd</h2>\n",
      "<div>\n",
      "<div><span><span>アダマス・ホログラード</span> (<span>Adamasu・Horogurādo</span><span><a>?</a></span>, lit. <span>Adamas Holograd</span>)</span></div>\n",
      "</div>\n",
      "\n",
      "<section>\n",
      "<h2>Biographical information</h2>\n",
      "<div>\n",
      "<h3>Home</h3>\n",
      "<div>Holograd</div>\n",
      "</div>\n",
      "<div>\n",
      "<h3>Affiliation</h3>\n",
      "<div>Holograd Empire</div>\n",
      "</div>\n",
      "<div>\n",
      "<h3>Occupation</h3>\n",
      "<div>Lord Commander of the Holograd Empire</div>\n",
      "</div>\n",
      "</section>\n",
      "<section>\n",
      "<h2>Physical description</h2>\n",
      "<div>\n",
      "<h3>Race</h3>\n",
      "<div>Human</div>\n",
      "</div>\n",
      "<div>\n",
      "<h3>Gender</h3>\n",
      "<div>Male</div>\n",
      "</div>\n",
      "<div>\n",
      "<h3>Hair color</h3>\n",
      "<div>Silver</div>\n",
      "</div>\n",
      "</section>\n",
      "<section>\n",
      "<h2>Behind the scenes information</h2>\n",
      "<div>\n",
      "<h3>Designer</h3>\n",
      "<div>Naoki Ikushima</div>\n",
      "</div>\n",
      "<div>\n",
      "<h3>Japanese voice actor</h3>\n",
      "<div>Rikiya Koyama</div>\n",
      "</div>\n",
      "<div>\n",
      "<h3>English voice actor</h3>\n",
      "<div>Gyuri Sarossy</div>\n",
      "</div>\n",
      "</section>\n",
      "</aside>```\n",
      "\n",
      "### Extracted Information\n",
      "\n",
      "- Name of the entity: ```Adam Holograd```\n",
      "- Class of the entity: ```Character```\n",
      "- Subclass of the entity: ```Lord Commander```\n",
      "- Description of the entity: ```Adam Holograd is the Lord Commander of the Holograd Empire.```\n",
      "\n",
      "#### Properties of the entity\n",
      "1. **Name of the property:** Home  \n",
      "   **Value of the property:** Holograd  \n",
      "   **url of the link attached to the property:** ```None```\n",
      "\n",
      "2. **Name of the property:** Affiliation  \n",
      "   **Value of the property:** Holograd Empire  \n",
      "   **url of the link attached to the property:** ```None```\n",
      "\n",
      "3. **Name of the property:** Occupation  \n",
      "   **Value of the property:** Lord Commander of the Holograd Empire  \n",
      "   **url of the link attached to the property:** ```None```\n",
      "\n",
      "4. **Name of the property:** Race  \n",
      "   **Value of the property:** Human  \n",
      "   **url of the link attached to the property:** ```None```\n",
      "\n",
      "5. **Name of the property:** Gender  \n",
      "   **Value of the property:** Male  \n",
      "   **url of the link attached to the property:** ```None```\n",
      "\n",
      "6. **Name of the property:** Hair color  \n",
      "   **Value of the property:** Silver  \n",
      "   **url of the link attached to the property:** ```None```\n",
      "\n",
      "7. **Name of the property:** Designer  \n",
      "   **Value of the property:** Naoki Ikushima  \n",
      "   **url of the link attached to the property:** ```None```\n",
      "\n",
      "8. **Name of the property:** Japanese voice actor  \n",
      "   **Value of the property:** Rikiya Koyama  \n",
      "   **url of the link attached to the property:** ```None```\n",
      "\n",
      "9. **Name of the property:** English voice actor  \n",
      "   **Value of the property:** Gyuri Sarossy  \n",
      "   **url of the link attached to the property:** ```None```\n"
     ]
    }
   ],
   "source": [
    "print(entity_info.content)"
   ]
  },
  {
   "cell_type": "markdown",
   "metadata": {},
   "source": [
    "### Parse the LLM output string into a Python dictionary"
   ]
  },
  {
   "cell_type": "code",
   "execution_count": 112,
   "metadata": {},
   "outputs": [],
   "source": [
    "from langchain.output_parsers import ResponseSchema\n",
    "from langchain.output_parsers import StructuredOutputParser"
   ]
  },
  {
   "cell_type": "markdown",
   "metadata": {},
   "source": [
    "You need to extract the following information:\\\n",
    "- Name of the entity\\\n",
    "- Class of the entity\\\n",
    "- Subclass of the entity\\\n",
    "- Description of the entity\\\n",
    "- url of the image of the entity (if exists in the html)\n",
    "\n",
    "- Properties of the entity\\\n",
    "\n",
    "For each property, you need to extract the following information:\\\n",
    "- Name of the property\\\n",
    "- Value of the property\\\n",
    "- url of the link attached to the property (if exists in the html)\\"
   ]
  },
  {
   "cell_type": "code",
   "execution_count": 113,
   "metadata": {},
   "outputs": [],
   "source": [
    "name_schema = ResponseSchema(name=\"name\",\n",
    "                             description=\"Name of the entity\")\n",
    "class_schema = ResponseSchema(name=\"class\",\n",
    "                              description=\"Class of the entity,  for example: character, location, event, lore, in-game item, etc.\")\n",
    "subclass_schema = ResponseSchema(name=\"subclass\",\n",
    "                                 description=\"An appropriate Subclass of the entity. For example - if the entity is a character, the subclass could be a hero, villain, etc. If the entity is a location, the subclass could be a city, village, etc.\")\n",
    "description_schema = ResponseSchema(name=\"description\",\n",
    "                                     description=\"Description of the entity, no more than 255 characters\")\n",
    "image_url_schema = ResponseSchema(name=\"image_url\",\n",
    "                                    description=\"url of the image of the entity (if exists in the html)\")\n",
    "properties_schema = ResponseSchema(name=\"properties\",\n",
    "                                    description=\"List of dictionaries for each property found on the page. Each dictionary contains 4 key value pairs: name - the name of the property (capitalize and remove spaces and special characters); \\\n",
    "value - value of the property, can't be empty; \\\n",
    "description - description of the property, as applied to any entity the specific class or subclass mentoioned above, no more than 255 characters; \\\n",
    "parent - most appropriate parent property of the property (based on the knowledge of video games and web ontology engineering, can't be empty), for example defense is a parent of physical defense, magic defense, etc. and voice actor is a parent of japanese voice actor, english voice actor, etc.\")\n",
    "\n",
    "response_schemas = [\n",
    "    name_schema, \n",
    "    class_schema, \n",
    "    subclass_schema, \n",
    "    description_schema, \n",
    "    # image_url_schema, \n",
    "    properties_schema\n",
    "]\n",
    "\n",
    "output_parser = StructuredOutputParser.from_response_schemas(response_schemas)\n",
    "format_instructions = output_parser.get_format_instructions()"
   ]
  },
  {
   "cell_type": "code",
   "execution_count": 114,
   "metadata": {},
   "outputs": [
    {
     "data": {
      "text/plain": [
       "'The output should be a markdown code snippet formatted in the following schema, including the leading and trailing \"```json\" and \"```\":\\n\\n```json\\n{\\n\\t\"name\": string  // Name of the entity\\n\\t\"class\": string  // Class of the entity,  for example: character, location, event, lore, in-game item, etc.\\n\\t\"subclass\": string  // An appropriate Subclass of the entity. For example - if the entity is a character, the subclass could be a hero, villain, etc. If the entity is a location, the subclass could be a city, village, etc.\\n\\t\"description\": string  // Description of the entity\\n\\t\"properties\": string  // List of dictionaries for each property found on the page. Each dictionary contains 4 key value pairs: name - the name of the property (capitalize and remove spaces and special characters); value - value of the property; description - description of the property, as applied to any entity the specific class or subclass mentoioned above; parent - most appropriate parent property of the property (based on the knowledge of video games and web ontology engineering), for example defense is a parent of physical defense, magic defense, etc. and voice actor is a parent of japanese voice actor, english voice actor, etc.\\n}\\n```'"
      ]
     },
     "execution_count": 114,
     "metadata": {},
     "output_type": "execute_result"
    }
   ],
   "source": [
    "format_instructions"
   ]
  },
  {
   "cell_type": "code",
   "execution_count": 115,
   "metadata": {},
   "outputs": [],
   "source": [
    "template_string_with_format = \"\"\"You are a web ontology creator. You are given part of an html web page from the fandom wiki web server, and your role is to extract entity information from this source. \\\n",
    "Page may containt information about a specific character, location, event, lore, in-game item, etc.  and its properties. One page corresponds to one entity only.\\\n",
    "You need to extract the information that will be used to populate a web ontology, and return it in a json format.\\\n",
    "\n",
    "Web page url: ```{page_url}```\\\n",
    "Game name: ```{game_name}```\\\n",
    "Html web page source: ```{content}```\n",
    "\n",
    "{format_instructions}\n",
    "\"\"\""
   ]
  },
  {
   "cell_type": "code",
   "execution_count": 116,
   "metadata": {},
   "outputs": [],
   "source": [
    "prompt = ChatPromptTemplate.from_template(template=template_string_with_format)\n",
    "\n",
    "messages = prompt.format_messages(**item, \n",
    "                                format_instructions=format_instructions)"
   ]
  },
  {
   "cell_type": "code",
   "execution_count": null,
   "metadata": {},
   "outputs": [],
   "source": [
    "print(messages[0].content)"
   ]
  },
  {
   "cell_type": "code",
   "execution_count": 131,
   "metadata": {},
   "outputs": [],
   "source": [
    "response = chat(messages)"
   ]
  },
  {
   "cell_type": "code",
   "execution_count": 132,
   "metadata": {},
   "outputs": [
    {
     "name": "stdout",
     "output_type": "stream",
     "text": [
      "```json\n",
      "{\n",
      "\t\"name\": \"Adam Holograd\",\n",
      "\t\"class\": \"character\",\n",
      "\t\"subclass\": \"villain\",\n",
      "\t\"description\": \"Adam Holograd is the Lord Commander of the Holograd Empire in the game Bravely Default. He is a human male with silver hair and serves as a key antagonist in the story.\",\n",
      "\t\"properties\": [\n",
      "\t\t{\n",
      "\t\t\t\"name\": \"Home\",\n",
      "\t\t\t\"value\": \"Holograd\",\n",
      "\t\t\t\"description\": \"The place where the character resides or originates from.\",\n",
      "\t\t\t\"parent\": \"Location\"\n",
      "\t\t},\n",
      "\t\t{\n",
      "\t\t\t\"name\": \"Affiliation\",\n",
      "\t\t\t\"value\": \"Holograd Empire\",\n",
      "\t\t\t\"description\": \"The organization or group the character is associated with.\",\n",
      "\t\t\t\"parent\": \"Organization\"\n",
      "\t\t},\n",
      "\t\t{\n",
      "\t\t\t\"name\": \"Occupation\",\n",
      "\t\t\t\"value\": \"Lord Commander of the Holograd Empire\",\n",
      "\t\t\t\"description\": \"The character's role or job within the game world.\",\n",
      "\t\t\t\"parent\": \"Role\"\n",
      "\t\t},\n",
      "\t\t{\n",
      "\t\t\t\"name\": \"Race\",\n",
      "\t\t\t\"value\": \"Human\",\n",
      "\t\t\t\"description\": \"The species or race of the character.\",\n",
      "\t\t\t\"parent\": \"BiologicalClassification\"\n",
      "\t\t},\n",
      "\t\t{\n",
      "\t\t\t\"name\": \"Gender\",\n",
      "\t\t\t\"value\": \"Male\",\n",
      "\t\t\t\"description\": \"The gender of the character.\",\n",
      "\t\t\t\"parent\": \"BiologicalClassification\"\n",
      "\t\t},\n",
      "\t\t{\n",
      "\t\t\t\"name\": \"HairColor\",\n",
      "\t\t\t\"value\": \"Silver\",\n",
      "\t\t\t\"description\": \"The color of the character's hair.\",\n",
      "\t\t\t\"parent\": \"PhysicalAppearance\"\n",
      "\t\t},\n",
      "\t\t{\n",
      "\t\t\t\"name\": \"Designer\",\n",
      "\t\t\t\"value\": \"Naoki Ikushima\",\n",
      "\t\t\t\"description\": \"The person responsible for designing the character.\",\n",
      "\t\t\t\"parent\": \"Creator\"\n",
      "\t\t},\n",
      "\t\t{\n",
      "\t\t\t\"name\": \"JapaneseVoiceActor\",\n",
      "\t\t\t\"value\": \"Rikiya Koyama\",\n",
      "\t\t\t\"description\": \"The actor who provides the Japanese voice for the character.\",\n",
      "\t\t\t\"parent\": \"VoiceActor\"\n",
      "\t\t},\n",
      "\t\t{\n",
      "\t\t\t\"name\": \"EnglishVoiceActor\",\n",
      "\t\t\t\"value\": \"Gyuri Sarossy\",\n",
      "\t\t\t\"description\": \"The actor who provides the English voice for the character.\",\n",
      "\t\t\t\"parent\": \"VoiceActor\"\n",
      "\t\t}\n",
      "\t]\n",
      "}\n",
      "```\n"
     ]
    }
   ],
   "source": [
    "print(response.content)"
   ]
  },
  {
   "cell_type": "code",
   "execution_count": 133,
   "metadata": {},
   "outputs": [],
   "source": [
    "output_dict = output_parser.parse(response.content)"
   ]
  },
  {
   "cell_type": "code",
   "execution_count": 134,
   "metadata": {},
   "outputs": [
    {
     "data": {
      "text/plain": [
       "{'name': 'Adam Holograd',\n",
       " 'class': 'character',\n",
       " 'subclass': 'villain',\n",
       " 'description': 'Adam Holograd is the Lord Commander of the Holograd Empire in the game Bravely Default. He is a human male with silver hair and serves as a key antagonist in the story.',\n",
       " 'properties': [{'name': 'Home',\n",
       "   'value': 'Holograd',\n",
       "   'description': 'The place where the character resides or originates from.',\n",
       "   'parent': 'Location'},\n",
       "  {'name': 'Affiliation',\n",
       "   'value': 'Holograd Empire',\n",
       "   'description': 'The organization or group the character is associated with.',\n",
       "   'parent': 'Organization'},\n",
       "  {'name': 'Occupation',\n",
       "   'value': 'Lord Commander of the Holograd Empire',\n",
       "   'description': \"The character's role or job within the game world.\",\n",
       "   'parent': 'Role'},\n",
       "  {'name': 'Race',\n",
       "   'value': 'Human',\n",
       "   'description': 'The species or race of the character.',\n",
       "   'parent': 'BiologicalClassification'},\n",
       "  {'name': 'Gender',\n",
       "   'value': 'Male',\n",
       "   'description': 'The gender of the character.',\n",
       "   'parent': 'BiologicalClassification'},\n",
       "  {'name': 'HairColor',\n",
       "   'value': 'Silver',\n",
       "   'description': \"The color of the character's hair.\",\n",
       "   'parent': 'PhysicalAppearance'},\n",
       "  {'name': 'Designer',\n",
       "   'value': 'Naoki Ikushima',\n",
       "   'description': 'The person responsible for designing the character.',\n",
       "   'parent': 'Creator'},\n",
       "  {'name': 'JapaneseVoiceActor',\n",
       "   'value': 'Rikiya Koyama',\n",
       "   'description': 'The actor who provides the Japanese voice for the character.',\n",
       "   'parent': 'VoiceActor'},\n",
       "  {'name': 'EnglishVoiceActor',\n",
       "   'value': 'Gyuri Sarossy',\n",
       "   'description': 'The actor who provides the English voice for the character.',\n",
       "   'parent': 'VoiceActor'}]}"
      ]
     },
     "execution_count": 134,
     "metadata": {},
     "output_type": "execute_result"
    }
   ],
   "source": [
    "output_dict"
   ]
  },
  {
   "cell_type": "code",
   "execution_count": 123,
   "metadata": {},
   "outputs": [
    {
     "data": {
      "text/plain": [
       "UpdateResult({'n': 1, 'nModified': 1, 'ok': 1.0, '$clusterTime': {'clusterTime': Timestamp(1729355984, 118), 'signature': {'hash': b'l\\x90/\\x96\\x13\\xa8\\x91\\xdfa\\x89\\xeeT\\x12\\xa40\\\\\"U\\x85\\xe7', 'keyId': 7366676203282890758}}, 'operationTime': Timestamp(1729355984, 118), 'updatedExisting': True}, acknowledged=True)"
      ]
     },
     "execution_count": 123,
     "metadata": {},
     "output_type": "execute_result"
    }
   ],
   "source": [
    "# save the extracted information to the mongodb database\n",
    "from bson.objectid import ObjectId\n",
    "\n",
    "\n",
    "collection = client['Fandom']['Pages']\n",
    "\n",
    "collection.update_one(\n",
    "    {\"_id\": ObjectId(item[\"_id\"])},\n",
    "    {\"$set\": output_dict},\n",
    "    upsert=True\n",
    ")\n"
   ]
  },
  {
   "cell_type": "markdown",
   "metadata": {},
   "source": [
    "create table fandom_entities (\n",
    "    id serial primary key,\n",
    "    object_id varchar(255) not null,\n",
    "    name varchar(255) not null,\n",
    "    class varchar(255) not null,\n",
    "    subclass varchar(255),\n",
    "    description text not null,\n",
    "    created_at timestamp default current_timestamp\n",
    ");\n",
    "\n",
    "grant all privileges on table fandom_entities to ontology_rw;\n",
    "grant select on table fandom_entities to ontology_ro;\n",
    "\n",
    "create table fandom_properties (\n",
    "    id serial primary key,\n",
    "    object_id varchar(255) not null,\n",
    "    name varchar(255) not null,\n",
    "    value varchar(255) not null,\n",
    "    description text not null,\n",
    "    parent varchar(255) not null,\n",
    "    created_at timestamp default current_timestamp\n",
    ");\n",
    "\n",
    "grant all privileges on table fandom_properties to ontology_rw;\n",
    "grant select on table fandom_properties to ontology_ro;"
   ]
  },
  {
   "cell_type": "code",
   "execution_count": 127,
   "metadata": {},
   "outputs": [],
   "source": [
    "# insert the extracted information to the postgresql database, table 'fandom_entities'\n",
    "cursor.execute(\n",
    "    \"\"\"INSERT INTO fandom_entities (object_id, name, class, subclass, description)\n",
    "    VALUES (%s, %s, %s, %s, %s);\"\"\",\n",
    "    (item[\"_id\"], output_dict[\"name\"], output_dict[\"class\"], output_dict[\"subclass\"], output_dict[\"description\"])\n",
    ")\n",
    "conn.commit()"
   ]
  },
  {
   "cell_type": "code",
   "execution_count": 128,
   "metadata": {},
   "outputs": [],
   "source": [
    "# insert the extracted information to the postgresql database, table 'fandom_properties'\n",
    "for prop in output_dict[\"properties\"]:\n",
    "    cursor.execute(\n",
    "        \"\"\"INSERT INTO fandom_properties (object_id, name, value, description, parent)\n",
    "        VALUES (%s, %s, %s, %s, %s);\"\"\",\n",
    "        (item[\"_id\"], prop[\"name\"], prop[\"value\"], prop[\"description\"], prop[\"parent\"])\n",
    "    )\n",
    "    conn.commit()"
   ]
  },
  {
   "cell_type": "code",
   "execution_count": null,
   "metadata": {},
   "outputs": [],
   "source": [
    "conn.close()"
   ]
  }
 ],
 "metadata": {
  "kernelspec": {
   "display_name": "venv",
   "language": "python",
   "name": "python3"
  },
  "language_info": {
   "codemirror_mode": {
    "name": "ipython",
    "version": 3
   },
   "file_extension": ".py",
   "mimetype": "text/x-python",
   "name": "python",
   "nbconvert_exporter": "python",
   "pygments_lexer": "ipython3",
   "version": "3.10.12"
  }
 },
 "nbformat": 4,
 "nbformat_minor": 2
}
