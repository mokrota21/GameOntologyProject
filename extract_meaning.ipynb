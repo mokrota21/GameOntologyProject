{
 "cells": [
  {
   "cell_type": "code",
   "execution_count": 1,
   "metadata": {},
   "outputs": [
    {
     "data": {
      "text/plain": [
       "True"
      ]
     },
     "execution_count": 1,
     "metadata": {},
     "output_type": "execute_result"
    }
   ],
   "source": [
    "import os\n",
    "import json\n",
    "from dotenv import load_dotenv\n",
    "\n",
    "load_dotenv()  # take environment variables from .env."
   ]
  },
  {
   "cell_type": "code",
   "execution_count": 2,
   "metadata": {},
   "outputs": [],
   "source": [
    "# establish a connection to the MongoDB database\n",
    "from pymongo import MongoClient\n",
    "\n",
    "# connect to your Atlas cluster\n",
    "client = MongoClient(os.environ[\"MONGODB_URI\"])"
   ]
  },
  {
   "cell_type": "code",
   "execution_count": 322,
   "metadata": {},
   "outputs": [],
   "source": [
    "# establish a connection to the PostgreSQL database\n",
    "import psycopg2 as pg\n",
    "\n",
    "conn = pg.connect(\n",
    "    dbname=os.environ[\"POSTGRES_DB\"],\n",
    "    user=os.environ[\"POSTGRES_USER\"],\n",
    "    password=os.environ[\"POSTGRES_PASSWORD\"],\n",
    "    host=os.environ[\"POSTGRES_HOST\"]\n",
    ")\n",
    "cursor = conn.cursor()"
   ]
  },
  {
   "cell_type": "markdown",
   "metadata": {},
   "source": [
    "# LangChain: Models, Prompts and Output Parsers\n",
    "\n",
    "\n",
    "## Outline\n",
    "\n",
    " * Direct API calls to OpenAI\n",
    " * API calls through LangChain:\n",
    "   * Prompts\n",
    "   * Models\n",
    "   * Output parsers"
   ]
  },
  {
   "cell_type": "code",
   "execution_count": 129,
   "metadata": {},
   "outputs": [],
   "source": [
    "import openai\n",
    "\n",
    "openai.api_key = os.environ['OPENAI_APIKEY']\n",
    "llm_model = \"gpt-4o-mini\"\n",
    "# llm_model = \"chatgpt-4o-latest\"\n"
   ]
  },
  {
   "cell_type": "code",
   "execution_count": 6,
   "metadata": {},
   "outputs": [],
   "source": [
    "from langchain.chat_models import ChatOpenAI"
   ]
  },
  {
   "cell_type": "code",
   "execution_count": 135,
   "metadata": {},
   "outputs": [],
   "source": [
    "# To control the randomness and creativity of the generated\n",
    "# text by an LLM, use temperature = 0.0\n",
    "chat = ChatOpenAI(temperature=0.0, model=llm_model, openai_api_key=openai.api_key)\n"
   ]
  },
  {
   "cell_type": "code",
   "execution_count": 103,
   "metadata": {},
   "outputs": [],
   "source": [
    "template_string = \"\"\"You are a web ontology creator. You are given part of an html web page from the fandom wiki web server, and your role is to extract entity information from this source. \\\n",
    "Page may containt information about a specific character, location, event, lore, in-game item, etc. One page corresponds to one entity only.\\\n",
    "You need to extract the information that will be used to populate a web ontology.\\\n",
    "- Name of the entity\\\n",
    "- Class of the entity\\\n",
    "- Subclass of the entity\\\n",
    "- Description of the entity\n",
    "\n",
    "- Properties of the entity\\\n",
    "\n",
    "For each property, you need to extract the following information:\\\n",
    "- Name of the property\\\n",
    "- Value of the property\\\n",
    "- url of the link attached to the property (if exists in the html)\\\n",
    "\n",
    "Return the extracted information in the following format:\\\n",
    "\n",
    "\n",
    "Web page url: ```{page_url}```\\\n",
    "Game name: ```{game_name}```\\\n",
    "Html web page source: ```{content}```\n",
    "\"\"\""
   ]
  },
  {
   "cell_type": "code",
   "execution_count": 104,
   "metadata": {},
   "outputs": [],
   "source": [
    "from langchain.prompts import ChatPromptTemplate\n",
    "\n",
    "prompt_template = ChatPromptTemplate.from_template(template_string)"
   ]
  },
  {
   "cell_type": "code",
   "execution_count": 105,
   "metadata": {},
   "outputs": [
    {
     "data": {
      "text/plain": [
       "PromptTemplate(input_variables=['content', 'game_name', 'page_url'], input_types={}, partial_variables={}, template='You are a web ontology creator. You are given part of an html web page from the fandom wiki web server, and your role is to extract entity information from this source. Page may containt information about a specific character, location, event, lore, in-game item, etc. One page corresponds to one entity only.You need to extract the information that will be used to populate a web ontology.- Name of the entity- Class of the entity- Subclass of the entity- Description of the entity\\n\\n- Properties of the entity\\nFor each property, you need to extract the following information:- Name of the property- Value of the property- url of the link attached to the property (if exists in the html)\\nReturn the extracted information in the following format:\\n\\nWeb page url: ```{page_url}```Game name: ```{game_name}```Html web page source: ```{content}```\\n')"
      ]
     },
     "execution_count": 105,
     "metadata": {},
     "output_type": "execute_result"
    }
   ],
   "source": [
    "prompt_template.messages[0].prompt"
   ]
  },
  {
   "cell_type": "code",
   "execution_count": 106,
   "metadata": {},
   "outputs": [
    {
     "data": {
      "text/plain": [
       "['content', 'game_name', 'page_url']"
      ]
     },
     "execution_count": 106,
     "metadata": {},
     "output_type": "execute_result"
    }
   ],
   "source": [
    "prompt_template.messages[0].prompt.input_variables"
   ]
  },
  {
   "cell_type": "markdown",
   "metadata": {},
   "source": []
  },
  {
   "cell_type": "code",
   "execution_count": 107,
   "metadata": {},
   "outputs": [],
   "source": [
    "item = {'game_name': 'bravelydefault',\n",
    " 'game_url': 'https://bravelydefault.fandom.com/',\n",
    " 'page_name': 'Adam_Holograd',\n",
    " 'page_url': 'https://bravelydefault.fandom.com/wiki/Adam_Holograd',\n",
    " 'content': '<aside class=\"portable-infobox pi-background pi-border-color pi-theme-series pi-layout-default\" role=\"region\">\\n<h2>Adam Holograd</h2>\\n<div>\\n<div><span><span>アダマス・ホログラード</span> (<span>Adamasu・Horogurādo</span><span><a>?</a></span>, lit. <span>Adamas Holograd</span>)</span></div>\\n</div>\\n\\n<section>\\n<h2>Biographical information</h2>\\n<div>\\n<h3>Home</h3>\\n<div>Holograd</div>\\n</div>\\n<div>\\n<h3>Affiliation</h3>\\n<div>Holograd Empire</div>\\n</div>\\n<div>\\n<h3>Occupation</h3>\\n<div>Lord Commander of the Holograd Empire</div>\\n</div>\\n</section>\\n<section>\\n<h2>Physical description</h2>\\n<div>\\n<h3>Race</h3>\\n<div>Human</div>\\n</div>\\n<div>\\n<h3>Gender</h3>\\n<div>Male</div>\\n</div>\\n<div>\\n<h3>Hair color</h3>\\n<div>Silver</div>\\n</div>\\n</section>\\n<section>\\n<h2>Behind the scenes information</h2>\\n<div>\\n<h3>Designer</h3>\\n<div>Naoki Ikushima</div>\\n</div>\\n<div>\\n<h3>Japanese voice actor</h3>\\n<div>Rikiya Koyama</div>\\n</div>\\n<div>\\n<h3>English voice actor</h3>\\n<div>Gyuri Sarossy</div>\\n</div>\\n</section>\\n</aside>',\n",
    " '_id': '67139f9e8f64cb721b2f3eec'}"
   ]
  },
  {
   "cell_type": "code",
   "execution_count": null,
   "metadata": {},
   "outputs": [],
   "source": []
  },
  {
   "cell_type": "code",
   "execution_count": 108,
   "metadata": {},
   "outputs": [],
   "source": [
    "fandom_input = prompt_template.format_messages(**item)"
   ]
  },
  {
   "cell_type": "code",
   "execution_count": 109,
   "metadata": {},
   "outputs": [],
   "source": [
    "# Call the LLM to translate to the style of the customer message\n",
    "entity_info = chat(fandom_input)"
   ]
  },
  {
   "cell_type": "code",
   "execution_count": 111,
   "metadata": {},
   "outputs": [
    {
     "name": "stdout",
     "output_type": "stream",
     "text": [
      "Web page url: ```https://bravelydefault.fandom.com/wiki/Adam_Holograd```  \n",
      "Game name: ```bravelydefault```  \n",
      "Html web page source: ```<aside class=\"portable-infobox pi-background pi-border-color pi-theme-series pi-layout-default\" role=\"region\">\n",
      "<h2>Adam Holograd</h2>\n",
      "<div>\n",
      "<div><span><span>アダマス・ホログラード</span> (<span>Adamasu・Horogurādo</span><span><a>?</a></span>, lit. <span>Adamas Holograd</span>)</span></div>\n",
      "</div>\n",
      "\n",
      "<section>\n",
      "<h2>Biographical information</h2>\n",
      "<div>\n",
      "<h3>Home</h3>\n",
      "<div>Holograd</div>\n",
      "</div>\n",
      "<div>\n",
      "<h3>Affiliation</h3>\n",
      "<div>Holograd Empire</div>\n",
      "</div>\n",
      "<div>\n",
      "<h3>Occupation</h3>\n",
      "<div>Lord Commander of the Holograd Empire</div>\n",
      "</div>\n",
      "</section>\n",
      "<section>\n",
      "<h2>Physical description</h2>\n",
      "<div>\n",
      "<h3>Race</h3>\n",
      "<div>Human</div>\n",
      "</div>\n",
      "<div>\n",
      "<h3>Gender</h3>\n",
      "<div>Male</div>\n",
      "</div>\n",
      "<div>\n",
      "<h3>Hair color</h3>\n",
      "<div>Silver</div>\n",
      "</div>\n",
      "</section>\n",
      "<section>\n",
      "<h2>Behind the scenes information</h2>\n",
      "<div>\n",
      "<h3>Designer</h3>\n",
      "<div>Naoki Ikushima</div>\n",
      "</div>\n",
      "<div>\n",
      "<h3>Japanese voice actor</h3>\n",
      "<div>Rikiya Koyama</div>\n",
      "</div>\n",
      "<div>\n",
      "<h3>English voice actor</h3>\n",
      "<div>Gyuri Sarossy</div>\n",
      "</div>\n",
      "</section>\n",
      "</aside>```\n",
      "\n",
      "### Extracted Information\n",
      "\n",
      "- Name of the entity: ```Adam Holograd```\n",
      "- Class of the entity: ```Character```\n",
      "- Subclass of the entity: ```Lord Commander```\n",
      "- Description of the entity: ```Adam Holograd is the Lord Commander of the Holograd Empire.```\n",
      "\n",
      "#### Properties of the entity\n",
      "1. **Name of the property:** Home  \n",
      "   **Value of the property:** Holograd  \n",
      "   **url of the link attached to the property:** ```None```\n",
      "\n",
      "2. **Name of the property:** Affiliation  \n",
      "   **Value of the property:** Holograd Empire  \n",
      "   **url of the link attached to the property:** ```None```\n",
      "\n",
      "3. **Name of the property:** Occupation  \n",
      "   **Value of the property:** Lord Commander of the Holograd Empire  \n",
      "   **url of the link attached to the property:** ```None```\n",
      "\n",
      "4. **Name of the property:** Race  \n",
      "   **Value of the property:** Human  \n",
      "   **url of the link attached to the property:** ```None```\n",
      "\n",
      "5. **Name of the property:** Gender  \n",
      "   **Value of the property:** Male  \n",
      "   **url of the link attached to the property:** ```None```\n",
      "\n",
      "6. **Name of the property:** Hair color  \n",
      "   **Value of the property:** Silver  \n",
      "   **url of the link attached to the property:** ```None```\n",
      "\n",
      "7. **Name of the property:** Designer  \n",
      "   **Value of the property:** Naoki Ikushima  \n",
      "   **url of the link attached to the property:** ```None```\n",
      "\n",
      "8. **Name of the property:** Japanese voice actor  \n",
      "   **Value of the property:** Rikiya Koyama  \n",
      "   **url of the link attached to the property:** ```None```\n",
      "\n",
      "9. **Name of the property:** English voice actor  \n",
      "   **Value of the property:** Gyuri Sarossy  \n",
      "   **url of the link attached to the property:** ```None```\n"
     ]
    }
   ],
   "source": [
    "print(entity_info.content)"
   ]
  },
  {
   "cell_type": "markdown",
   "metadata": {},
   "source": [
    "### Parse the LLM output string into a Python dictionary"
   ]
  },
  {
   "cell_type": "code",
   "execution_count": 112,
   "metadata": {},
   "outputs": [],
   "source": [
    "from langchain.output_parsers import ResponseSchema\n",
    "from langchain.output_parsers import StructuredOutputParser"
   ]
  },
  {
   "cell_type": "markdown",
   "metadata": {},
   "source": [
    "You need to extract the following information:\\\n",
    "- Name of the entity\\\n",
    "- Class of the entity\\\n",
    "- Subclass of the entity\\\n",
    "- Description of the entity\\\n",
    "- url of the image of the entity (if exists in the html)\n",
    "\n",
    "- Properties of the entity\\\n",
    "\n",
    "For each property, you need to extract the following information:\\\n",
    "- Name of the property\\\n",
    "- Value of the property\\\n",
    "- url of the link attached to the property (if exists in the html)\\"
   ]
  },
  {
   "cell_type": "code",
   "execution_count": 113,
   "metadata": {},
   "outputs": [],
   "source": [
    "name_schema = ResponseSchema(name=\"name\",\n",
    "                             description=\"Name of the entity\")\n",
    "class_schema = ResponseSchema(name=\"class\",\n",
    "                              description=\"Class of the entity,  for example: character, location, event, lore, in-game item, etc.\")\n",
    "subclass_schema = ResponseSchema(name=\"subclass\",\n",
    "                                 description=\"An appropriate Subclass of the entity. For example - if the entity is a character, the subclass could be a hero, villain, etc. If the entity is a location, the subclass could be a city, village, etc.\")\n",
    "description_schema = ResponseSchema(name=\"description\",\n",
    "                                     description=\"Description of the entity, no more than 255 characters\")\n",
    "image_url_schema = ResponseSchema(name=\"image_url\",\n",
    "                                    description=\"url of the image of the entity (if exists in the html)\")\n",
    "properties_schema = ResponseSchema(name=\"properties\",\n",
    "                                    description=\"List of dictionaries for each property found on the page. Each dictionary contains 4 key value pairs: name - the name of the property (capitalize and remove spaces and special characters); \\\n",
    "value - value of the property, can't be empty; \\\n",
    "description - description of the property, as applied to any entity the specific class or subclass mentoioned above, no more than 255 characters; \\\n",
    "parent - most appropriate parent property of the property (based on the knowledge of video games and web ontology engineering, can't be empty), for example defense is a parent of physical defense, magic defense, etc. and voice actor is a parent of japanese voice actor, english voice actor, etc.\")\n",
    "\n",
    "response_schemas = [\n",
    "    name_schema, \n",
    "    class_schema, \n",
    "    subclass_schema, \n",
    "    description_schema, \n",
    "    # image_url_schema, \n",
    "    properties_schema\n",
    "]\n",
    "\n",
    "output_parser = StructuredOutputParser.from_response_schemas(response_schemas)\n",
    "format_instructions = output_parser.get_format_instructions()"
   ]
  },
  {
   "cell_type": "code",
   "execution_count": 114,
   "metadata": {},
   "outputs": [
    {
     "data": {
      "text/plain": [
       "'The output should be a markdown code snippet formatted in the following schema, including the leading and trailing \"```json\" and \"```\":\\n\\n```json\\n{\\n\\t\"name\": string  // Name of the entity\\n\\t\"class\": string  // Class of the entity,  for example: character, location, event, lore, in-game item, etc.\\n\\t\"subclass\": string  // An appropriate Subclass of the entity. For example - if the entity is a character, the subclass could be a hero, villain, etc. If the entity is a location, the subclass could be a city, village, etc.\\n\\t\"description\": string  // Description of the entity\\n\\t\"properties\": string  // List of dictionaries for each property found on the page. Each dictionary contains 4 key value pairs: name - the name of the property (capitalize and remove spaces and special characters); value - value of the property; description - description of the property, as applied to any entity the specific class or subclass mentoioned above; parent - most appropriate parent property of the property (based on the knowledge of video games and web ontology engineering), for example defense is a parent of physical defense, magic defense, etc. and voice actor is a parent of japanese voice actor, english voice actor, etc.\\n}\\n```'"
      ]
     },
     "execution_count": 114,
     "metadata": {},
     "output_type": "execute_result"
    }
   ],
   "source": [
    "format_instructions"
   ]
  },
  {
   "cell_type": "code",
   "execution_count": 115,
   "metadata": {},
   "outputs": [],
   "source": [
    "template_string_with_format = \"\"\"You are a web ontology creator. You are given part of an html web page from the fandom wiki web server, and your role is to extract entity information from this source. \\\n",
    "Page may containt information about a specific character, location, event, lore, in-game item, etc.  and its properties. One page corresponds to one entity only.\\\n",
    "You need to extract the information that will be used to populate a web ontology, and return it in a json format.\\\n",
    "\n",
    "Web page url: ```{page_url}```\\\n",
    "Game name: ```{game_name}```\\\n",
    "Html web page source: ```{content}```\n",
    "\n",
    "{format_instructions}\n",
    "\"\"\""
   ]
  },
  {
   "cell_type": "code",
   "execution_count": 116,
   "metadata": {},
   "outputs": [],
   "source": [
    "prompt = ChatPromptTemplate.from_template(template=template_string_with_format)\n",
    "\n",
    "messages = prompt.format_messages(**item, \n",
    "                                format_instructions=format_instructions)\n",
    "print(messages[0].content)"
   ]
  },
  {
   "cell_type": "code",
   "execution_count": 131,
   "metadata": {},
   "outputs": [],
   "source": [
    "response = chat(messages)"
   ]
  },
  {
   "cell_type": "code",
   "execution_count": 132,
   "metadata": {},
   "outputs": [
    {
     "name": "stdout",
     "output_type": "stream",
     "text": [
      "```json\n",
      "{\n",
      "\t\"name\": \"Adam Holograd\",\n",
      "\t\"class\": \"character\",\n",
      "\t\"subclass\": \"villain\",\n",
      "\t\"description\": \"Adam Holograd is the Lord Commander of the Holograd Empire in the game Bravely Default. He is a human male with silver hair and serves as a key antagonist in the story.\",\n",
      "\t\"properties\": [\n",
      "\t\t{\n",
      "\t\t\t\"name\": \"Home\",\n",
      "\t\t\t\"value\": \"Holograd\",\n",
      "\t\t\t\"description\": \"The place where the character resides or originates from.\",\n",
      "\t\t\t\"parent\": \"Location\"\n",
      "\t\t},\n",
      "\t\t{\n",
      "\t\t\t\"name\": \"Affiliation\",\n",
      "\t\t\t\"value\": \"Holograd Empire\",\n",
      "\t\t\t\"description\": \"The organization or group the character is associated with.\",\n",
      "\t\t\t\"parent\": \"Organization\"\n",
      "\t\t},\n",
      "\t\t{\n",
      "\t\t\t\"name\": \"Occupation\",\n",
      "\t\t\t\"value\": \"Lord Commander of the Holograd Empire\",\n",
      "\t\t\t\"description\": \"The character's role or job within the game world.\",\n",
      "\t\t\t\"parent\": \"Role\"\n",
      "\t\t},\n",
      "\t\t{\n",
      "\t\t\t\"name\": \"Race\",\n",
      "\t\t\t\"value\": \"Human\",\n",
      "\t\t\t\"description\": \"The species or race of the character.\",\n",
      "\t\t\t\"parent\": \"BiologicalClassification\"\n",
      "\t\t},\n",
      "\t\t{\n",
      "\t\t\t\"name\": \"Gender\",\n",
      "\t\t\t\"value\": \"Male\",\n",
      "\t\t\t\"description\": \"The gender of the character.\",\n",
      "\t\t\t\"parent\": \"BiologicalClassification\"\n",
      "\t\t},\n",
      "\t\t{\n",
      "\t\t\t\"name\": \"HairColor\",\n",
      "\t\t\t\"value\": \"Silver\",\n",
      "\t\t\t\"description\": \"The color of the character's hair.\",\n",
      "\t\t\t\"parent\": \"PhysicalAppearance\"\n",
      "\t\t},\n",
      "\t\t{\n",
      "\t\t\t\"name\": \"Designer\",\n",
      "\t\t\t\"value\": \"Naoki Ikushima\",\n",
      "\t\t\t\"description\": \"The person responsible for designing the character.\",\n",
      "\t\t\t\"parent\": \"Creator\"\n",
      "\t\t},\n",
      "\t\t{\n",
      "\t\t\t\"name\": \"JapaneseVoiceActor\",\n",
      "\t\t\t\"value\": \"Rikiya Koyama\",\n",
      "\t\t\t\"description\": \"The actor who provides the Japanese voice for the character.\",\n",
      "\t\t\t\"parent\": \"VoiceActor\"\n",
      "\t\t},\n",
      "\t\t{\n",
      "\t\t\t\"name\": \"EnglishVoiceActor\",\n",
      "\t\t\t\"value\": \"Gyuri Sarossy\",\n",
      "\t\t\t\"description\": \"The actor who provides the English voice for the character.\",\n",
      "\t\t\t\"parent\": \"VoiceActor\"\n",
      "\t\t}\n",
      "\t]\n",
      "}\n",
      "```\n"
     ]
    }
   ],
   "source": [
    "print(response.content)"
   ]
  },
  {
   "cell_type": "code",
   "execution_count": 133,
   "metadata": {},
   "outputs": [],
   "source": [
    "output_dict = output_parser.parse(response.content)"
   ]
  },
  {
   "cell_type": "code",
   "execution_count": 134,
   "metadata": {},
   "outputs": [
    {
     "data": {
      "text/plain": [
       "{'name': 'Adam Holograd',\n",
       " 'class': 'character',\n",
       " 'subclass': 'villain',\n",
       " 'description': 'Adam Holograd is the Lord Commander of the Holograd Empire in the game Bravely Default. He is a human male with silver hair and serves as a key antagonist in the story.',\n",
       " 'properties': [{'name': 'Home',\n",
       "   'value': 'Holograd',\n",
       "   'description': 'The place where the character resides or originates from.',\n",
       "   'parent': 'Location'},\n",
       "  {'name': 'Affiliation',\n",
       "   'value': 'Holograd Empire',\n",
       "   'description': 'The organization or group the character is associated with.',\n",
       "   'parent': 'Organization'},\n",
       "  {'name': 'Occupation',\n",
       "   'value': 'Lord Commander of the Holograd Empire',\n",
       "   'description': \"The character's role or job within the game world.\",\n",
       "   'parent': 'Role'},\n",
       "  {'name': 'Race',\n",
       "   'value': 'Human',\n",
       "   'description': 'The species or race of the character.',\n",
       "   'parent': 'BiologicalClassification'},\n",
       "  {'name': 'Gender',\n",
       "   'value': 'Male',\n",
       "   'description': 'The gender of the character.',\n",
       "   'parent': 'BiologicalClassification'},\n",
       "  {'name': 'HairColor',\n",
       "   'value': 'Silver',\n",
       "   'description': \"The color of the character's hair.\",\n",
       "   'parent': 'PhysicalAppearance'},\n",
       "  {'name': 'Designer',\n",
       "   'value': 'Naoki Ikushima',\n",
       "   'description': 'The person responsible for designing the character.',\n",
       "   'parent': 'Creator'},\n",
       "  {'name': 'JapaneseVoiceActor',\n",
       "   'value': 'Rikiya Koyama',\n",
       "   'description': 'The actor who provides the Japanese voice for the character.',\n",
       "   'parent': 'VoiceActor'},\n",
       "  {'name': 'EnglishVoiceActor',\n",
       "   'value': 'Gyuri Sarossy',\n",
       "   'description': 'The actor who provides the English voice for the character.',\n",
       "   'parent': 'VoiceActor'}]}"
      ]
     },
     "execution_count": 134,
     "metadata": {},
     "output_type": "execute_result"
    }
   ],
   "source": [
    "output_dict"
   ]
  },
  {
   "cell_type": "code",
   "execution_count": 123,
   "metadata": {},
   "outputs": [
    {
     "data": {
      "text/plain": [
       "UpdateResult({'n': 1, 'nModified': 1, 'ok': 1.0, '$clusterTime': {'clusterTime': Timestamp(1729355984, 118), 'signature': {'hash': b'l\\x90/\\x96\\x13\\xa8\\x91\\xdfa\\x89\\xeeT\\x12\\xa40\\\\\"U\\x85\\xe7', 'keyId': 7366676203282890758}}, 'operationTime': Timestamp(1729355984, 118), 'updatedExisting': True}, acknowledged=True)"
      ]
     },
     "execution_count": 123,
     "metadata": {},
     "output_type": "execute_result"
    }
   ],
   "source": [
    "# save the extracted information to the mongodb database\n",
    "from bson.objectid import ObjectId\n",
    "\n",
    "\n",
    "collection = client['Fandom']['Pages']\n",
    "\n",
    "collection.update_one(\n",
    "    {\"_id\": ObjectId(item[\"_id\"])},\n",
    "    {\"$set\": output_dict},\n",
    "    upsert=True\n",
    ")\n"
   ]
  },
  {
   "cell_type": "markdown",
   "metadata": {},
   "source": [
    "create table fandom_entities (\n",
    "    id serial primary key,\n",
    "    object_id varchar(255) not null,\n",
    "    name varchar(255) not null,\n",
    "    class varchar(255) not null,\n",
    "    subclass varchar(255),\n",
    "    description text not null,\n",
    "    created_at timestamp default current_timestamp\n",
    ");\n",
    "\n",
    "grant all privileges on table fandom_entities to ontology_rw;\n",
    "grant select on table fandom_entities to ontology_ro;\n",
    "\n",
    "create table fandom_properties (\n",
    "    id serial primary key,\n",
    "    object_id varchar(255) not null,\n",
    "    name varchar(255) not null,\n",
    "    value varchar(255) not null,\n",
    "    description text not null,\n",
    "    parent varchar(255) not null,\n",
    "    created_at timestamp default current_timestamp\n",
    ");\n",
    "\n",
    "grant all privileges on table fandom_properties to ontology_rw;\n",
    "grant select on table fandom_properties to ontology_ro;"
   ]
  },
  {
   "cell_type": "code",
   "execution_count": 127,
   "metadata": {},
   "outputs": [],
   "source": [
    "# insert the extracted information to the postgresql database, table 'fandom_entities'\n",
    "cursor.execute(\n",
    "    \"\"\"INSERT INTO fandom_entities (object_id, name, class, subclass, description)\n",
    "    VALUES (%s, %s, %s, %s, %s);\"\"\",\n",
    "    (item[\"_id\"], output_dict[\"name\"], output_dict[\"class\"], output_dict[\"subclass\"], output_dict[\"description\"])\n",
    ")\n",
    "conn.commit()"
   ]
  },
  {
   "cell_type": "code",
   "execution_count": 128,
   "metadata": {},
   "outputs": [],
   "source": [
    "# insert the extracted information to the postgresql database, table 'fandom_properties'\n",
    "for prop in output_dict[\"properties\"]:\n",
    "    cursor.execute(\n",
    "        \"\"\"INSERT INTO fandom_properties (object_id, name, value, description, parent)\n",
    "        VALUES (%s, %s, %s, %s, %s);\"\"\",\n",
    "        (item[\"_id\"], prop[\"name\"], prop[\"value\"], prop[\"description\"], prop[\"parent\"])\n",
    "    )\n",
    "    conn.commit()"
   ]
  },
  {
   "cell_type": "code",
   "execution_count": null,
   "metadata": {},
   "outputs": [],
   "source": [
    "conn.close()"
   ]
  },
  {
   "cell_type": "markdown",
   "metadata": {},
   "source": [
    "## Provide context with OWL definitions\n",
    "\n",
    "As described in this tutorial:\n",
    "\n",
    "\"LangChain for LLM Application Development\"\n",
    "\n",
    "https://learn.deeplearning.ai/courses/langchain/lesson/2/models,-prompts-and-parsers"
   ]
  },
  {
   "cell_type": "code",
   "execution_count": 7,
   "metadata": {},
   "outputs": [],
   "source": [
    "from langchain.output_parsers import ResponseSchema\n",
    "from langchain.output_parsers import StructuredOutputParser"
   ]
  },
  {
   "cell_type": "code",
   "execution_count": 8,
   "metadata": {},
   "outputs": [],
   "source": [
    "import openai\n",
    "from langchain_openai import ChatOpenAI\n",
    "from langchain.prompts import ChatPromptTemplate\n",
    "\n",
    "openai.api_key = os.environ['OPENAI_APIKEY']\n",
    "llm_model = \"gpt-4o-mini\"\n",
    "# llm_model = \"chatgpt-4o-latest\"\n",
    "\n",
    "\n",
    "chat = ChatOpenAI(temperature=0.0, model=llm_model, openai_api_key=openai.api_key)\n"
   ]
  },
  {
   "cell_type": "code",
   "execution_count": 9,
   "metadata": {},
   "outputs": [],
   "source": [
    "template_string_with_format = \"\"\"\n",
    "You are a highly skilled OWL (Web Ontology Language) ontology engineer. Your task is to assist in the creation, validation, and optimization of OWL ontologies, which are formal representations of knowledge. You have expert knowledge in knowledge engineering, description logic, and semantic web technologies. You also excel at defining classes, properties, and relationships between entities, ensuring logical consistency, and facilitating the sharing of knowledge across different domains.\n",
    "\n",
    "An OWL ontology is a structured framework used to represent and share knowledge about a particular domain. It consists of classes (concepts), properties (relationships and attributes), and individuals (instances). OWL ontologies allow for the modeling of rich, complex relationships between data in a machine-readable format, enabling advanced reasoning, querying, and inference over that data.\n",
    "Core OWL Concepts:\n",
    "\n",
    "    Classes: These represent sets or collections of individuals, typically abstract concepts or types (e.g., \"Character,\" \"Weapon,\" \"GameLevel\").\n",
    "    Individuals: Instances of classes (e.g., \"Mario\" is an individual of the class \"Character\"; \"Sword of Flames\" is an individual of the class \"Weapon\").\n",
    "    Object Properties: Define relationships between two individuals (e.g., \"wieldsWeapon\" linking a character to a weapon they use, or \"locatedIn\" linking a character to a particular game level).\n",
    "    Datatype Properties: Define relationships between an individual and a data value (e.g., \"hasHealthPoints\" linking a character to a numeric value representing their health).\n",
    "    SubClassOf: A relation where one class is a subclass of another, inheriting properties (e.g., \"BossCharacter\" is a subclass of \"Character\").\n",
    "    Equivalence: Used to state that two classes or properties are equivalent (e.g., \"MagicWeapon\" may be declared equivalent to \"SpecialWeapon\").\n",
    "    Disjoint Classes: These are classes that cannot share instances (e.g., \"Weapon\" and \"ConsumableItem\" are disjoint classes, meaning an item cannot be both a weapon and a consumable).\n",
    "\n",
    "OWL Inference and Reasoning:\n",
    "\n",
    "One of the powerful aspects of OWL is that it allows for reasoning over data. Inference engines can deduce new facts based on the relationships and properties defined in the ontology. For example, if \"BossCharacter\" is a subclass of \"Character\" and \"Bowser\" is an individual of \"BossCharacter,\" it can be inferred that \"Bowser\" is also an individual of \"Character.\" Additionally, if a property like \"wieldsWeapon\" is defined, you could infer that \"Bowser wields a FireballWeapon\" if such an individual and relationship are defined.\n",
    "\n",
    "Your role is to assist in extracting classes, properties, and relationships within the context of video game entities such as characters, items, levels, and abilities - from the provided content: web page url, game name and html web page source. You will then use this information to populate an OWL ontology that captures the essence of the video game domain. Your expertise in OWL modeling and knowledge representation will be crucial in this task.\n",
    "\n",
    "Web page url: ```{page_url}```\n",
    "Game name: ```{game_name}```\n",
    "Html web page source: ```{content}```\n",
    "\n",
    "{format_instructions}\n",
    "\n",
    "\"\"\""
   ]
  },
  {
   "cell_type": "code",
   "execution_count": 107,
   "metadata": {},
   "outputs": [],
   "source": [
    "name_schema = ResponseSchema(name=\"name\",\n",
    "                             description=\"Name of the entity from this page\")\n",
    "class_schema = ResponseSchema(name=\"class\",\n",
    "                              description=\"Class of the entity,  for example: character, location, event, lore, in-game item, quest, etc.\")\n",
    "subclass_schema = ResponseSchema(name=\"subclass\",\n",
    "                                 description=\"An appropriate Subclass of the entity. For example - if the entity is a character, the subclass could be a hero, NPC, etc. If the entity is a location, the subclass could be a area, city, village, etc. If class is an item, subclass could be weapon, armor, consumable, etc.\")\n",
    "description_schema = ResponseSchema(name=\"description\",\n",
    "                                     description=\"Description of the entity, in less than 255 characters\")\n",
    "properties_schema = ResponseSchema(name=\"properties\",\n",
    "                                    description=\"List of dictionaries for each property found on the page. Each property can be either data property or object property. Data properties link the main entity to a literal such as string, number, or date. Object properties link main antity of the page to another entity of a relevant class. \\\n",
    "For each property create a dictionary with 5 key value pairs. These are: \\\n",
    "\\\"property_name\\\": the name of the linking property. \\\n",
    "\\\"description\\\": generic description of the property, as applied to any entity of the specific class or subclass mentioned above, no more than 255 characters; \\\n",
    "\\\"target_entity\\\": name or value of the either data or object that property is linking, can't be empty; \\\n",
    "\\\"target_class\\\": class of the data or object that property is linking, if property name is `hasType` or `Type`, then target class is `Class`; \\\n",
    "\\\"target_superclass\\\": a more generic class for the target object, for example defense is a parent of physical defense, magic defense, etc. and voice actor is a parent of japanese voice actor, english voice actor, etc. \\\n",
    "If property points to multiple values, create a separate property dictionary within the properties list for each value.\")\n",
    "\n",
    "response_schemas = [\n",
    "    name_schema, \n",
    "    class_schema, \n",
    "    subclass_schema, \n",
    "    description_schema, \n",
    "    # image_url_schema, \n",
    "    properties_schema\n",
    "]\n",
    "\n",
    "output_parser = StructuredOutputParser.from_response_schemas(response_schemas)\n",
    "format_instructions = output_parser.get_format_instructions()"
   ]
  },
  {
   "cell_type": "code",
   "execution_count": 11,
   "metadata": {},
   "outputs": [],
   "source": [
    "item = {'game_name': 'bravelydefault',\n",
    " 'game_url': 'https://bravelydefault.fandom.com/',\n",
    " 'page_name': 'Adam_Holograd',\n",
    " 'page_url': 'https://bravelydefault.fandom.com/wiki/Adam_Holograd',\n",
    " 'content': '<aside class=\"portable-infobox pi-background pi-border-color pi-theme-series pi-layout-default\" role=\"region\">\\n<h2>Adam Holograd</h2>\\n<div>\\n<div><span><span>アダマス・ホログラード</span> (<span>Adamasu・Horogurādo</span><span><a>?</a></span>, lit. <span>Adamas Holograd</span>)</span></div>\\n</div>\\n\\n<section>\\n<h2>Biographical information</h2>\\n<div>\\n<h3>Home</h3>\\n<div>Holograd</div>\\n</div>\\n<div>\\n<h3>Affiliation</h3>\\n<div>Holograd Empire</div>\\n</div>\\n<div>\\n<h3>Occupation</h3>\\n<div>Lord Commander of the Holograd Empire</div>\\n</div>\\n</section>\\n<section>\\n<h2>Physical description</h2>\\n<div>\\n<h3>Race</h3>\\n<div>Human</div>\\n</div>\\n<div>\\n<h3>Gender</h3>\\n<div>Male</div>\\n</div>\\n<div>\\n<h3>Hair color</h3>\\n<div>Silver</div>\\n</div>\\n</section>\\n<section>\\n<h2>Behind the scenes information</h2>\\n<div>\\n<h3>Designer</h3>\\n<div>Naoki Ikushima</div>\\n</div>\\n<div>\\n<h3>Japanese voice actor</h3>\\n<div>Rikiya Koyama</div>\\n</div>\\n<div>\\n<h3>English voice actor</h3>\\n<div>Gyuri Sarossy</div>\\n</div>\\n</section>\\n</aside>',\n",
    " '_id': '67139f9e8f64cb721b2f3eec'}"
   ]
  },
  {
   "cell_type": "code",
   "execution_count": 12,
   "metadata": {},
   "outputs": [
    {
     "name": "stdout",
     "output_type": "stream",
     "text": [
      "\n",
      "You are a highly skilled OWL (Web Ontology Language) ontology engineer. Your task is to assist in the creation, validation, and optimization of OWL ontologies, which are formal representations of knowledge. You have expert knowledge in knowledge engineering, description logic, and semantic web technologies. You also excel at defining classes, properties, and relationships between entities, ensuring logical consistency, and facilitating the sharing of knowledge across different domains.\n",
      "\n",
      "An OWL ontology is a structured framework used to represent and share knowledge about a particular domain. It consists of classes (concepts), properties (relationships and attributes), and individuals (instances). OWL ontologies allow for the modeling of rich, complex relationships between data in a machine-readable format, enabling advanced reasoning, querying, and inference over that data.\n",
      "Core OWL Concepts:\n",
      "\n",
      "    Classes: These represent sets or collections of individuals, typically abstract concepts or types (e.g., \"Character,\" \"Weapon,\" \"GameLevel\").\n",
      "    Individuals: Instances of classes (e.g., \"Mario\" is an individual of the class \"Character\"; \"Sword of Flames\" is an individual of the class \"Weapon\").\n",
      "    Object Properties: Define relationships between two individuals (e.g., \"wieldsWeapon\" linking a character to a weapon they use, or \"locatedIn\" linking a character to a particular game level).\n",
      "    Datatype Properties: Define relationships between an individual and a data value (e.g., \"hasHealthPoints\" linking a character to a numeric value representing their health).\n",
      "    SubClassOf: A relation where one class is a subclass of another, inheriting properties (e.g., \"BossCharacter\" is a subclass of \"Character\").\n",
      "    Equivalence: Used to state that two classes or properties are equivalent (e.g., \"MagicWeapon\" may be declared equivalent to \"SpecialWeapon\").\n",
      "    Disjoint Classes: These are classes that cannot share instances (e.g., \"Weapon\" and \"ConsumableItem\" are disjoint classes, meaning an item cannot be both a weapon and a consumable).\n",
      "\n",
      "OWL Inference and Reasoning:\n",
      "\n",
      "One of the powerful aspects of OWL is that it allows for reasoning over data. Inference engines can deduce new facts based on the relationships and properties defined in the ontology. For example, if \"BossCharacter\" is a subclass of \"Character\" and \"Bowser\" is an individual of \"BossCharacter,\" it can be inferred that \"Bowser\" is also an individual of \"Character.\" Additionally, if a property like \"wieldsWeapon\" is defined, you could infer that \"Bowser wields a FireballWeapon\" if such an individual and relationship are defined.\n",
      "\n",
      "Your role is to assist in extracting classes, properties, and relationships within the context of video game entities such as characters, items, levels, and abilities - from the provided content: web page url, game name and html web page source. You will then use this information to populate an OWL ontology that captures the essence of the video game domain. Your expertise in OWL modeling and knowledge representation will be crucial in this task.\n",
      "\n",
      "Web page url: ```https://bravelydefault.fandom.com/wiki/Adam_Holograd```\n",
      "Game name: ```bravelydefault```\n",
      "Html web page source: ```<aside class=\"portable-infobox pi-background pi-border-color pi-theme-series pi-layout-default\" role=\"region\">\n",
      "<h2>Adam Holograd</h2>\n",
      "<div>\n",
      "<div><span><span>アダマス・ホログラード</span> (<span>Adamasu・Horogurādo</span><span><a>?</a></span>, lit. <span>Adamas Holograd</span>)</span></div>\n",
      "</div>\n",
      "\n",
      "<section>\n",
      "<h2>Biographical information</h2>\n",
      "<div>\n",
      "<h3>Home</h3>\n",
      "<div>Holograd</div>\n",
      "</div>\n",
      "<div>\n",
      "<h3>Affiliation</h3>\n",
      "<div>Holograd Empire</div>\n",
      "</div>\n",
      "<div>\n",
      "<h3>Occupation</h3>\n",
      "<div>Lord Commander of the Holograd Empire</div>\n",
      "</div>\n",
      "</section>\n",
      "<section>\n",
      "<h2>Physical description</h2>\n",
      "<div>\n",
      "<h3>Race</h3>\n",
      "<div>Human</div>\n",
      "</div>\n",
      "<div>\n",
      "<h3>Gender</h3>\n",
      "<div>Male</div>\n",
      "</div>\n",
      "<div>\n",
      "<h3>Hair color</h3>\n",
      "<div>Silver</div>\n",
      "</div>\n",
      "</section>\n",
      "<section>\n",
      "<h2>Behind the scenes information</h2>\n",
      "<div>\n",
      "<h3>Designer</h3>\n",
      "<div>Naoki Ikushima</div>\n",
      "</div>\n",
      "<div>\n",
      "<h3>Japanese voice actor</h3>\n",
      "<div>Rikiya Koyama</div>\n",
      "</div>\n",
      "<div>\n",
      "<h3>English voice actor</h3>\n",
      "<div>Gyuri Sarossy</div>\n",
      "</div>\n",
      "</section>\n",
      "</aside>```\n",
      "\n",
      "The output should be a markdown code snippet formatted in the following schema, including the leading and trailing \"```json\" and \"```\":\n",
      "\n",
      "```json\n",
      "{\n",
      "\t\"name\": string  // Name of the entity from this page\n",
      "\t\"class\": string  // Class of the entity,  for example: character, location, event, lore, in-game item, quest, etc.\n",
      "\t\"subclass\": string  // An appropriate Subclass of the entity. For example - if the entity is a character, the subclass could be a hero, NPC, etc. If the entity is a location, the subclass could be a area, city, village, etc. If class is an item, subclass could be weapon, armor, consumable, etc.\n",
      "\t\"description\": string  // Description of the entity, in less than 255 characters\n",
      "\t\"properties\": string  // List of dictionaries for each property found on the page. Each property can be either data property or object property. Data properties link the main entity to a literal such as string, number, or date. Object properties link main antity of the page to another entity of a relevant class. For each property create a dictionary with 5 key value pairs. These are: key - property_name, value - name of the linking property. key - description, value - generic description of the property, as applied to any entity of the specific class or subclass mentioned above, no more than 255 characters; key - target_entity, value - name or value from the page of the either data or object that property is linking, can't be empty; key - target_class, value - class of the data or object that property is linking, if property name is `hasType` or `Type`, then target class is `Class`; key- target_superclass, value - a more generic class for the target object, for example defense is a parent of physical defense, magic defense, etc. and voice actor is a parent of japanese voice actor, english voice actor, etc. Once 5 key values created, check again that the property name and description is appropriate. If property points to multiple values, create separate dictionaries with the same property name for each value.\n",
      "}\n",
      "```\n",
      "\n",
      "\n"
     ]
    }
   ],
   "source": [
    "prompt = ChatPromptTemplate.from_template(template=template_string_with_format)\n",
    "\n",
    "messages = prompt.format_messages(**item, \n",
    "                                format_instructions=format_instructions)\n",
    "print(messages[0].content)"
   ]
  },
  {
   "cell_type": "code",
   "execution_count": 40,
   "metadata": {},
   "outputs": [],
   "source": [
    "response = chat(messages)\n",
    "output_dict = output_parser.parse(response.content)"
   ]
  },
  {
   "cell_type": "code",
   "execution_count": 41,
   "metadata": {},
   "outputs": [
    {
     "data": {
      "text/plain": [
       "{'name': 'Adam Holograd',\n",
       " 'class': 'Character',\n",
       " 'subclass': 'NPC',\n",
       " 'description': 'Adam Holograd is the Lord Commander of the Holograd Empire, a human character with silver hair.',\n",
       " 'properties': [{'property_name': 'home',\n",
       "   'description': 'The location where the character resides.',\n",
       "   'target_entity': 'Holograd',\n",
       "   'target_class': 'Location',\n",
       "   'target_superclass': 'GeographicalEntity'},\n",
       "  {'property_name': 'affiliation',\n",
       "   'description': 'The organization or group the character is associated with.',\n",
       "   'target_entity': 'Holograd Empire',\n",
       "   'target_class': 'Faction',\n",
       "   'target_superclass': 'Organization'},\n",
       "  {'property_name': 'occupation',\n",
       "   'description': 'The role or job held by the character.',\n",
       "   'target_entity': 'Lord Commander of the Holograd Empire',\n",
       "   'target_class': 'Role',\n",
       "   'target_superclass': 'Position'},\n",
       "  {'property_name': 'race',\n",
       "   'description': 'The species or race of the character.',\n",
       "   'target_entity': 'Human',\n",
       "   'target_class': 'Race',\n",
       "   'target_superclass': 'BiologicalEntity'},\n",
       "  {'property_name': 'gender',\n",
       "   'description': 'The gender of the character.',\n",
       "   'target_entity': 'Male',\n",
       "   'target_class': 'Gender',\n",
       "   'target_superclass': 'BiologicalAttribute'},\n",
       "  {'property_name': 'hairColor',\n",
       "   'description': \"The color of the character's hair.\",\n",
       "   'target_entity': 'Silver',\n",
       "   'target_class': 'Color',\n",
       "   'target_superclass': 'Attribute'},\n",
       "  {'property_name': 'designer',\n",
       "   'description': 'The individual responsible for designing the character.',\n",
       "   'target_entity': 'Naoki Ikushima',\n",
       "   'target_class': 'Designer',\n",
       "   'target_superclass': 'Person'},\n",
       "  {'property_name': 'japaneseVoiceActor',\n",
       "   'description': 'The voice actor for the character in the Japanese version.',\n",
       "   'target_entity': 'Rikiya Koyama',\n",
       "   'target_class': 'VoiceActor',\n",
       "   'target_superclass': 'Person'},\n",
       "  {'property_name': 'englishVoiceActor',\n",
       "   'description': 'The voice actor for the character in the English version.',\n",
       "   'target_entity': 'Gyuri Sarossy',\n",
       "   'target_class': 'VoiceActor',\n",
       "   'target_superclass': 'Person'}]}"
      ]
     },
     "execution_count": 41,
     "metadata": {},
     "output_type": "execute_result"
    }
   ],
   "source": [
    "output_dict"
   ]
  },
  {
   "cell_type": "code",
   "execution_count": null,
   "metadata": {},
   "outputs": [],
   "source": [
    "# insert the extracted information to the postgresql database, table 'fandom_entities'\n",
    "cursor.execute(\n",
    "    \"\"\"INSERT INTO fando_entities (object_id, name, class, subclass, description)\n",
    "    VALUES (%s, %s, %s, %s, %s);\"\"\",\n",
    "    (item[\"_id\"], output_dict[\"name\"], output_dict[\"class\"], output_dict[\"subclass\"], output_dict[\"description\"])\n",
    ")\n",
    "conn.commit()"
   ]
  },
  {
   "cell_type": "code",
   "execution_count": null,
   "metadata": {},
   "outputs": [],
   "source": [
    "# insert the extracted information to the postgresql database, table 'fandom_properties'\n",
    "for prop in output_dict[\"properties\"]:\n",
    "    cursor.execute(\n",
    "        \"\"\"INSERT INTO fandom_properties (object_id, name, description, target, target_class, target_superclass)\n",
    "        VALUES (%s, %s, %s, %s, %s);\"\"\",\n",
    "        (item[\"_id\"], prop[\"name\"], prop[\"value\"], prop[\"description\"], prop[\"parent\"])\n",
    "    )\n",
    "    conn.commit()"
   ]
  },
  {
   "cell_type": "markdown",
   "metadata": {},
   "source": [
    "## Batch processing\n",
    "\n",
    "As described in OpenAI docs:\n",
    "\n",
    "\"Batch API: Learn how to use OpenAI's Batch API to send asynchronous groups of requests with 50% lower costs, a separate pool of significantly higher rate limits, and a clear 24-hour turnaround time.\"\n",
    "\n",
    "https://platform.openai.com/docs/guides/batch/overview"
   ]
  },
  {
   "cell_type": "code",
   "execution_count": 41,
   "metadata": {},
   "outputs": [],
   "source": [
    "import pandas as pd\n",
    "from tqdm.notebook import tqdm"
   ]
  },
  {
   "cell_type": "code",
   "execution_count": 13,
   "metadata": {},
   "outputs": [
    {
     "name": "stderr",
     "output_type": "stream",
     "text": [
      "/tmp/ipykernel_1301/3477299081.py:1: UserWarning: pandas only supports SQLAlchemy connectable (engine/connection) or database string URI or sqlite3 DBAPI2 connection. Other DBAPI2 objects are not tested. Please consider using SQLAlchemy.\n",
      "  df = pd.read_sql(\n"
     ]
    }
   ],
   "source": [
    "df = pd.read_sql(\n",
    "    \"\"\"SELECT * FROM fandom_pages;\"\"\", conn\n",
    ")"
   ]
  },
  {
   "cell_type": "code",
   "execution_count": 14,
   "metadata": {},
   "outputs": [
    {
     "data": {
      "text/html": [
       "<div>\n",
       "<style scoped>\n",
       "    .dataframe tbody tr th:only-of-type {\n",
       "        vertical-align: middle;\n",
       "    }\n",
       "\n",
       "    .dataframe tbody tr th {\n",
       "        vertical-align: top;\n",
       "    }\n",
       "\n",
       "    .dataframe thead th {\n",
       "        text-align: right;\n",
       "    }\n",
       "</style>\n",
       "<table border=\"1\" class=\"dataframe\">\n",
       "  <thead>\n",
       "    <tr style=\"text-align: right;\">\n",
       "      <th></th>\n",
       "      <th>id</th>\n",
       "      <th>object_id</th>\n",
       "      <th>game_name</th>\n",
       "      <th>game_url</th>\n",
       "      <th>page_name</th>\n",
       "      <th>page_url</th>\n",
       "      <th>content</th>\n",
       "      <th>created_at</th>\n",
       "    </tr>\n",
       "  </thead>\n",
       "  <tbody>\n",
       "    <tr>\n",
       "      <th>0</th>\n",
       "      <td>2</td>\n",
       "      <td>67139f9e8f64cb721b2f3eec</td>\n",
       "      <td>bravelydefault</td>\n",
       "      <td>https://bravelydefault.fandom.com/</td>\n",
       "      <td>Adam_Holograd</td>\n",
       "      <td>https://bravelydefault.fandom.com/wiki/Adam_Ho...</td>\n",
       "      <td>&lt;aside class=\"portable-infobox pi-background p...</td>\n",
       "      <td>2024-10-19 12:11:19.941645</td>\n",
       "    </tr>\n",
       "    <tr>\n",
       "      <th>1</th>\n",
       "      <td>3</td>\n",
       "      <td>6713a1e78f64cb721b2f3eed</td>\n",
       "      <td>bravelydefault</td>\n",
       "      <td>https://bravelydefault.fandom.com/</td>\n",
       "      <td>Adamantite_Shell_(Bravely_Default)</td>\n",
       "      <td>https://bravelydefault.fandom.com/wiki/Adamant...</td>\n",
       "      <td>&lt;aside class=\"portable-infobox pi-background p...</td>\n",
       "      <td>2024-10-19 12:11:20.004083</td>\n",
       "    </tr>\n",
       "    <tr>\n",
       "      <th>2</th>\n",
       "      <td>4</td>\n",
       "      <td>6713a1e78f64cb721b2f3eee</td>\n",
       "      <td>bravelydefault</td>\n",
       "      <td>https://bravelydefault.fandom.com/</td>\n",
       "      <td>Adelle_Ein</td>\n",
       "      <td>https://bravelydefault.fandom.com/wiki/Adelle_Ein</td>\n",
       "      <td>&lt;aside class=\"portable-infobox pi-background p...</td>\n",
       "      <td>2024-10-19 12:11:20.062576</td>\n",
       "    </tr>\n",
       "    <tr>\n",
       "      <th>3</th>\n",
       "      <td>5</td>\n",
       "      <td>6713a1e78f64cb721b2f3eef</td>\n",
       "      <td>bravelydefault</td>\n",
       "      <td>https://bravelydefault.fandom.com/</td>\n",
       "      <td>Adventurer</td>\n",
       "      <td>https://bravelydefault.fandom.com/wiki/Adventurer</td>\n",
       "      <td>&lt;aside class=\"portable-infobox pi-background p...</td>\n",
       "      <td>2024-10-19 12:11:20.118943</td>\n",
       "    </tr>\n",
       "    <tr>\n",
       "      <th>4</th>\n",
       "      <td>6</td>\n",
       "      <td>6713a1e78f64cb721b2f3ef0</td>\n",
       "      <td>bravelydefault</td>\n",
       "      <td>https://bravelydefault.fandom.com/</td>\n",
       "      <td>Adventurer_(Bravely_Default_boss)</td>\n",
       "      <td>https://bravelydefault.fandom.com/wiki/Adventu...</td>\n",
       "      <td>&lt;aside class=\"portable-infobox pi-background p...</td>\n",
       "      <td>2024-10-19 12:11:20.176508</td>\n",
       "    </tr>\n",
       "  </tbody>\n",
       "</table>\n",
       "</div>"
      ],
      "text/plain": [
       "   id                 object_id       game_name  \\\n",
       "0   2  67139f9e8f64cb721b2f3eec  bravelydefault   \n",
       "1   3  6713a1e78f64cb721b2f3eed  bravelydefault   \n",
       "2   4  6713a1e78f64cb721b2f3eee  bravelydefault   \n",
       "3   5  6713a1e78f64cb721b2f3eef  bravelydefault   \n",
       "4   6  6713a1e78f64cb721b2f3ef0  bravelydefault   \n",
       "\n",
       "                             game_url                           page_name  \\\n",
       "0  https://bravelydefault.fandom.com/                       Adam_Holograd   \n",
       "1  https://bravelydefault.fandom.com/  Adamantite_Shell_(Bravely_Default)   \n",
       "2  https://bravelydefault.fandom.com/                          Adelle_Ein   \n",
       "3  https://bravelydefault.fandom.com/                          Adventurer   \n",
       "4  https://bravelydefault.fandom.com/   Adventurer_(Bravely_Default_boss)   \n",
       "\n",
       "                                            page_url  \\\n",
       "0  https://bravelydefault.fandom.com/wiki/Adam_Ho...   \n",
       "1  https://bravelydefault.fandom.com/wiki/Adamant...   \n",
       "2  https://bravelydefault.fandom.com/wiki/Adelle_Ein   \n",
       "3  https://bravelydefault.fandom.com/wiki/Adventurer   \n",
       "4  https://bravelydefault.fandom.com/wiki/Adventu...   \n",
       "\n",
       "                                             content  \\\n",
       "0  <aside class=\"portable-infobox pi-background p...   \n",
       "1  <aside class=\"portable-infobox pi-background p...   \n",
       "2  <aside class=\"portable-infobox pi-background p...   \n",
       "3  <aside class=\"portable-infobox pi-background p...   \n",
       "4  <aside class=\"portable-infobox pi-background p...   \n",
       "\n",
       "                  created_at  \n",
       "0 2024-10-19 12:11:19.941645  \n",
       "1 2024-10-19 12:11:20.004083  \n",
       "2 2024-10-19 12:11:20.062576  \n",
       "3 2024-10-19 12:11:20.118943  \n",
       "4 2024-10-19 12:11:20.176508  "
      ]
     },
     "execution_count": 14,
     "metadata": {},
     "output_type": "execute_result"
    }
   ],
   "source": [
    "df.head()"
   ]
  },
  {
   "cell_type": "markdown",
   "metadata": {},
   "source": [
    "```\n",
    "{\"custom_id\": \"request-1\", \"method\": \"POST\", \"url\": \"/v1/chat/completions\", \"body\": {\"model\": \"gpt-3.5-turbo-0125\", \"messages\": [{\"role\": \"system\", \"content\": \"You are a helpful assistant.\"},{\"role\": \"user\", \"content\": \"Hello world!\"}],\"max_tokens\": 1000}}\n",
    "{\"custom_id\": \"request-2\", \"method\": \"POST\", \"url\": \"/v1/chat/completions\", \"body\": {\"model\": \"gpt-3.5-turbo-0125\", \"messages\": [{\"role\": \"system\", \"content\": \"You are an unhelpful assistant.\"},{\"role\": \"user\", \"content\": \"Hello world!\"}],\"max_tokens\": 1000}}\n",
    "```"
   ]
  },
  {
   "cell_type": "code",
   "execution_count": 305,
   "metadata": {},
   "outputs": [
    {
     "data": {
      "application/vnd.jupyter.widget-view+json": {
       "model_id": "8f7889756107418fbef315c985ee89af",
       "version_major": 2,
       "version_minor": 0
      },
      "text/plain": [
       "  0%|          | 0/36 [00:00<?, ?it/s]"
      ]
     },
     "metadata": {},
     "output_type": "display_data"
    }
   ],
   "source": [
    "start = 13000\n",
    "end = 14000\n",
    "batch_filename = f'batchinput_{start}_{end}.jsonl'\n",
    "with open(batch_filename, 'w') as f:\n",
    "    for item in tqdm(df.to_dict(orient='records')[start:end]):\n",
    "        messages = prompt.format_messages(**item, \n",
    "                                format_instructions=format_instructions)\n",
    "        request = {\n",
    "            \"custom_id\": item['object_id'],\n",
    "            \"method\": \"POST\",\n",
    "            \"url\": \"/v1/chat/completions\",\n",
    "            \"body\": {\n",
    "                \"model\": \"gpt-4o-mini\",\n",
    "                \"messages\": [\n",
    "                    {\"role\": \"system\", \"content\": messages[0].content}\n",
    "                ]\n",
    "            }\n",
    "        }\n",
    "        json.dump(request, f)\n",
    "        f.write('\\n')\n"
   ]
  },
  {
   "cell_type": "code",
   "execution_count": 306,
   "metadata": {},
   "outputs": [
    {
     "data": {
      "text/plain": [
       "Batch(id='batch_67160d81e1e08190a2e1c6ba26a95e67', completion_window='24h', created_at=1729498498, endpoint='/v1/chat/completions', input_file_id='file-hxRfDiTNFM4MZOziIzsVLAsK', object='batch', status='validating', cancelled_at=None, cancelling_at=None, completed_at=None, error_file_id=None, errors=None, expired_at=None, expires_at=1729584898, failed_at=None, finalizing_at=None, in_progress_at=None, metadata={'description': 'batch ontology job 13000-14000'}, output_file_id=None, request_counts=BatchRequestCounts(completed=0, failed=0, total=0))"
      ]
     },
     "execution_count": 306,
     "metadata": {},
     "output_type": "execute_result"
    }
   ],
   "source": [
    "from openai import OpenAI\n",
    "client = OpenAI(api_key=os.environ['OPENAI_APIKEY'])\n",
    "\n",
    "batch_input_file = client.files.create(\n",
    "  file=open(batch_filename, \"rb\"),\n",
    "  purpose=\"batch\"\n",
    ")\n",
    "\n",
    "batch_input_file_id = batch_input_file.id\n",
    "\n",
    "batch_create_msg = client.batches.create(\n",
    "    input_file_id=batch_input_file_id,\n",
    "    endpoint=\"/v1/chat/completions\",\n",
    "    completion_window=\"24h\",\n",
    "    metadata={\n",
    "      \"description\": f\"batch ontology job {start}-{end}\"\n",
    "    }\n",
    ")\n",
    "batch_create_msg"
   ]
  },
  {
   "cell_type": "code",
   "execution_count": 319,
   "metadata": {},
   "outputs": [
    {
     "name": "stdout",
     "output_type": "stream",
     "text": [
      "batch ontology job 13000-14000 completed\n",
      "BatchRequestCounts(completed=36, failed=0, total=36)\n"
     ]
    }
   ],
   "source": [
    "batch_info = client.batches.retrieve(batch_create_msg.id)\n",
    "print(batch_info.metadata['description'], batch_info.status)\n",
    "print(batch_info.request_counts)"
   ]
  },
  {
   "cell_type": "code",
   "execution_count": 320,
   "metadata": {},
   "outputs": [
    {
     "name": "stdout",
     "output_type": "stream",
     "text": [
      "batchoutput_14.jsonl completed.\n"
     ]
    }
   ],
   "source": [
    "batch_status = client.batches.retrieve(batch_create_msg.id)\n",
    "if batch_status.status == 'completed':\n",
    "    file_response = client.files.content(batch_status.output_file_id)\n",
    "    batch_output_filename = f'batchoutput_{int(end/1000)}.jsonl'\n",
    "    with open(batch_output_filename, \"wb\") as f:\n",
    "        f.write(file_response.content)\n",
    "\n",
    "    print(f\"{batch_output_filename} completed.\")\n",
    "else:\n",
    "    print(f\"Batch job {int(end/1000)} is still {batch_status.status}.\")"
   ]
  },
  {
   "cell_type": "code",
   "execution_count": 136,
   "metadata": {},
   "outputs": [],
   "source": []
  },
  {
   "cell_type": "code",
   "execution_count": 321,
   "metadata": {},
   "outputs": [
    {
     "data": {
      "application/vnd.jupyter.widget-view+json": {
       "model_id": "cbb1e2f5b9c24f12a45f8a7a2b7beb58",
       "version_major": 2,
       "version_minor": 0
      },
      "text/plain": [
       "  0%|          | 0/1000 [00:00<?, ?it/s]"
      ]
     },
     "metadata": {},
     "output_type": "display_data"
    },
    {
     "name": "stdout",
     "output_type": "stream",
     "text": [
      "Got invalid return object. Expected key `subclass` to be present, but got {'name': 'Alina Ramos', 'class': 'Character'}\n",
      "For troubleshooting, visit: https://python.langchain.com/docs/troubleshooting/errors/OUTPUT_PARSING_FAILURE\n",
      "Failed object_id: 6713a4cf8f64cb721b2f6eab\n",
      "Got invalid JSON object. Error: Expecting property name enclosed in double quotes: line 4 column 2 (char 63)\n",
      "For troubleshooting, visit: https://python.langchain.com/docs/troubleshooting/errors/OUTPUT_PARSING_FAILURE\n",
      "Failed object_id: 6713a4d08f64cb721b2f6ec0\n",
      "Got invalid JSON object. Error: Expecting property name enclosed in double quotes: line 59 column 28 (char 1801)\n",
      "For troubleshooting, visit: https://python.langchain.com/docs/troubleshooting/errors/OUTPUT_PARSING_FAILURE\n",
      "Failed object_id: 6713a4d38f64cb721b2f6efb\n",
      "Got invalid return object. Expected key `name` to be present, but got [{'name': 'Jesse Faden', 'class': 'Character', 'subclass': 'Hero', 'description': \"The main protagonist of 'Control' seeking to uncover the mysteries of the Oldest House.\", 'properties': [{'property_name': 'isCharacter', 'description': 'Indicates that the entity is a character within the game.', 'target_entity': 'Jesse Faden', 'target_class': 'Character', 'target_superclass': 'Person'}]}, {'name': 'Alan Wake', 'class': 'Character', 'subclass': 'Hero', 'description': \"A key character from both 'Control' and 'Alan Wake', known for his struggle against darkness.\", 'properties': [{'property_name': 'isCharacter', 'description': 'Indicates that the entity is a character within the game.', 'target_entity': 'Alan Wake', 'target_class': 'Character', 'target_superclass': 'Person'}]}, {'name': 'Thomas Zane', 'class': 'Character', 'subclass': 'NPC', 'description': \"A mysterious figure from 'Alan Wake' whose influence extends into 'Control'.\", 'properties': [{'property_name': 'isCharacter', 'description': 'Indicates that the entity is a character within the game.', 'target_entity': 'Thomas Zane', 'target_class': 'Character', 'target_superclass': 'Person'}]}, {'name': 'Emil Hartman', 'class': 'Character', 'subclass': 'Enemy', 'description': \"A main enemy character in 'Control', representing a significant obstacle for the protagonist.\", 'properties': [{'property_name': 'isCharacter', 'description': 'Indicates that the entity is a character within the game.', 'target_entity': 'Emil Hartman', 'target_class': 'Character', 'target_superclass': 'Person'}]}, {'name': 'Oldest House', 'class': 'Location', 'subclass': 'Area', 'description': \"The mysterious building serving as the primary setting of 'Control', filled with supernatural occurrences.\", 'properties': [{'property_name': 'isLocation', 'description': 'Indicates that the entity is a location within the game.', 'target_entity': 'Oldest House', 'target_class': 'Location', 'target_superclass': 'Place'}]}, {'name': 'Investigations Sector', 'class': 'Location', 'subclass': 'Area', 'description': \"A specific area within the Oldest House used for investigations in 'Control'.\", 'properties': [{'property_name': 'locatedIn', 'description': 'Indicates the larger location or area that contains this specific location.', 'target_entity': 'Oldest House', 'target_class': 'Location', 'target_superclass': 'Place'}]}, {'name': 'Dark Place', 'class': 'Location', 'subclass': 'Area', 'description': \"A surreal and hazardous dimension related to 'Alan Wake' and 'Control'.\", 'properties': [{'property_name': 'locatedIn', 'description': 'Indicates the larger location or area that contains this specific location.', 'target_entity': 'Oldest House', 'target_class': 'Location', 'target_superclass': 'Place'}]}, {'name': '2019', 'class': 'Event', 'subclass': 'Timeline', 'description': \"The year in which the events of 'Control: AWE' take place.\", 'properties': []}, {'name': 'Control', 'class': 'Media', 'subclass': 'Video Game', 'description': \"'Control' is the title of the game in which the AWE event occurs.\", 'properties': []}, {'name': 'Act III', 'class': 'Event', 'subclass': 'Quest', 'description': \"A segment of gameplay previously encountered in 'American Nightmare'.\", 'properties': []}, {'name': 'Prologue: The Cult', 'class': 'Event', 'subclass': 'Quest', 'description': \"Content that follows the events of 'Control' in 'Alan Wake 2'.\", 'properties': []}]\n",
      "For troubleshooting, visit: https://python.langchain.com/docs/troubleshooting/errors/OUTPUT_PARSING_FAILURE\n",
      "Failed object_id: 6713a4d98f64cb721b2f6f5b\n",
      "Got invalid return object. Expected key `name` to be present, but got [{'name': 'Alan Wake', 'class': 'Character', 'subclass': 'Hero', 'description': 'Protagonist of Alan Wake, a thriller writer trapped in his own nightmares.', 'properties': [{'property_name': 'appearsIn', 'description': 'The media in which this character is featured.', 'target_entity': \"Alan Wake's American Nightmare\", 'target_class': 'Media', 'target_superclass': 'MediaItem'}]}, {'name': 'Alice Wake', 'class': 'Character', 'subclass': 'NPC', 'description': \"Alan Wake's wife, who plays a pivotal role in his psychological struggle.\", 'properties': [{'property_name': 'appearsIn', 'description': 'The media in which this character is featured.', 'target_entity': \"Alan Wake's American Nightmare\", 'target_class': 'Media', 'target_superclass': 'MediaItem'}]}, {'name': 'Barry Wheeler', 'class': 'Character', 'subclass': 'NPC', 'description': 'A close friend of Alan Wake, providing support throughout the game.', 'properties': [{'property_name': 'appearsIn', 'description': 'The media in which this character is featured.', 'target_entity': \"Alan Wake's American Nightmare\", 'target_class': 'Media', 'target_superclass': 'MediaItem'}]}, {'name': 'Mr. Scratch', 'class': 'Character', 'subclass': 'Antagonist', 'description': 'A dark doppelgänger of Alan Wake, representing his inner fears.', 'properties': [{'property_name': 'appearsIn', 'description': 'The media in which this character is featured.', 'target_entity': \"Alan Wake's American Nightmare\", 'target_class': 'Media', 'target_superclass': 'MediaItem'}, {'property_name': 'isEnemyOf', 'description': 'The primary character or characters this villain opposes.', 'target_entity': 'Alan Wake', 'target_class': 'Character', 'target_superclass': 'Character'}]}, {'name': 'Emma Sloan', 'class': 'Character', 'subclass': 'NPC', 'description': 'A character who aids Alan Wake in his quest within the narrative.', 'properties': [{'property_name': 'appearsIn', 'description': 'The media in which this character is featured.', 'target_entity': \"Alan Wake's American Nightmare\", 'target_class': 'Media', 'target_superclass': 'MediaItem'}]}, {'name': 'Rachel Meadows', 'class': 'Character', 'subclass': 'NPC', 'description': 'A significant character who interacts with Alan Wake throughout the story.', 'properties': [{'property_name': 'appearsIn', 'description': 'The media in which this character is featured.', 'target_entity': \"Alan Wake's American Nightmare\", 'target_class': 'Media', 'target_superclass': 'MediaItem'}]}, {'name': 'Serena Valdivia', 'class': 'Character', 'subclass': 'NPC', 'description': \"A character connected to the narrative of Alan Wake's journey.\", 'properties': [{'property_name': 'appearsIn', 'description': 'The media in which this character is featured.', 'target_entity': \"Alan Wake's American Nightmare\", 'target_class': 'Media', 'target_superclass': 'MediaItem'}]}, {'name': 'Eddie Rodman', 'class': 'Character', 'subclass': 'NPC', 'description': 'A character encountered by Alan Wake during the events of the game.', 'properties': [{'property_name': 'appearsIn', 'description': 'The media in which this character is featured.', 'target_entity': \"Alan Wake's American Nightmare\", 'target_class': 'Media', 'target_superclass': 'MediaItem'}]}, {'name': 'Act III', 'class': 'Event', 'subclass': 'GameAct', 'description': \"The third act of Alan Wake's journey, where critical plot developments unfold.\", 'properties': [{'property_name': 'timeline', 'description': 'The period in which this act occurs.', 'target_entity': '2011/2012', 'target_class': 'Date', 'target_superclass': 'TemporalEntity'}]}, {'name': 'Desert Shore Motel', 'class': 'Location', 'subclass': 'Area', 'description': 'A significant location within Act III, where parts of the story are set.', 'properties': [{'property_name': 'locatedIn', 'description': 'The act of the game in which this location appears.', 'target_entity': 'Act III', 'target_class': 'Event', 'target_superclass': 'Event'}]}, {'name': 'Mount Redtooth National Observatory', 'class': 'Location', 'subclass': 'Area', 'description': 'Another key location within Act III that adds to the narrative atmosphere.', 'properties': [{'property_name': 'locatedIn', 'description': 'The act of the game in which this location appears.', 'target_entity': 'Act III', 'target_class': 'Event', 'target_superclass': 'Event'}]}, {'name': 'Drive-In Theater', 'class': 'Location', 'subclass': 'Area', 'description': 'A memorable location in Act III where some critical events unfold.', 'properties': [{'property_name': 'locatedIn', 'description': 'The act of the game in which this location appears.', 'target_entity': 'Act III', 'target_class': 'Event', 'target_superclass': 'Event'}]}]\n",
      "For troubleshooting, visit: https://python.langchain.com/docs/troubleshooting/errors/OUTPUT_PARSING_FAILURE\n",
      "Failed object_id: 6713a4da8f64cb721b2f6f63\n",
      "Got invalid return object. Expected key `name` to be present, but got [{'name': 'Alan Wake', 'class': 'Character'}]\n",
      "For troubleshooting, visit: https://python.langchain.com/docs/troubleshooting/errors/OUTPUT_PARSING_FAILURE\n",
      "Failed object_id: 6713a4da8f64cb721b2f6f64\n",
      "Got invalid JSON object. Error: Expecting property name enclosed in double quotes: line 4 column 2 (char 57)\n",
      "For troubleshooting, visit: https://python.langchain.com/docs/troubleshooting/errors/OUTPUT_PARSING_FAILURE\n",
      "Failed object_id: 6713a4e28f64cb721b2f6fed\n",
      "Got invalid JSON object. Error: Expecting property name enclosed in double quotes: line 24 column 31 (char 793)\n",
      "For troubleshooting, visit: https://python.langchain.com/docs/troubleshooting/errors/OUTPUT_PARSING_FAILURE\n",
      "Failed object_id: 6713a4ec8f64cb721b2f7087\n",
      "Got invalid JSON object. Error: Expecting property name enclosed in double quotes: line 4 column 2 (char 68)\n",
      "For troubleshooting, visit: https://python.langchain.com/docs/troubleshooting/errors/OUTPUT_PARSING_FAILURE\n",
      "Failed object_id: 6713a4eb8f64cb721b2f7078\n",
      "Got invalid return object. Expected key `subclass` to be present, but got {'name': 'African Penguin', 'class': 'Animal', 'subsetclass': 'Animal', 'description': 'The African Penguin, scientifically known as Spheniscus demersus, is a species of penguin native to the African coasts.', 'properties': [{'property_name': 'hasScientificName', 'description': 'Links an animal to its scientific classification name.', 'target_entity': 'Spheniscus demersus', 'target_class': 'ScientificName', 'target_superclass': 'Taxonomy'}, {'property_name': 'belongsToPack', 'description': 'Indicates the specific expansion pack or edition that an animal belongs to.', 'target_entity': 'Africa Pack', 'target_class': 'Edition', 'target_superclass': 'GameEdition'}, {'property_name': 'foundInContinents', 'description': 'Indicates the continents where the species is found.', 'target_entity': 'Africa', 'target_class': 'Continent', 'target_superclass': 'GeographicalRegion'}, {'property_name': 'foundInRegions', 'description': 'Indicates the specific regions where the species is found.', 'target_entity': 'Namibia and South Africa', 'target_class': 'Region', 'target_superclass': 'GeographicalRegion'}, {'property_name': 'hasHabitatRequirements', 'description': 'Describes the habitat needs of the animal.', 'target_entity': 'Land Area: 180.0 m², Water Area: 135.0 m²', 'target_class': 'Habitat', 'target_superclass': 'Environment'}, {'property_name': 'hasSocialStructure', 'description': 'Links the animal to its social group size and makeup.', 'target_entity': '6‒500 (up to 499 males, up to 499 females)', 'target_class': 'SocialStructure', 'target_superclass': 'Behavior'}, {'property_name': 'hasReproductiveNature', 'description': 'Describes the reproductive behavior of the animal.', 'target_entity': 'Average (Monogamous)', 'target_class': 'ReproductionType', 'target_superclass': 'ReproductiveBehavior'}, {'property_name': 'hasMaturityAge', 'description': 'Indicates the age at which the animal matures.', 'target_entity': '4 years', 'target_class': 'Age', 'target_superclass': 'LifecycleStage'}, {'property_name': 'hasGestationPeriod', 'description': 'Indicates the gestation or incubation period for the animal.', 'target_entity': '1 month', 'target_class': 'GestationPeriod', 'target_superclass': 'Reproduction'}, {'property_name': 'hasTaxonomicClassification', 'description': 'Links the animal to its taxonomy classification details.', 'target_entity': 'Aves, Sphenisciformes, Spheniscidae, Spheniscus', 'target_class': 'Taxonomy', 'target_superclass': 'BiologicalClassification'}]}\n",
      "For troubleshooting, visit: https://python.langchain.com/docs/troubleshooting/errors/OUTPUT_PARSING_FAILURE\n",
      "Failed object_id: 6713a4ed8f64cb721b2f709f\n",
      "Got invalid return object. Expected key `subclass` to be present, but got {'name': '626 Escape!', 'class': 'Event', 'useclass': 'Challenge', 'description': '626 Escape! is a galactic challenge event in Disney Infinity created by ShadowHvo, set in the fifth place.', 'properties': [{'property_name': 'creator', 'description': 'The creator of the event.', 'target_entity': 'ShadowHvo', 'target_class': 'Character', 'target_superclass': 'Entity'}, {'property_name': 'challengeType', 'description': 'The type of challenge that this event represents.', 'target_entity': 'Galactic Challenge', 'target_class': 'ChallengeType', 'target_superclass': 'Challenge'}, {'property_name': 'placedIn', 'description': 'The rank or position of the event in a competitive scenario.', 'target_entity': 'Fifth', 'target_class': 'Ranking', 'target_superclass': 'Position'}]}\n",
      "For troubleshooting, visit: https://python.langchain.com/docs/troubleshooting/errors/OUTPUT_PARSING_FAILURE\n",
      "Failed object_id: 6713a4f28f64cb721b2f70f1\n"
     ]
    },
    {
     "data": {
      "application/vnd.jupyter.widget-view+json": {
       "model_id": "8d1fa11418574474a110861d3e343486",
       "version_major": 2,
       "version_minor": 0
      },
      "text/plain": [
       "  0%|          | 0/36 [00:00<?, ?it/s]"
      ]
     },
     "metadata": {},
     "output_type": "display_data"
    },
    {
     "name": "stdout",
     "output_type": "stream",
     "text": [
      "Got invalid return object. Expected key `subclass` to be present, but got {'name': 'Anna Lee', 'class': 'Character'}\n",
      "For troubleshooting, visit: https://python.langchain.com/docs/troubleshooting/errors/OUTPUT_PARSING_FAILURE\n",
      "Failed object_id: 6713a4fe8f64cb721b2f71b6\n"
     ]
    }
   ],
   "source": [
    "data = []\n",
    "\n",
    "for i in [13,14]:\n",
    "\n",
    "    batch_data = []\n",
    "    with open(f'batchoutput_{i}.jsonl', \"r\") as f:\n",
    "        for line in f:\n",
    "            batch_data.append(json.loads(line))\n",
    "\n",
    "    output_dicts = []\n",
    "    for response in tqdm(batch_data):\n",
    "        content = response['response']['body']['choices'][0]['message']['content']\n",
    "        try:\n",
    "            output_dict = output_parser.parse(content)\n",
    "            # for i, prop in enumerate(output_dict['properties']):\n",
    "            #     if 'value' in prop.keys():\n",
    "            #         output_dict['properties'][i]['property_name'] = output_dict['properties'][i]['value']\n",
    "\n",
    "            output_dict['_id'] = response['custom_id']\n",
    "            output_dicts.append(output_dict)\n",
    "        except Exception as e:\n",
    "            print(e)\n",
    "            print(\"Failed object_id:\", response['custom_id'])\n",
    "\n",
    "    data += output_dicts\n"
   ]
  },
  {
   "cell_type": "code",
   "execution_count": 323,
   "metadata": {},
   "outputs": [
    {
     "data": {
      "application/vnd.jupyter.widget-view+json": {
       "model_id": "c9aab0486f8749f2a5c07fc3ba787890",
       "version_major": 2,
       "version_minor": 0
      },
      "text/plain": [
       "  0%|          | 0/1024 [00:00<?, ?it/s]"
      ]
     },
     "metadata": {},
     "output_type": "display_data"
    }
   ],
   "source": [
    "# insert the extracted information to the postgresql database, table 'fandom_entities'\n",
    "for item in tqdm(data):\n",
    "    try:\n",
    "        cursor.execute(\n",
    "            \"\"\"INSERT INTO fandom_entities (object_id, name, class, subclass, description)\n",
    "            VALUES (%s, %s, %s, %s, %s);\"\"\",\n",
    "            (item[\"_id\"], item[\"name\"], item[\"class\"], item[\"subclass\"], item[\"description\"])\n",
    "        )\n",
    "        conn.commit()\n",
    "    except:\n",
    "        conn.rollback()\n",
    "\n",
    "    # insert the extracted information to the postgresql database, table 'fandom_properties'\n",
    "    for prop in item[\"properties\"]:\n",
    "        try:\n",
    "            cursor.execute(\n",
    "                \"\"\"INSERT INTO fandom_properties (object_id, property_name, description, target_entity, target_class, target_superclass)\n",
    "                VALUES (%s, %s, %s, %s, %s, %s);\"\"\",\n",
    "                (item[\"_id\"], prop[\"property_name\"], prop[\"description\"], prop[\"target_entity\"], prop[\"target_class\"], prop[\"target_superclass\"])\n",
    "            )\n",
    "            conn.commit()\n",
    "        except:\n",
    "            conn.rollback()"
   ]
  },
  {
   "cell_type": "code",
   "execution_count": 278,
   "metadata": {},
   "outputs": [
    {
     "data": {
      "text/plain": [
       "994"
      ]
     },
     "execution_count": 278,
     "metadata": {},
     "output_type": "execute_result"
    }
   ],
   "source": [
    "len(data)"
   ]
  },
  {
   "cell_type": "code",
   "execution_count": null,
   "metadata": {},
   "outputs": [],
   "source": []
  }
 ],
 "metadata": {
  "kernelspec": {
   "display_name": "venv",
   "language": "python",
   "name": "python3"
  },
  "language_info": {
   "codemirror_mode": {
    "name": "ipython",
    "version": 3
   },
   "file_extension": ".py",
   "mimetype": "text/x-python",
   "name": "python",
   "nbconvert_exporter": "python",
   "pygments_lexer": "ipython3",
   "version": "3.10.12"
  }
 },
 "nbformat": 4,
 "nbformat_minor": 2
}
