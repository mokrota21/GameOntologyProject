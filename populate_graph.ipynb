{
 "cells": [
  {
   "cell_type": "code",
   "execution_count": 60,
   "metadata": {},
   "outputs": [
    {
     "data": {
      "text/plain": [
       "True"
      ]
     },
     "execution_count": 60,
     "metadata": {},
     "output_type": "execute_result"
    }
   ],
   "source": [
    "import os\n",
    "import json\n",
    "from dotenv import load_dotenv\n",
    "import pandas as pd\n",
    "from tqdm.notebook import tqdm\n",
    "\n",
    "load_dotenv()  # take environment variables from .env."
   ]
  },
  {
   "cell_type": "code",
   "execution_count": 61,
   "metadata": {},
   "outputs": [],
   "source": [
    "# establish a connection to the MongoDB database\n",
    "from pymongo import MongoClient\n",
    "\n",
    "# connect to your Atlas cluster\n",
    "client = MongoClient(os.environ[\"MONGODB_URI\"])"
   ]
  },
  {
   "cell_type": "code",
   "execution_count": 62,
   "metadata": {},
   "outputs": [],
   "source": [
    "# establish a connection to the PostgreSQL database\n",
    "import psycopg2 as pg\n",
    "\n",
    "conn = pg.connect(\n",
    "    dbname=os.environ[\"POSTGRES_DB\"],\n",
    "    user=os.environ[\"POSTGRES_USER\"],\n",
    "    password=os.environ[\"POSTGRES_PASSWORD\"],\n",
    "    host=os.environ[\"POSTGRES_HOST\"]\n",
    ")\n"
   ]
  },
  {
   "cell_type": "markdown",
   "metadata": {},
   "source": [
    "# RDFlib\n",
    "\n",
    "## Outline\n",
    "\n",
    " * Get data from the PostgreSQL DB\n",
    " * Populate graph with triples\n"
   ]
  },
  {
   "cell_type": "code",
   "execution_count": 63,
   "metadata": {},
   "outputs": [],
   "source": [
    "from rdflib import Graph, Literal, URIRef\n",
    "from rdflib.namespace import RDF, RDFS, XSD, FOAF, OWL\n",
    "import regex as re\n"
   ]
  },
  {
   "cell_type": "code",
   "execution_count": 64,
   "metadata": {},
   "outputs": [],
   "source": [
    "# craete a graph\n",
    "g = Graph()\n",
    "\n",
    "# create a namespace object\n",
    "fdo = \"http://fandom.com/ontology/\"\n",
    "fdr = \"http://fandom.com/resource/\"\n",
    "\n",
    "# bind the namespace to the graph\n",
    "g.bind(\"fdo\", fdo)\n",
    "g.bind(\"fdr\", fdr)\n"
   ]
  },
  {
   "cell_type": "code",
   "execution_count": 65,
   "metadata": {},
   "outputs": [
    {
     "name": "stderr",
     "output_type": "stream",
     "text": [
      "/tmp/ipykernel_270652/78265932.py:2: UserWarning: pandas only supports SQLAlchemy connectable (engine/connection) or database string URI or sqlite3 DBAPI2 connection. Other DBAPI2 objects are not tested. Please consider using SQLAlchemy.\n",
      "  df = pd.read_sql_query(\n"
     ]
    }
   ],
   "source": [
    "# get data from postgres\n",
    "df = pd.read_sql_query(\n",
    "    \"\"\"SELECT\n",
    "            p.game_name,\n",
    "            p.game_url,\n",
    "            p.page_url,\n",
    "            p.page_name,\n",
    "\n",
    "            fe.object_id as entity_id,\n",
    "            fe.name as entity_name,\n",
    "            fe.class as entity_class,\n",
    "            fe.subclass as entity_subclass,\n",
    "            fe.description as entity_description,\n",
    "\n",
    "            fp.id as property_id,\n",
    "            fp.property_name as property_name,\n",
    "            fp.description as property_description,\n",
    "            fp.target_entity as target_entity,\n",
    "            fp.target_class as target_class\n",
    "\n",
    "    FROM fandom_properties_clean fp join fandom_entities_clean fe on fp.object_id = fe.object_id\n",
    "    JOIN fandom_pages p on p.object_id = fe.object_id\n",
    "    ;\"\"\",\n",
    "      conn)"
   ]
  },
  {
   "cell_type": "code",
   "execution_count": 66,
   "metadata": {},
   "outputs": [
    {
     "data": {
      "text/html": [
       "<div>\n",
       "<style scoped>\n",
       "    .dataframe tbody tr th:only-of-type {\n",
       "        vertical-align: middle;\n",
       "    }\n",
       "\n",
       "    .dataframe tbody tr th {\n",
       "        vertical-align: top;\n",
       "    }\n",
       "\n",
       "    .dataframe thead th {\n",
       "        text-align: right;\n",
       "    }\n",
       "</style>\n",
       "<table border=\"1\" class=\"dataframe\">\n",
       "  <thead>\n",
       "    <tr style=\"text-align: right;\">\n",
       "      <th></th>\n",
       "      <th>game_name</th>\n",
       "      <th>game_url</th>\n",
       "      <th>page_url</th>\n",
       "      <th>page_name</th>\n",
       "      <th>entity_id</th>\n",
       "      <th>entity_name</th>\n",
       "      <th>entity_class</th>\n",
       "      <th>entity_subclass</th>\n",
       "      <th>entity_description</th>\n",
       "      <th>property_id</th>\n",
       "      <th>property_name</th>\n",
       "      <th>property_description</th>\n",
       "      <th>target_entity</th>\n",
       "      <th>target_class</th>\n",
       "    </tr>\n",
       "  </thead>\n",
       "  <tbody>\n",
       "    <tr>\n",
       "      <th>0</th>\n",
       "      <td>bravelydefault</td>\n",
       "      <td>https://bravelydefault.fandom.com/</td>\n",
       "      <td>https://bravelydefault.fandom.com/wiki/Adam_Ho...</td>\n",
       "      <td>Adam_Holograd</td>\n",
       "      <td>67139f9e8f64cb721b2f3eec</td>\n",
       "      <td>Adam Holograd</td>\n",
       "      <td>Character</td>\n",
       "      <td>LordCommander</td>\n",
       "      <td>Adam Holograd is a character from the game Bra...</td>\n",
       "      <td>1</td>\n",
       "      <td>hasHome</td>\n",
       "      <td>The home location of the character.</td>\n",
       "      <td>Holograd</td>\n",
       "      <td>Location</td>\n",
       "    </tr>\n",
       "    <tr>\n",
       "      <th>1</th>\n",
       "      <td>bravelydefault</td>\n",
       "      <td>https://bravelydefault.fandom.com/</td>\n",
       "      <td>https://bravelydefault.fandom.com/wiki/Adam_Ho...</td>\n",
       "      <td>Adam_Holograd</td>\n",
       "      <td>67139f9e8f64cb721b2f3eec</td>\n",
       "      <td>Adam Holograd</td>\n",
       "      <td>Character</td>\n",
       "      <td>LordCommander</td>\n",
       "      <td>Adam Holograd is a character from the game Bra...</td>\n",
       "      <td>2</td>\n",
       "      <td>affiliatedWith</td>\n",
       "      <td>The faction or group the character is associat...</td>\n",
       "      <td>Holograd Empire</td>\n",
       "      <td>Faction</td>\n",
       "    </tr>\n",
       "    <tr>\n",
       "      <th>2</th>\n",
       "      <td>bravelydefault</td>\n",
       "      <td>https://bravelydefault.fandom.com/</td>\n",
       "      <td>https://bravelydefault.fandom.com/wiki/Adam_Ho...</td>\n",
       "      <td>Adam_Holograd</td>\n",
       "      <td>67139f9e8f64cb721b2f3eec</td>\n",
       "      <td>Adam Holograd</td>\n",
       "      <td>Character</td>\n",
       "      <td>LordCommander</td>\n",
       "      <td>Adam Holograd is a character from the game Bra...</td>\n",
       "      <td>3</td>\n",
       "      <td>hasOccupation</td>\n",
       "      <td>The professional role or title held by the cha...</td>\n",
       "      <td>Lord Commander of the Holograd Empire</td>\n",
       "      <td>Occupation</td>\n",
       "    </tr>\n",
       "    <tr>\n",
       "      <th>3</th>\n",
       "      <td>bravelydefault</td>\n",
       "      <td>https://bravelydefault.fandom.com/</td>\n",
       "      <td>https://bravelydefault.fandom.com/wiki/Adam_Ho...</td>\n",
       "      <td>Adam_Holograd</td>\n",
       "      <td>67139f9e8f64cb721b2f3eec</td>\n",
       "      <td>Adam Holograd</td>\n",
       "      <td>Character</td>\n",
       "      <td>LordCommander</td>\n",
       "      <td>Adam Holograd is a character from the game Bra...</td>\n",
       "      <td>4</td>\n",
       "      <td>hasRace</td>\n",
       "      <td>The racial identity of the character.</td>\n",
       "      <td>Human</td>\n",
       "      <td>Race</td>\n",
       "    </tr>\n",
       "    <tr>\n",
       "      <th>4</th>\n",
       "      <td>bravelydefault</td>\n",
       "      <td>https://bravelydefault.fandom.com/</td>\n",
       "      <td>https://bravelydefault.fandom.com/wiki/Adam_Ho...</td>\n",
       "      <td>Adam_Holograd</td>\n",
       "      <td>67139f9e8f64cb721b2f3eec</td>\n",
       "      <td>Adam Holograd</td>\n",
       "      <td>Character</td>\n",
       "      <td>LordCommander</td>\n",
       "      <td>Adam Holograd is a character from the game Bra...</td>\n",
       "      <td>5</td>\n",
       "      <td>hasGender</td>\n",
       "      <td>The gender identity of the character.</td>\n",
       "      <td>Male</td>\n",
       "      <td>Gender</td>\n",
       "    </tr>\n",
       "  </tbody>\n",
       "</table>\n",
       "</div>"
      ],
      "text/plain": [
       "        game_name                            game_url  \\\n",
       "0  bravelydefault  https://bravelydefault.fandom.com/   \n",
       "1  bravelydefault  https://bravelydefault.fandom.com/   \n",
       "2  bravelydefault  https://bravelydefault.fandom.com/   \n",
       "3  bravelydefault  https://bravelydefault.fandom.com/   \n",
       "4  bravelydefault  https://bravelydefault.fandom.com/   \n",
       "\n",
       "                                            page_url      page_name  \\\n",
       "0  https://bravelydefault.fandom.com/wiki/Adam_Ho...  Adam_Holograd   \n",
       "1  https://bravelydefault.fandom.com/wiki/Adam_Ho...  Adam_Holograd   \n",
       "2  https://bravelydefault.fandom.com/wiki/Adam_Ho...  Adam_Holograd   \n",
       "3  https://bravelydefault.fandom.com/wiki/Adam_Ho...  Adam_Holograd   \n",
       "4  https://bravelydefault.fandom.com/wiki/Adam_Ho...  Adam_Holograd   \n",
       "\n",
       "                  entity_id    entity_name entity_class entity_subclass  \\\n",
       "0  67139f9e8f64cb721b2f3eec  Adam Holograd    Character   LordCommander   \n",
       "1  67139f9e8f64cb721b2f3eec  Adam Holograd    Character   LordCommander   \n",
       "2  67139f9e8f64cb721b2f3eec  Adam Holograd    Character   LordCommander   \n",
       "3  67139f9e8f64cb721b2f3eec  Adam Holograd    Character   LordCommander   \n",
       "4  67139f9e8f64cb721b2f3eec  Adam Holograd    Character   LordCommander   \n",
       "\n",
       "                                  entity_description  property_id  \\\n",
       "0  Adam Holograd is a character from the game Bra...            1   \n",
       "1  Adam Holograd is a character from the game Bra...            2   \n",
       "2  Adam Holograd is a character from the game Bra...            3   \n",
       "3  Adam Holograd is a character from the game Bra...            4   \n",
       "4  Adam Holograd is a character from the game Bra...            5   \n",
       "\n",
       "    property_name                               property_description  \\\n",
       "0         hasHome                The home location of the character.   \n",
       "1  affiliatedWith  The faction or group the character is associat...   \n",
       "2   hasOccupation  The professional role or title held by the cha...   \n",
       "3         hasRace              The racial identity of the character.   \n",
       "4       hasGender              The gender identity of the character.   \n",
       "\n",
       "                           target_entity target_class  \n",
       "0                               Holograd     Location  \n",
       "1                        Holograd Empire      Faction  \n",
       "2  Lord Commander of the Holograd Empire   Occupation  \n",
       "3                                  Human         Race  \n",
       "4                                   Male       Gender  "
      ]
     },
     "execution_count": 66,
     "metadata": {},
     "output_type": "execute_result"
    }
   ],
   "source": [
    "df.head()"
   ]
  },
  {
   "cell_type": "code",
   "execution_count": 67,
   "metadata": {},
   "outputs": [
    {
     "data": {
      "application/vnd.jupyter.widget-view+json": {
       "model_id": "8c55619214e1488492e60bad5c672d6d",
       "version_major": 2,
       "version_minor": 0
      },
      "text/plain": [
       "  0%|          | 0/66246 [00:00<?, ?it/s]"
      ]
     },
     "metadata": {},
     "output_type": "display_data"
    }
   ],
   "source": [
    "# iterate over the rows of the dataframe\n",
    "for row in tqdm(df.to_dict(orient=\"records\")):\n",
    "    # create a URIRef object for the entity\n",
    "    entity = URIRef(fdr + re.sub('[^A-Za-z0-9_]+', '', row[\"page_name\"]))\n",
    "\n",
    "    # add a triple for the entity\n",
    "    g.add((entity, RDF.type, URIRef(fdo + row[\"entity_class\"])))\n",
    "\n",
    "    # add a triple for the entity's name\n",
    "    g.add((entity, RDFS.label, Literal(row[\"entity_name\"], lang=\"en\")))\n",
    "\n",
    "    # add a triple for the entity's description\n",
    "    g.add((entity, RDFS.comment, Literal(row[\"entity_description\"], lang=\"en\")))\n",
    "\n",
    "    # add a triple for the entity's subclass\n",
    "    if row[\"entity_subclass\"]:\n",
    "        g.add((URIRef(fdo + row[\"entity_subclass\"]), RDFS.subClassOf, URIRef(fdo + row[\"entity_class\"])))\n",
    "\n",
    "\n",
    "    if row[\"target_class\"] == \"Class\" and 'type' in row[\"property_name\"].lower():\n",
    "        # add target class to the entity\n",
    "        g.add((entity, RDF.type, URIRef(fdo + re.sub('[^A-Za-z0-9_]+', '', row[\"target_entity\"]))))\n",
    "\n",
    "    else:\n",
    "        # create a URIRef object for the property\n",
    "        property = URIRef(fdo + row[\"property_name\"])\n",
    "\n",
    "        # create a URIRef object for the target entity, format strig to URIRef\n",
    "        target = URIRef(fdr + re.sub('[^A-Za-z0-9_]+', '', row[\"target_entity\"]))\n",
    "\n",
    "        # add property\n",
    "        g.add((property, RDF.type, OWL.ObjectProperty))\n",
    "\n",
    "        # add property description\n",
    "        g.add((property, RDFS.comment, Literal(row[\"property_description\"], lang=\"en\")))\n",
    "\n",
    "\n",
    "        # add a triple for the property\n",
    "        g.add((entity, property, target))\n",
    "\n",
    "        # add a triple for the target entity class\n",
    "        g.add((target, RDF.type, URIRef(fdo + row[\"target_class\"])))\n",
    "\n",
    "        # add a triple for the target entity name\n",
    "        g.add((target, RDFS.label, Literal(row[\"target_entity\"], lang=\"en\")))\n"
   ]
  },
  {
   "cell_type": "code",
   "execution_count": 68,
   "metadata": {},
   "outputs": [
    {
     "data": {
      "text/plain": [
       "<Graph identifier=Nba7ce0e3b7fb4e738cec19e36657bdc5 (<class 'rdflib.graph.Graph'>)>"
      ]
     },
     "execution_count": 68,
     "metadata": {},
     "output_type": "execute_result"
    }
   ],
   "source": [
    "g.serialize(\"fandom.ttl\", format=\"turtle\")"
   ]
  },
  {
   "cell_type": "code",
   "execution_count": null,
   "metadata": {},
   "outputs": [],
   "source": []
  }
 ],
 "metadata": {
  "kernelspec": {
   "display_name": "venv",
   "language": "python",
   "name": "python3"
  },
  "language_info": {
   "codemirror_mode": {
    "name": "ipython",
    "version": 3
   },
   "file_extension": ".py",
   "mimetype": "text/x-python",
   "name": "python",
   "nbconvert_exporter": "python",
   "pygments_lexer": "ipython3",
   "version": "3.10.12"
  }
 },
 "nbformat": 4,
 "nbformat_minor": 2
}
