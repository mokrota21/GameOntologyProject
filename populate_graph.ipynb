{
 "cells": [
  {
   "cell_type": "code",
   "execution_count": 49,
   "metadata": {},
   "outputs": [
    {
     "data": {
      "text/plain": [
       "True"
      ]
     },
     "execution_count": 49,
     "metadata": {},
     "output_type": "execute_result"
    }
   ],
   "source": [
    "import os\n",
    "import json\n",
    "from dotenv import load_dotenv\n",
    "import pandas as pd\n",
    "from tqdm.notebook import tqdm\n",
    "\n",
    "load_dotenv()  # take environment variables from .env."
   ]
  },
  {
   "cell_type": "code",
   "execution_count": 50,
   "metadata": {},
   "outputs": [],
   "source": [
    "# establish a connection to the MongoDB database\n",
    "from pymongo import MongoClient\n",
    "\n",
    "# connect to your Atlas cluster\n",
    "client = MongoClient(os.environ[\"MONGODB_URI\"])"
   ]
  },
  {
   "cell_type": "code",
   "execution_count": 51,
   "metadata": {},
   "outputs": [],
   "source": [
    "# establish a connection to the PostgreSQL database\n",
    "import psycopg2 as pg\n",
    "\n",
    "conn = pg.connect(\n",
    "    dbname=os.environ[\"POSTGRES_DB\"],\n",
    "    user=os.environ[\"POSTGRES_USER\"],\n",
    "    password=os.environ[\"POSTGRES_PASSWORD\"],\n",
    "    host=os.environ[\"POSTGRES_HOST\"]\n",
    ")\n"
   ]
  },
  {
   "cell_type": "markdown",
   "metadata": {},
   "source": [
    "# RDFlib\n",
    "\n",
    "## Outline\n",
    "\n",
    " * Get data from the PostgreSQL DB\n",
    " * Populate graph with triples\n"
   ]
  },
  {
   "cell_type": "code",
   "execution_count": 52,
   "metadata": {},
   "outputs": [],
   "source": [
    "from rdflib import Graph, Literal, URIRef\n",
    "from rdflib.namespace import RDF, RDFS, XSD, FOAF, OWL\n",
    "import regex as re\n"
   ]
  },
  {
   "cell_type": "code",
   "execution_count": 53,
   "metadata": {},
   "outputs": [],
   "source": [
    "# craete a graph\n",
    "g = Graph()\n",
    "\n",
    "# create a namespace object\n",
    "fdo = \"http://vu-game-ontology.com/ontology/\"\n",
    "fdr = \"http://vu-game-ontology.com/resource/\"\n",
    "\n",
    "# bind the namespace to the graph\n",
    "g.bind(\"fdo\", fdo)\n",
    "g.bind(\"fdr\", fdr)\n"
   ]
  },
  {
   "cell_type": "markdown",
   "metadata": {},
   "source": [
    "### Get Metacritic data"
   ]
  },
  {
   "cell_type": "code",
   "execution_count": 54,
   "metadata": {},
   "outputs": [
    {
     "name": "stderr",
     "output_type": "stream",
     "text": [
      "/tmp/ipykernel_1697/1308410040.py:1: UserWarning: pandas only supports SQLAlchemy connectable (engine/connection) or database string URI or sqlite3 DBAPI2 connection. Other DBAPI2 objects are not tested. Please consider using SQLAlchemy.\n",
      "  df_mc = pd.read_sql(\"SELECT * FROM metacritic_pages\", conn)\n"
     ]
    }
   ],
   "source": [
    "df_mc = pd.read_sql(\"SELECT * FROM metacritic_pages\", conn)"
   ]
  },
  {
   "cell_type": "code",
   "execution_count": 55,
   "metadata": {},
   "outputs": [
    {
     "data": {
      "text/html": [
       "<div>\n",
       "<style scoped>\n",
       "    .dataframe tbody tr th:only-of-type {\n",
       "        vertical-align: middle;\n",
       "    }\n",
       "\n",
       "    .dataframe tbody tr th {\n",
       "        vertical-align: top;\n",
       "    }\n",
       "\n",
       "    .dataframe thead th {\n",
       "        text-align: right;\n",
       "    }\n",
       "</style>\n",
       "<table border=\"1\" class=\"dataframe\">\n",
       "  <thead>\n",
       "    <tr style=\"text-align: right;\">\n",
       "      <th></th>\n",
       "      <th>object_id</th>\n",
       "      <th>title</th>\n",
       "      <th>score</th>\n",
       "      <th>platforms</th>\n",
       "      <th>release_date</th>\n",
       "      <th>developers</th>\n",
       "      <th>publisher</th>\n",
       "      <th>genres</th>\n",
       "      <th>fandom_game_url</th>\n",
       "    </tr>\n",
       "  </thead>\n",
       "  <tbody>\n",
       "    <tr>\n",
       "      <th>0</th>\n",
       "      <td>6718cddc17c581114a9d20cf</td>\n",
       "      <td>Super Mario Galaxy 2</td>\n",
       "      <td>97.0</td>\n",
       "      <td>[Wii]</td>\n",
       "      <td>2010-05-23</td>\n",
       "      <td>[Nintendo EAD Tokyo]</td>\n",
       "      <td>Nintendo</td>\n",
       "      <td>[3D Platformer]</td>\n",
       "      <td>None</td>\n",
       "    </tr>\n",
       "    <tr>\n",
       "      <th>1</th>\n",
       "      <td>6718cedb17c581114a9d20d0</td>\n",
       "      <td>The Legend of Zelda: Breath of the Wild</td>\n",
       "      <td>97.0</td>\n",
       "      <td>[Wii U, Nintendo Switch]</td>\n",
       "      <td>2017-03-03</td>\n",
       "      <td>[Nintendo]</td>\n",
       "      <td>Nintendo</td>\n",
       "      <td>[Open-World Action]</td>\n",
       "      <td>None</td>\n",
       "    </tr>\n",
       "    <tr>\n",
       "      <th>2</th>\n",
       "      <td>6718cedb17c581114a9d20d1</td>\n",
       "      <td>Red Dead Redemption 2</td>\n",
       "      <td>97.0</td>\n",
       "      <td>[Xbox One, PlayStation 4, PC]</td>\n",
       "      <td>2018-10-26</td>\n",
       "      <td>[Rockstar Games]</td>\n",
       "      <td>Rockstar Games</td>\n",
       "      <td>[Open-World Action]</td>\n",
       "      <td>None</td>\n",
       "    </tr>\n",
       "    <tr>\n",
       "      <th>3</th>\n",
       "      <td>6718cedb17c581114a9d20d3</td>\n",
       "      <td>Super Mario Odyssey</td>\n",
       "      <td>97.0</td>\n",
       "      <td>[Nintendo Switch]</td>\n",
       "      <td>2017-10-27</td>\n",
       "      <td>[Nintendo]</td>\n",
       "      <td>Nintendo</td>\n",
       "      <td>[3D Platformer]</td>\n",
       "      <td>None</td>\n",
       "    </tr>\n",
       "    <tr>\n",
       "      <th>4</th>\n",
       "      <td>6718cedc17c581114a9d20d5</td>\n",
       "      <td>Mass Effect 2</td>\n",
       "      <td>96.0</td>\n",
       "      <td>[PC, Xbox 360, PlayStation 3]</td>\n",
       "      <td>2010-01-26</td>\n",
       "      <td>[BioWare]</td>\n",
       "      <td>Electronic Arts</td>\n",
       "      <td>[Western RPG]</td>\n",
       "      <td>None</td>\n",
       "    </tr>\n",
       "  </tbody>\n",
       "</table>\n",
       "</div>"
      ],
      "text/plain": [
       "                  object_id                                    title  score  \\\n",
       "0  6718cddc17c581114a9d20cf                     Super Mario Galaxy 2   97.0   \n",
       "1  6718cedb17c581114a9d20d0  The Legend of Zelda: Breath of the Wild   97.0   \n",
       "2  6718cedb17c581114a9d20d1                    Red Dead Redemption 2   97.0   \n",
       "3  6718cedb17c581114a9d20d3                      Super Mario Odyssey   97.0   \n",
       "4  6718cedc17c581114a9d20d5                            Mass Effect 2   96.0   \n",
       "\n",
       "                       platforms release_date            developers  \\\n",
       "0                          [Wii]   2010-05-23  [Nintendo EAD Tokyo]   \n",
       "1       [Wii U, Nintendo Switch]   2017-03-03            [Nintendo]   \n",
       "2  [Xbox One, PlayStation 4, PC]   2018-10-26      [Rockstar Games]   \n",
       "3              [Nintendo Switch]   2017-10-27            [Nintendo]   \n",
       "4  [PC, Xbox 360, PlayStation 3]   2010-01-26             [BioWare]   \n",
       "\n",
       "         publisher               genres fandom_game_url  \n",
       "0         Nintendo      [3D Platformer]            None  \n",
       "1         Nintendo  [Open-World Action]            None  \n",
       "2   Rockstar Games  [Open-World Action]            None  \n",
       "3         Nintendo      [3D Platformer]            None  \n",
       "4  Electronic Arts        [Western RPG]            None  "
      ]
     },
     "execution_count": 55,
     "metadata": {},
     "output_type": "execute_result"
    }
   ],
   "source": [
    "df_mc.head()"
   ]
  },
  {
   "cell_type": "code",
   "execution_count": 56,
   "metadata": {},
   "outputs": [],
   "source": [
    "# df_mc.release_date = pd.to_datetime(df_mc.release_date)"
   ]
  },
  {
   "cell_type": "code",
   "execution_count": 57,
   "metadata": {},
   "outputs": [
    {
     "data": {
      "text/plain": [
       "2"
      ]
     },
     "execution_count": 57,
     "metadata": {},
     "output_type": "execute_result"
    }
   ],
   "source": [
    "pd.isna(df_mc.release_date).sum()"
   ]
  },
  {
   "cell_type": "code",
   "execution_count": 58,
   "metadata": {},
   "outputs": [
    {
     "data": {
      "application/vnd.jupyter.widget-view+json": {
       "model_id": "2849b3eb683a4d61a58b8fa687e580ae",
       "version_major": 2,
       "version_minor": 0
      },
      "text/plain": [
       "  0%|          | 0/7826 [00:00<?, ?it/s]"
      ]
     },
     "metadata": {},
     "output_type": "display_data"
    }
   ],
   "source": [
    "g.add((URIRef(fdo + 'hasMetacriticScore'), RDFS.subPropertyOf, URIRef(fdo + 'hasReceptionScore')))\n",
    "g.add((URIRef(fdo + 'hasMetacriticScore'), RDF.type, OWL.DatatypeProperty))\n",
    "g.add((URIRef(fdo + 'releaseDate'), RDF.type, OWL.DatatypeProperty))\n",
    "g.add((URIRef(fdo + 'hasGenre'), RDF.type, OWL.ObjectProperty))\n",
    "g.add((URIRef(fdo + 'hasPlatform'), RDF.type, OWL.ObjectProperty))\n",
    "g.add((URIRef(fdo + 'developedBy'), RDF.type, OWL.ObjectProperty))\n",
    "g.add((URIRef(fdo + 'publishedBy'), RDF.type, OWL.ObjectProperty))\n",
    "\n",
    "# Classes\n",
    "g.add((URIRef(fdo + \"Game\"), RDF.type, OWL.Class))\n",
    "g.add((URIRef(fdo + \"Genre\"), RDF.type, OWL.Class))\n",
    "g.add((URIRef(fdo + \"Publisher\"), RDF.type, OWL.Class))\n",
    "g.add((URIRef(fdo + \"Developer\"), RDF.type, OWL.Class))\n",
    "g.add((URIRef(fdo + \"Platform\"), RDF.type, OWL.Class))\n",
    "\n",
    "\n",
    "\n",
    "for row in tqdm(df_mc.to_dict(orient=\"records\")):\n",
    "    # create a URIRef object for the current game\n",
    "    game = URIRef(fdr + re.sub('[^A-Za-z0-9_]+', '', row[\"title\"]))\n",
    "    # add a type triple to the graph\n",
    "    g.add((game, RDF.type, URIRef(fdo + \"Game\")))\n",
    "\n",
    "    # add a title (label) triple to the graph\n",
    "    g.add((game, RDFS.label, Literal(row[\"title\"], lang=\"en\")))\n",
    "\n",
    "    # add a year triple to the graph\n",
    "    if not pd.isna(row[\"release_date\"]):\n",
    "        g.add((game, URIRef(fdo + \"releaseDate\"), Literal(row[\"release_date\"], datatype=XSD.date)))\n",
    "\n",
    "    # add a metascore triple to the graph, if it is not NaN\n",
    "    if not pd.isna(row[\"score\"]):\n",
    "        g.add((game, URIRef(fdo + \"hasMetacriticScore\"), Literal(row[\"score\"], datatype=XSD.integer)))\n",
    "\n",
    "    for genre in row[\"genres\"]:\n",
    "        # add a genre triple to the graph\n",
    "        g.add((game, URIRef(fdo + \"hasGenre\"), URIRef(fdr + re.sub('[^A-Za-z0-9_]+', '', genre))))\n",
    "        g.add((URIRef(fdr + re.sub('[^A-Za-z0-9_]+', '', genre)), RDF.type, URIRef(fdo + \"Genre\")))\n",
    "\n",
    "    for platform in row[\"platforms\"]:\n",
    "        # add a platform triple to the graph\n",
    "        g.add((game, URIRef(fdo + \"hasPlatform\"), URIRef(fdr + re.sub('[^A-Za-z0-9_]+', '', platform))))\n",
    "        g.add((URIRef(fdr + re.sub('[^A-Za-z0-9_]+', '', platform)), RDF.type, URIRef(fdo + \"Platform\")))\n",
    "\n",
    "    if row[\"developers\"] is not None:\n",
    "        for developer in row[\"developers\"]:\n",
    "            # add a developer triple to the graph\n",
    "            g.add((game, URIRef(fdo + \"developedBy\"), URIRef(fdr + re.sub('[^A-Za-z0-9_]+', '', developer))))\n",
    "            g.add((URIRef(fdr + re.sub('[^A-Za-z0-9_]+', '', developer)), RDF.type, URIRef(fdo + \"Developer\")))\n",
    "\n",
    "    # add publisher triple to the graph\n",
    "    g.add((game, URIRef(fdo + \"publishedBy\"), URIRef(fdr + re.sub('[^A-Za-z0-9_]+', '', row[\"publisher\"]))))\n",
    "    g.add((URIRef(fdr + re.sub('[^A-Za-z0-9_]+', '', row[\"publisher\"])), RDF.type, URIRef(fdo + \"Publisher\")))\n",
    "\n",
    "    if row['fandom_game_url'] is not None:\n",
    "        # add a URL triple to the graph\n",
    "        g.add((game, OWL.sameAs, URIRef(row['fandom_game_url'])))\n",
    "        g.add((game, OWL.sameAs, URIRef(fdr + row['fandom_game_url'].split('/')[-2].split('.')[0])))\n",
    "\n",
    "\n",
    "\n"
   ]
  },
  {
   "cell_type": "markdown",
   "metadata": {},
   "source": [
    "### Get triples from fandom for page properties"
   ]
  },
  {
   "cell_type": "code",
   "execution_count": 59,
   "metadata": {},
   "outputs": [
    {
     "name": "stderr",
     "output_type": "stream",
     "text": [
      "/tmp/ipykernel_1697/523897747.py:1: UserWarning: pandas only supports SQLAlchemy connectable (engine/connection) or database string URI or sqlite3 DBAPI2 connection. Other DBAPI2 objects are not tested. Please consider using SQLAlchemy.\n",
      "  df_classes = pd.read_sql_query(\n"
     ]
    }
   ],
   "source": [
    "df_classes = pd.read_sql_query(\n",
    "    \"\"\"select distinct class from fandom_entities_clean\n",
    "    union\n",
    "    select distinct superclass from fandom_entities_clean\n",
    "    union\n",
    "    select distinct subclass from fandom_entities_clean\n",
    "    ;\n",
    "    \"\"\",\n",
    "    conn)\n",
    "unique_classes = list(df_classes['class'].unique())"
   ]
  },
  {
   "cell_type": "code",
   "execution_count": 60,
   "metadata": {},
   "outputs": [
    {
     "name": "stderr",
     "output_type": "stream",
     "text": [
      "/tmp/ipykernel_1697/2112334253.py:1: UserWarning: pandas only supports SQLAlchemy connectable (engine/connection) or database string URI or sqlite3 DBAPI2 connection. Other DBAPI2 objects are not tested. Please consider using SQLAlchemy.\n",
      "  df_top_classes = pd.read_sql_query(\n"
     ]
    }
   ],
   "source": [
    "df_top_classes = pd.read_sql_query(\n",
    "    \"\"\"select distinct class from fandom_entities_clean\n",
    "    union\n",
    "    select distinct superclass from fandom_entities_clean\n",
    "    ;\n",
    "    \"\"\",\n",
    "    conn)\n",
    "top_lvl_classes = list(df_top_classes['class'].unique())"
   ]
  },
  {
   "cell_type": "code",
   "execution_count": null,
   "metadata": {},
   "outputs": [],
   "source": []
  },
  {
   "cell_type": "code",
   "execution_count": 61,
   "metadata": {},
   "outputs": [
    {
     "name": "stderr",
     "output_type": "stream",
     "text": [
      "/tmp/ipykernel_1697/4097690141.py:2: UserWarning: pandas only supports SQLAlchemy connectable (engine/connection) or database string URI or sqlite3 DBAPI2 connection. Other DBAPI2 objects are not tested. Please consider using SQLAlchemy.\n",
      "  df_triples = pd.read_sql_query(\n"
     ]
    }
   ],
   "source": [
    "# get data from postgres\n",
    "df_triples = pd.read_sql_query(\n",
    "    \"\"\"select\n",
    "       p.object_id,\n",
    "       game_name,\n",
    "       game_url,\n",
    "       page_name,\n",
    "       page_url,\n",
    "       name as subject_name,\n",
    "       class,\n",
    "       subclass,\n",
    "       description,\n",
    "       target_entity as object_name,\n",
    "       object_class,\n",
    "       property_name,\n",
    "       subject_class,\n",
    "       property_id,\n",
    "       property_type,\n",
    "       property_description\n",
    "\n",
    "from fandom_pages p\n",
    "join fandom_entities_clean e on p.object_id = e.object_id\n",
    "join fandom_triples_clean t on p.object_id = t.object_id\n",
    "    ;\"\"\",\n",
    "      conn)"
   ]
  },
  {
   "cell_type": "code",
   "execution_count": 62,
   "metadata": {},
   "outputs": [
    {
     "data": {
      "text/plain": [
       "(75431, 16)"
      ]
     },
     "execution_count": 62,
     "metadata": {},
     "output_type": "execute_result"
    }
   ],
   "source": [
    "df_triples.shape"
   ]
  },
  {
   "cell_type": "code",
   "execution_count": 63,
   "metadata": {},
   "outputs": [
    {
     "data": {
      "text/html": [
       "<div>\n",
       "<style scoped>\n",
       "    .dataframe tbody tr th:only-of-type {\n",
       "        vertical-align: middle;\n",
       "    }\n",
       "\n",
       "    .dataframe tbody tr th {\n",
       "        vertical-align: top;\n",
       "    }\n",
       "\n",
       "    .dataframe thead th {\n",
       "        text-align: right;\n",
       "    }\n",
       "</style>\n",
       "<table border=\"1\" class=\"dataframe\">\n",
       "  <thead>\n",
       "    <tr style=\"text-align: right;\">\n",
       "      <th></th>\n",
       "      <th>object_id</th>\n",
       "      <th>game_name</th>\n",
       "      <th>game_url</th>\n",
       "      <th>page_name</th>\n",
       "      <th>page_url</th>\n",
       "      <th>subject_name</th>\n",
       "      <th>class</th>\n",
       "      <th>subclass</th>\n",
       "      <th>description</th>\n",
       "      <th>object_name</th>\n",
       "      <th>object_class</th>\n",
       "      <th>property_name</th>\n",
       "      <th>subject_class</th>\n",
       "      <th>property_id</th>\n",
       "      <th>property_type</th>\n",
       "      <th>property_description</th>\n",
       "    </tr>\n",
       "  </thead>\n",
       "  <tbody>\n",
       "    <tr>\n",
       "      <th>0</th>\n",
       "      <td>6713a3a88f64cb721b2f5bfc</td>\n",
       "      <td>endlessspace2</td>\n",
       "      <td>https://endless-space-2.fandom.com/</td>\n",
       "      <td>The_Remnant</td>\n",
       "      <td>https://endless-space-2.fandom.com/wiki/The_Re...</td>\n",
       "      <td>Remnant</td>\n",
       "      <td>Faction</td>\n",
       "      <td>Civilization</td>\n",
       "      <td>The Remnant is a faction in Endless Space 2 kn...</td>\n",
       "      <td>Concentrated Constructors I (50/70 Chance): -1...</td>\n",
       "      <td>Trait</td>\n",
       "      <td>hasAssimilationTrait</td>\n",
       "      <td>Faction</td>\n",
       "      <td>4010</td>\n",
       "      <td>object</td>\n",
       "      <td>Traits that affect how the faction assimilates...</td>\n",
       "    </tr>\n",
       "    <tr>\n",
       "      <th>1</th>\n",
       "      <td>67139f9e8f64cb721b2f3eec</td>\n",
       "      <td>bravelydefault</td>\n",
       "      <td>https://bravelydefault.fandom.com/</td>\n",
       "      <td>Adam_Holograd</td>\n",
       "      <td>https://bravelydefault.fandom.com/wiki/Adam_Ho...</td>\n",
       "      <td>Adam Holograd</td>\n",
       "      <td>Character</td>\n",
       "      <td>LordCommander</td>\n",
       "      <td>Adam Holograd is a character from the game Bra...</td>\n",
       "      <td>Silver</td>\n",
       "      <td>Color</td>\n",
       "      <td>hasHairColor</td>\n",
       "      <td>Character</td>\n",
       "      <td>3529</td>\n",
       "      <td>data</td>\n",
       "      <td>Specifies the hair color of the character, whi...</td>\n",
       "    </tr>\n",
       "    <tr>\n",
       "      <th>2</th>\n",
       "      <td>6713a3a98f64cb721b2f5bff</td>\n",
       "      <td>endlessspace2</td>\n",
       "      <td>https://endless-space-2.fandom.com/</td>\n",
       "      <td>The_Sowers</td>\n",
       "      <td>https://endless-space-2.fandom.com/wiki/The_So...</td>\n",
       "      <td>Sowers</td>\n",
       "      <td>GameFaction</td>\n",
       "      <td>AlienFaction</td>\n",
       "      <td>The Sowers are a religious alien faction known...</td>\n",
       "      <td>+2, -0.5 Depletion Points per turn on Planets</td>\n",
       "      <td>PopulationBonus</td>\n",
       "      <td>hasPopulationBonus</td>\n",
       "      <td>Faction</td>\n",
       "      <td>1218</td>\n",
       "      <td>object</td>\n",
       "      <td>The bonuses granted to the faction based on po...</td>\n",
       "    </tr>\n",
       "    <tr>\n",
       "      <th>3</th>\n",
       "      <td>6713a3a98f64cb721b2f5c01</td>\n",
       "      <td>endlessspace2</td>\n",
       "      <td>https://endless-space-2.fandom.com/</td>\n",
       "      <td>The_Tikanan</td>\n",
       "      <td>https://endless-space-2.fandom.com/wiki/The_Ti...</td>\n",
       "      <td>Tikanan</td>\n",
       "      <td>Faction</td>\n",
       "      <td>MilitaristFaction</td>\n",
       "      <td>Tikanan is a militarist faction known for its ...</td>\n",
       "      <td>Swarming Infantry (50/70 Chance): 17.5% more I...</td>\n",
       "      <td>Trait</td>\n",
       "      <td>hasAssimilationTrait</td>\n",
       "      <td>Faction</td>\n",
       "      <td>4010</td>\n",
       "      <td>object</td>\n",
       "      <td>Traits that affect how the faction assimilates...</td>\n",
       "    </tr>\n",
       "    <tr>\n",
       "      <th>4</th>\n",
       "      <td>6713a3a98f64cb721b2f5c02</td>\n",
       "      <td>endlessspace2</td>\n",
       "      <td>https://endless-space-2.fandom.com/</td>\n",
       "      <td>The_Xirmisala</td>\n",
       "      <td>https://endless-space-2.fandom.com/wiki/The_Xi...</td>\n",
       "      <td>Xirmisala</td>\n",
       "      <td>Civilization</td>\n",
       "      <td>Faction</td>\n",
       "      <td>Xirmisala is a faction in Endless Space 2 know...</td>\n",
       "      <td>Academy Ally: +10% Contributions to Academy, E...</td>\n",
       "      <td>Trait</td>\n",
       "      <td>hasAssimilationTrait</td>\n",
       "      <td>Faction</td>\n",
       "      <td>4010</td>\n",
       "      <td>object</td>\n",
       "      <td>Traits that affect how the faction assimilates...</td>\n",
       "    </tr>\n",
       "  </tbody>\n",
       "</table>\n",
       "</div>"
      ],
      "text/plain": [
       "                  object_id       game_name  \\\n",
       "0  6713a3a88f64cb721b2f5bfc   endlessspace2   \n",
       "1  67139f9e8f64cb721b2f3eec  bravelydefault   \n",
       "2  6713a3a98f64cb721b2f5bff   endlessspace2   \n",
       "3  6713a3a98f64cb721b2f5c01   endlessspace2   \n",
       "4  6713a3a98f64cb721b2f5c02   endlessspace2   \n",
       "\n",
       "                              game_url      page_name  \\\n",
       "0  https://endless-space-2.fandom.com/    The_Remnant   \n",
       "1   https://bravelydefault.fandom.com/  Adam_Holograd   \n",
       "2  https://endless-space-2.fandom.com/     The_Sowers   \n",
       "3  https://endless-space-2.fandom.com/    The_Tikanan   \n",
       "4  https://endless-space-2.fandom.com/  The_Xirmisala   \n",
       "\n",
       "                                            page_url   subject_name  \\\n",
       "0  https://endless-space-2.fandom.com/wiki/The_Re...        Remnant   \n",
       "1  https://bravelydefault.fandom.com/wiki/Adam_Ho...  Adam Holograd   \n",
       "2  https://endless-space-2.fandom.com/wiki/The_So...         Sowers   \n",
       "3  https://endless-space-2.fandom.com/wiki/The_Ti...        Tikanan   \n",
       "4  https://endless-space-2.fandom.com/wiki/The_Xi...      Xirmisala   \n",
       "\n",
       "          class           subclass  \\\n",
       "0       Faction       Civilization   \n",
       "1     Character      LordCommander   \n",
       "2   GameFaction       AlienFaction   \n",
       "3       Faction  MilitaristFaction   \n",
       "4  Civilization            Faction   \n",
       "\n",
       "                                         description  \\\n",
       "0  The Remnant is a faction in Endless Space 2 kn...   \n",
       "1  Adam Holograd is a character from the game Bra...   \n",
       "2  The Sowers are a religious alien faction known...   \n",
       "3  Tikanan is a militarist faction known for its ...   \n",
       "4  Xirmisala is a faction in Endless Space 2 know...   \n",
       "\n",
       "                                         object_name     object_class  \\\n",
       "0  Concentrated Constructors I (50/70 Chance): -1...            Trait   \n",
       "1                                             Silver            Color   \n",
       "2      +2, -0.5 Depletion Points per turn on Planets  PopulationBonus   \n",
       "3  Swarming Infantry (50/70 Chance): 17.5% more I...            Trait   \n",
       "4  Academy Ally: +10% Contributions to Academy, E...            Trait   \n",
       "\n",
       "          property_name subject_class  property_id property_type  \\\n",
       "0  hasAssimilationTrait       Faction         4010        object   \n",
       "1          hasHairColor     Character         3529          data   \n",
       "2    hasPopulationBonus       Faction         1218        object   \n",
       "3  hasAssimilationTrait       Faction         4010        object   \n",
       "4  hasAssimilationTrait       Faction         4010        object   \n",
       "\n",
       "                                property_description  \n",
       "0  Traits that affect how the faction assimilates...  \n",
       "1  Specifies the hair color of the character, whi...  \n",
       "2  The bonuses granted to the faction based on po...  \n",
       "3  Traits that affect how the faction assimilates...  \n",
       "4  Traits that affect how the faction assimilates...  "
      ]
     },
     "execution_count": 63,
     "metadata": {},
     "output_type": "execute_result"
    }
   ],
   "source": [
    "df_triples.head()"
   ]
  },
  {
   "cell_type": "code",
   "execution_count": 64,
   "metadata": {},
   "outputs": [
    {
     "data": {
      "application/vnd.jupyter.widget-view+json": {
       "model_id": "d33bd8326f294be1b959671571b6d2c1",
       "version_major": 2,
       "version_minor": 0
      },
      "text/plain": [
       "  0%|          | 0/75431 [00:00<?, ?it/s]"
      ]
     },
     "metadata": {},
     "output_type": "display_data"
    },
    {
     "name": "stdout",
     "output_type": "stream",
     "text": [
      "Skipped 1822 triples\n"
     ]
    }
   ],
   "source": [
    "skipped = 0\n",
    "\n",
    "g.add((URIRef(fdo + \"ObjectClass\"), RDF.type, OWL.Class))\n",
    "\n",
    "# iterate over the rows of the dataframe\n",
    "for row in tqdm(df_triples.to_dict(orient=\"records\")):\n",
    "    # create a URIRef object for the entity\n",
    "\n",
    "    subject = URIRef(fdr + re.sub('[^A-Za-z0-9_]+', '', row[\"page_url\"].split('wiki/')[-1]))\n",
    "\n",
    "    # check for none values\n",
    "    if row[\"object_name\"].lower() in [\"none\", \"unknown\", \"n/a\", \"\"]:\n",
    "        skipped += 1\n",
    "        continue\n",
    "\n",
    "    # create an object name for the target entity\n",
    "    object_name = re.sub('[^A-Za-z0-9_]+', '', row[\"object_name\"])\n",
    "\n",
    "    # check if the triple is a class definition\n",
    "    # if row[\"object_class\"].lower() == \"class\":\n",
    "    if row[\"property_name\"] == \"hasType\":\n",
    "        # add a triple for the entity class\n",
    "        g.add((subject, RDF.type, URIRef(fdo + object_name)))\n",
    "        if object_name not in unique_classes:\n",
    "            g.add((URIRef(fdo + object_name), RDFS.subClassOf, URIRef(fdo + row[\"subclass\"])))\n",
    "            g.add((URIRef(fdo + object_name), RDFS.label, Literal(row[\"object_name\"], lang=\"en\")))\n",
    "            g.add((URIRef(fdo + object_name), RDF.type, OWL.Class))\n",
    "\n",
    "    else:\n",
    "        object = URIRef(fdr + object_name)\n",
    "\n",
    "        property = URIRef(fdo + row[\"property_name\"])\n",
    "    \n",
    "        # # check is subpropertyof exists:\n",
    "        # if row[\"subpropertyof\"] is not None and row[\"subpropertyof\"] != row[\"property_name\"]:\n",
    "        #     g.add((property, RDFS.subPropertyOf, URIRef(fdo + row[\"subpropertyof\"])))\n",
    "\n",
    "        if row[\"property_type\"] == \"object\":\n",
    "            # add a triple for the target entity class\n",
    "            g.add((object, RDF.type, URIRef(fdo + row[\"object_class\"])))\n",
    "            g.add((URIRef(fdo + row[\"object_class\"]), RDF.type, OWL.Class))\n",
    "            object_class = re.sub('[^A-Za-z0-9_]+', '', row[\"object_class\"])\n",
    "            if object_class not in unique_classes:\n",
    "                g.add((URIRef(fdo + object_class), RDFS.subClassOf, URIRef(fdo + \"ObjectClass\")))\n",
    "\n",
    "            # add a triple for the target entity name\n",
    "            g.add((object, RDFS.label, Literal(row[\"object_name\"], lang=\"en\")))\n",
    "\n",
    "            # add a triple for the entity\n",
    "            g.add((subject, property, object))\n",
    "            g.add((property, RDF.type, OWL.ObjectProperty))\n",
    "\n",
    "        else:\n",
    "            # add a triple for the entity\n",
    "            try:\n",
    "                g.add((subject, property, Literal(int(row[\"object_name\"]), datatype=XSD.integer)))\n",
    "            except ValueError:\n",
    "                g.add((subject, property, Literal(row[\"object_name\"], lang=\"en\")))\n",
    "\n",
    "            g.add((property, RDF.type, OWL.DatatypeProperty))\n",
    "\n",
    "        # add a triple for property description\n",
    "        g.add((property, RDFS.comment, Literal(row[\"property_description\"], lang=\"en\")))\n",
    "\n",
    "print(f\"Skipped {skipped} triples\")\n"
   ]
  },
  {
   "cell_type": "markdown",
   "metadata": {},
   "source": [
    "#### Add triples for properties"
   ]
  },
  {
   "cell_type": "code",
   "execution_count": 65,
   "metadata": {},
   "outputs": [
    {
     "name": "stderr",
     "output_type": "stream",
     "text": [
      "/tmp/ipykernel_1697/4048350202.py:1: UserWarning: pandas only supports SQLAlchemy connectable (engine/connection) or database string URI or sqlite3 DBAPI2 connection. Other DBAPI2 objects are not tested. Please consider using SQLAlchemy.\n",
      "  df_props = pd.read_sql_query(\n"
     ]
    }
   ],
   "source": [
    "df_props = pd.read_sql_query(\n",
    "    \"\"\"select * from fandom_ontology_properties;\"\"\",\n",
    "    conn)"
   ]
  },
  {
   "cell_type": "code",
   "execution_count": 66,
   "metadata": {},
   "outputs": [
    {
     "data": {
      "text/html": [
       "<div>\n",
       "<style scoped>\n",
       "    .dataframe tbody tr th:only-of-type {\n",
       "        vertical-align: middle;\n",
       "    }\n",
       "\n",
       "    .dataframe tbody tr th {\n",
       "        vertical-align: top;\n",
       "    }\n",
       "\n",
       "    .dataframe thead th {\n",
       "        text-align: right;\n",
       "    }\n",
       "</style>\n",
       "<table border=\"1\" class=\"dataframe\">\n",
       "  <thead>\n",
       "    <tr style=\"text-align: right;\">\n",
       "      <th></th>\n",
       "      <th>id</th>\n",
       "      <th>property_name</th>\n",
       "      <th>description</th>\n",
       "      <th>subject_class</th>\n",
       "      <th>object_class</th>\n",
       "      <th>property_type</th>\n",
       "      <th>subpropertyof</th>\n",
       "      <th>original_property_ids</th>\n",
       "      <th>cluster_id</th>\n",
       "    </tr>\n",
       "  </thead>\n",
       "  <tbody>\n",
       "    <tr>\n",
       "      <th>0</th>\n",
       "      <td>1253</td>\n",
       "      <td>foundInLocation</td>\n",
       "      <td>Indicates the location where the item can be f...</td>\n",
       "      <td>Item</td>\n",
       "      <td>Location</td>\n",
       "      <td>object</td>\n",
       "      <td>None</td>\n",
       "      <td>[7532, 7593, 7625, 7829, 7936, 7977, 11511, 12...</td>\n",
       "      <td>209</td>\n",
       "    </tr>\n",
       "    <tr>\n",
       "      <th>1</th>\n",
       "      <td>1254</td>\n",
       "      <td>foundInCharacter</td>\n",
       "      <td>Indicates the character from whom the item can...</td>\n",
       "      <td>Item</td>\n",
       "      <td>Character</td>\n",
       "      <td>object</td>\n",
       "      <td>None</td>\n",
       "      <td>[7549, 9755, 26774, 26809, 26817, 26838, 26847...</td>\n",
       "      <td>209</td>\n",
       "    </tr>\n",
       "    <tr>\n",
       "      <th>2</th>\n",
       "      <td>1255</td>\n",
       "      <td>foundInEvent</td>\n",
       "      <td>Indicates the event during which the item can ...</td>\n",
       "      <td>Item</td>\n",
       "      <td>Event</td>\n",
       "      <td>object</td>\n",
       "      <td>None</td>\n",
       "      <td>[26775, 26818, 26839, 42143, 26848]</td>\n",
       "      <td>209</td>\n",
       "    </tr>\n",
       "    <tr>\n",
       "      <th>3</th>\n",
       "      <td>1256</td>\n",
       "      <td>foundInGame</td>\n",
       "      <td>Indicates the game in which the item can be fo...</td>\n",
       "      <td>Item</td>\n",
       "      <td>Game</td>\n",
       "      <td>object</td>\n",
       "      <td>None</td>\n",
       "      <td>[16192, 16245, 5615, 5627, 5647]</td>\n",
       "      <td>209</td>\n",
       "    </tr>\n",
       "    <tr>\n",
       "      <th>4</th>\n",
       "      <td>1257</td>\n",
       "      <td>foundInCulture</td>\n",
       "      <td>Indicates the culture or group associated with...</td>\n",
       "      <td>Event</td>\n",
       "      <td>Culture</td>\n",
       "      <td>object</td>\n",
       "      <td>None</td>\n",
       "      <td>[16210, 16214, 16218, 16222, 16225, 16228, 162...</td>\n",
       "      <td>209</td>\n",
       "    </tr>\n",
       "  </tbody>\n",
       "</table>\n",
       "</div>"
      ],
      "text/plain": [
       "     id     property_name                                        description  \\\n",
       "0  1253   foundInLocation  Indicates the location where the item can be f...   \n",
       "1  1254  foundInCharacter  Indicates the character from whom the item can...   \n",
       "2  1255      foundInEvent  Indicates the event during which the item can ...   \n",
       "3  1256       foundInGame  Indicates the game in which the item can be fo...   \n",
       "4  1257    foundInCulture  Indicates the culture or group associated with...   \n",
       "\n",
       "  subject_class object_class property_type subpropertyof  \\\n",
       "0          Item     Location        object          None   \n",
       "1          Item    Character        object          None   \n",
       "2          Item        Event        object          None   \n",
       "3          Item         Game        object          None   \n",
       "4         Event      Culture        object          None   \n",
       "\n",
       "                               original_property_ids  cluster_id  \n",
       "0  [7532, 7593, 7625, 7829, 7936, 7977, 11511, 12...         209  \n",
       "1  [7549, 9755, 26774, 26809, 26817, 26838, 26847...         209  \n",
       "2                [26775, 26818, 26839, 42143, 26848]         209  \n",
       "3                   [16192, 16245, 5615, 5627, 5647]         209  \n",
       "4  [16210, 16214, 16218, 16222, 16225, 16228, 162...         209  "
      ]
     },
     "execution_count": 66,
     "metadata": {},
     "output_type": "execute_result"
    }
   ],
   "source": [
    "df_props.head()"
   ]
  },
  {
   "cell_type": "code",
   "execution_count": 67,
   "metadata": {},
   "outputs": [
    {
     "data": {
      "application/vnd.jupyter.widget-view+json": {
       "model_id": "4612a39d5dcf46c084254438656fc36e",
       "version_major": 2,
       "version_minor": 0
      },
      "text/plain": [
       "  0%|          | 0/4751 [00:00<?, ?it/s]"
      ]
     },
     "metadata": {},
     "output_type": "display_data"
    }
   ],
   "source": [
    "for row in tqdm(df_props.to_dict(orient=\"records\")):\n",
    "    # create a URIRef object for the property\n",
    "    property = URIRef(fdo + row[\"property_name\"])\n",
    "\n",
    "    # check if subpropertyof exists\n",
    "    if row[\"subpropertyof\"] is not None and row[\"subpropertyof\"] != row[\"property_name\"]:\n",
    "        g.add((property, RDFS.subPropertyOf, URIRef(fdo + row[\"subpropertyof\"])))"
   ]
  },
  {
   "cell_type": "code",
   "execution_count": null,
   "metadata": {},
   "outputs": [],
   "source": []
  },
  {
   "cell_type": "markdown",
   "metadata": {},
   "source": [
    "#### Add subject classes"
   ]
  },
  {
   "cell_type": "code",
   "execution_count": 68,
   "metadata": {},
   "outputs": [
    {
     "name": "stderr",
     "output_type": "stream",
     "text": [
      "/tmp/ipykernel_1697/574267213.py:1: UserWarning: pandas only supports SQLAlchemy connectable (engine/connection) or database string URI or sqlite3 DBAPI2 connection. Other DBAPI2 objects are not tested. Please consider using SQLAlchemy.\n",
      "  df_subjects = pd.read_sql_query(\n"
     ]
    }
   ],
   "source": [
    "df_subjects = pd.read_sql_query(\n",
    "    \"\"\"select distinct\n",
    "       p.object_id,\n",
    "       game_name,\n",
    "       game_url,\n",
    "       page_name,\n",
    "       page_url,\n",
    "       name as subject_name,\n",
    "       class,\n",
    "       subclass,\n",
    "       superclass,\n",
    "       description\n",
    "\n",
    "from fandom_pages p\n",
    "join fandom_entities_clean e on p.object_id = e.object_id\n",
    "    ;\"\"\",\n",
    "    conn)"
   ]
  },
  {
   "cell_type": "code",
   "execution_count": 69,
   "metadata": {},
   "outputs": [],
   "source": [
    "# get a subset based on unique subjects\n",
    "\n",
    "df_subjects = df_subjects.drop_duplicates(subset=[\"game_name\", \"game_url\", \"page_name\", \"page_url\", \"subject_name\", \"class\", \"superclass\"])\n",
    "df_subjects = df_subjects[[\"game_name\", \"game_url\", \"page_name\", \"page_url\", \"subject_name\", \"class\", \"subclass\", \"description\", \"superclass\"]]"
   ]
  },
  {
   "cell_type": "code",
   "execution_count": 70,
   "metadata": {},
   "outputs": [
    {
     "data": {
      "text/html": [
       "<div>\n",
       "<style scoped>\n",
       "    .dataframe tbody tr th:only-of-type {\n",
       "        vertical-align: middle;\n",
       "    }\n",
       "\n",
       "    .dataframe tbody tr th {\n",
       "        vertical-align: top;\n",
       "    }\n",
       "\n",
       "    .dataframe thead th {\n",
       "        text-align: right;\n",
       "    }\n",
       "</style>\n",
       "<table border=\"1\" class=\"dataframe\">\n",
       "  <thead>\n",
       "    <tr style=\"text-align: right;\">\n",
       "      <th></th>\n",
       "      <th>game_name</th>\n",
       "      <th>game_url</th>\n",
       "      <th>page_name</th>\n",
       "      <th>page_url</th>\n",
       "      <th>subject_name</th>\n",
       "      <th>class</th>\n",
       "      <th>subclass</th>\n",
       "      <th>description</th>\n",
       "      <th>superclass</th>\n",
       "    </tr>\n",
       "  </thead>\n",
       "  <tbody>\n",
       "    <tr>\n",
       "      <th>0</th>\n",
       "      <td>iamsetsuna</td>\n",
       "      <td>https://iamsetsuna.fandom.com/</td>\n",
       "      <td>Aurorean_Tiger</td>\n",
       "      <td>https://iamsetsuna.fandom.com/wiki/Aurorean_Tiger</td>\n",
       "      <td>Aurorean Tiger</td>\n",
       "      <td>Monster</td>\n",
       "      <td>Beast</td>\n",
       "      <td>Aurorean Tiger is a monster known for its stre...</td>\n",
       "      <td>Creature</td>\n",
       "    </tr>\n",
       "    <tr>\n",
       "      <th>1</th>\n",
       "      <td>wildstar</td>\n",
       "      <td>https://wildstar.fandom.com/</td>\n",
       "      <td>AMP_Power_Upgrade</td>\n",
       "      <td>https://wildstar.fandom.com/wiki/AMP_Power_Upg...</td>\n",
       "      <td>AMP Power Upgrade</td>\n",
       "      <td>Item</td>\n",
       "      <td>UpgradeItem</td>\n",
       "      <td>An item used to unlock additional points of AM...</td>\n",
       "      <td>Entity</td>\n",
       "    </tr>\n",
       "    <tr>\n",
       "      <th>2</th>\n",
       "      <td>tevi</td>\n",
       "      <td>https://tevi.fandom.com/</td>\n",
       "      <td>Burnt_Dessert</td>\n",
       "      <td>https://tevi.fandom.com/wiki/Burnt_Dessert</td>\n",
       "      <td>Burnt Dessert</td>\n",
       "      <td>Item</td>\n",
       "      <td>Consumable</td>\n",
       "      <td>Burnt Dessert is a crafting item used within t...</td>\n",
       "      <td>Entity</td>\n",
       "    </tr>\n",
       "    <tr>\n",
       "      <th>3</th>\n",
       "      <td>battleblocktheater</td>\n",
       "      <td>https://battleblocktheater.fandom.com/</td>\n",
       "      <td>Gordon</td>\n",
       "      <td>https://battleblocktheater.fandom.com/wiki/Gordon</td>\n",
       "      <td>Gordon</td>\n",
       "      <td>Character</td>\n",
       "      <td>NPC</td>\n",
       "      <td>Gordon is a shipmate and friend character in B...</td>\n",
       "      <td>None</td>\n",
       "    </tr>\n",
       "    <tr>\n",
       "      <th>4</th>\n",
       "      <td>vvvvvv</td>\n",
       "      <td>https://vvvvvv.fandom.com/</td>\n",
       "      <td>DSS_Souleye</td>\n",
       "      <td>https://vvvvvv.fandom.com/wiki/DSS_Souleye</td>\n",
       "      <td>DSS Souleye</td>\n",
       "      <td>Item</td>\n",
       "      <td>Trinket</td>\n",
       "      <td>The DSS Souleye is a trinket featured in the g...</td>\n",
       "      <td>Entity</td>\n",
       "    </tr>\n",
       "  </tbody>\n",
       "</table>\n",
       "</div>"
      ],
      "text/plain": [
       "            game_name                                game_url  \\\n",
       "0          iamsetsuna          https://iamsetsuna.fandom.com/   \n",
       "1            wildstar            https://wildstar.fandom.com/   \n",
       "2                tevi                https://tevi.fandom.com/   \n",
       "3  battleblocktheater  https://battleblocktheater.fandom.com/   \n",
       "4              vvvvvv              https://vvvvvv.fandom.com/   \n",
       "\n",
       "           page_name                                           page_url  \\\n",
       "0     Aurorean_Tiger  https://iamsetsuna.fandom.com/wiki/Aurorean_Tiger   \n",
       "1  AMP_Power_Upgrade  https://wildstar.fandom.com/wiki/AMP_Power_Upg...   \n",
       "2      Burnt_Dessert         https://tevi.fandom.com/wiki/Burnt_Dessert   \n",
       "3             Gordon  https://battleblocktheater.fandom.com/wiki/Gordon   \n",
       "4        DSS_Souleye         https://vvvvvv.fandom.com/wiki/DSS_Souleye   \n",
       "\n",
       "        subject_name      class     subclass  \\\n",
       "0     Aurorean Tiger    Monster        Beast   \n",
       "1  AMP Power Upgrade       Item  UpgradeItem   \n",
       "2      Burnt Dessert       Item   Consumable   \n",
       "3             Gordon  Character          NPC   \n",
       "4        DSS Souleye       Item      Trinket   \n",
       "\n",
       "                                         description superclass  \n",
       "0  Aurorean Tiger is a monster known for its stre...   Creature  \n",
       "1  An item used to unlock additional points of AM...     Entity  \n",
       "2  Burnt Dessert is a crafting item used within t...     Entity  \n",
       "3  Gordon is a shipmate and friend character in B...       None  \n",
       "4  The DSS Souleye is a trinket featured in the g...     Entity  "
      ]
     },
     "execution_count": 70,
     "metadata": {},
     "output_type": "execute_result"
    }
   ],
   "source": [
    "df_subjects.head()"
   ]
  },
  {
   "cell_type": "code",
   "execution_count": null,
   "metadata": {},
   "outputs": [],
   "source": []
  },
  {
   "cell_type": "code",
   "execution_count": null,
   "metadata": {},
   "outputs": [],
   "source": []
  },
  {
   "cell_type": "code",
   "execution_count": 71,
   "metadata": {},
   "outputs": [
    {
     "data": {
      "application/vnd.jupyter.widget-view+json": {
       "model_id": "93787a7ac7714d4685951f9060c878d8",
       "version_major": 2,
       "version_minor": 0
      },
      "text/plain": [
       "  0%|          | 0/12945 [00:00<?, ?it/s]"
      ]
     },
     "metadata": {},
     "output_type": "display_data"
    }
   ],
   "source": [
    "for row in tqdm(df_subjects.to_dict(orient=\"records\")):\n",
    "    # create a URIRef object for the entity\n",
    "    subject = URIRef(fdr + re.sub('[^A-Za-z0-9_]+', '', row[\"page_url\"].split('wiki/')[-1]))\n",
    "\n",
    "    # add a triple for the entity class\n",
    "    g.add((subject, RDF.type, URIRef(fdo + row[\"subclass\"])))\n",
    "\n",
    "    # add subclass\n",
    "    if row[\"subclass\"] not in top_lvl_classes:\n",
    "        g.add((URIRef(fdo + row[\"subclass\"]), RDFS.subClassOf, URIRef(fdo + row[\"class\"])))\n",
    "        g.add((URIRef(fdo + row[\"class\"]), RDF.type, OWL.Class))\n",
    "        g.add((URIRef(fdo + row[\"subclass\"]), RDF.type, OWL.Class))\n",
    "\n",
    "    # # compare the subject class with the class \n",
    "    # if row[\"class\"] != row[\"subject_class\"]:\n",
    "    #         g.add((URIRef(fdo + row[\"class\"]), RDFS.subClassOf, URIRef(fdo + row[\"subject_class\"])))\n",
    "    #         g.add((URIRef(fdo + row[\"subject_class\"]), RDF.type, OWL.Class))\n",
    "\n",
    "    if row[\"superclass\"] is not None:\n",
    "        g.add((URIRef(fdo + row[\"class\"]), RDFS.subClassOf, URIRef(fdo + row[\"superclass\"])))\n",
    "        g.add((URIRef(fdo + row[\"superclass\"]), RDF.type, OWL.Class))\n",
    "\n",
    "    # add a triple for the entity name\n",
    "    g.add((subject, RDFS.label, Literal(row[\"subject_name\"], lang=\"en\")))\n",
    "\n",
    "    # add a triple for the entity description\n",
    "    g.add((subject, RDFS.comment, Literal(row[\"description\"], lang=\"en\")))\n",
    "\n",
    "    g.add((subject, OWL.sameAs, URIRef(row[\"page_url\"])))\n",
    "\n"
   ]
  },
  {
   "cell_type": "code",
   "execution_count": 72,
   "metadata": {},
   "outputs": [
    {
     "data": {
      "text/plain": [
       "<Graph identifier=N7b7cf83e99784024941863e3d5aa8c7c (<class 'rdflib.graph.Graph'>)>"
      ]
     },
     "execution_count": 72,
     "metadata": {},
     "output_type": "execute_result"
    }
   ],
   "source": [
    "g.serialize(\"fandom_temp.ttl\", format=\"turtle\")"
   ]
  },
  {
   "cell_type": "code",
   "execution_count": null,
   "metadata": {},
   "outputs": [],
   "source": []
  }
 ],
 "metadata": {
  "kernelspec": {
   "display_name": "venv",
   "language": "python",
   "name": "python3"
  },
  "language_info": {
   "codemirror_mode": {
    "name": "ipython",
    "version": 3
   },
   "file_extension": ".py",
   "mimetype": "text/x-python",
   "name": "python",
   "nbconvert_exporter": "python",
   "pygments_lexer": "ipython3",
   "version": "3.10.12"
  }
 },
 "nbformat": 4,
 "nbformat_minor": 2
}
