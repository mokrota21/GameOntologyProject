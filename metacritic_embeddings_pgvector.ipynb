{
 "cells": [
  {
   "cell_type": "code",
   "execution_count": null,
   "metadata": {},
   "outputs": [],
   "source": [
    "# !pip install -q torch transformers transformers accelerate bitsandbytes langchain sentence-transformers faiss-gpu openpyxl pacmap datasets langchain-community ragatouille"
   ]
  },
  {
   "cell_type": "code",
   "execution_count": 28,
   "metadata": {},
   "outputs": [],
   "source": [
    "from tqdm.notebook import tqdm\n",
    "import pandas as pd\n",
    "from typing import Optional, List, Tuple\n",
    "import matplotlib.pyplot as plt\n",
    "\n",
    "pd.set_option(\"display.max_colwidth\", None)  # This will be helpful when visualizing retriever outputs"
   ]
  },
  {
   "cell_type": "code",
   "execution_count": 29,
   "metadata": {},
   "outputs": [
    {
     "data": {
      "text/plain": [
       "True"
      ]
     },
     "execution_count": 29,
     "metadata": {},
     "output_type": "execute_result"
    }
   ],
   "source": [
    "from dotenv import load_dotenv\n",
    "from time import sleep\n",
    "import os\n",
    "import json\n",
    "from tqdm.notebook import tqdm\n",
    "\n",
    "load_dotenv()  # take environment variables from .env."
   ]
  },
  {
   "cell_type": "code",
   "execution_count": 30,
   "metadata": {},
   "outputs": [],
   "source": [
    "# establish a connection to the PostgreSQL database\n",
    "import psycopg2 as pg\n",
    "\n",
    "conn = pg.connect(\n",
    "    dbname=os.environ[\"POSTGRES_DB\"],\n",
    "    user=os.environ[\"POSTGRES_USER\"],\n",
    "    password=os.environ[\"POSTGRES_PASSWORD\"],\n",
    "    host=os.environ[\"POSTGRES_HOST\"]\n",
    ")"
   ]
  },
  {
   "cell_type": "code",
   "execution_count": null,
   "metadata": {},
   "outputs": [
    {
     "name": "stderr",
     "output_type": "stream",
     "text": [
      "/tmp/ipykernel_283687/3980491310.py:1: UserWarning: pandas only supports SQLAlchemy connectable (engine/connection) or database string URI or sqlite3 DBAPI2 connection. Other DBAPI2 objects are not tested. Please consider using SQLAlchemy.\n",
      "  df = pd.read_sql_query(\n"
     ]
    }
   ],
   "source": [
    "df = pd.read_sql_query(\n",
    "    \"\"\"SELECT\n",
    "            *\n",
    "    FROM metacritic_pages;\"\"\",\n",
    "      conn)\n",
    "\n",
    "# object_id\ttitle\tscore\tplatforms\trelease_date\tdevelopers\tpublisher\tgenres"
   ]
  },
  {
   "cell_type": "code",
   "execution_count": 6,
   "metadata": {},
   "outputs": [
    {
     "data": {
      "text/html": [
       "<div>\n",
       "<style scoped>\n",
       "    .dataframe tbody tr th:only-of-type {\n",
       "        vertical-align: middle;\n",
       "    }\n",
       "\n",
       "    .dataframe tbody tr th {\n",
       "        vertical-align: top;\n",
       "    }\n",
       "\n",
       "    .dataframe thead th {\n",
       "        text-align: right;\n",
       "    }\n",
       "</style>\n",
       "<table border=\"1\" class=\"dataframe\">\n",
       "  <thead>\n",
       "    <tr style=\"text-align: right;\">\n",
       "      <th></th>\n",
       "      <th>object_id</th>\n",
       "      <th>title</th>\n",
       "      <th>score</th>\n",
       "      <th>platforms</th>\n",
       "      <th>release_date</th>\n",
       "      <th>developers</th>\n",
       "      <th>publisher</th>\n",
       "      <th>genres</th>\n",
       "    </tr>\n",
       "  </thead>\n",
       "  <tbody>\n",
       "    <tr>\n",
       "      <th>0</th>\n",
       "      <td>6718cddc17c581114a9d20cf</td>\n",
       "      <td>Super Mario Galaxy 2</td>\n",
       "      <td>97.0</td>\n",
       "      <td>[Wii]</td>\n",
       "      <td>2010-05-23</td>\n",
       "      <td>[Nintendo EAD Tokyo]</td>\n",
       "      <td>Nintendo</td>\n",
       "      <td>[3D Platformer]</td>\n",
       "    </tr>\n",
       "    <tr>\n",
       "      <th>1</th>\n",
       "      <td>6718cedb17c581114a9d20d0</td>\n",
       "      <td>The Legend of Zelda: Breath of the Wild</td>\n",
       "      <td>97.0</td>\n",
       "      <td>[Wii U, Nintendo Switch]</td>\n",
       "      <td>2017-03-03</td>\n",
       "      <td>[Nintendo]</td>\n",
       "      <td>Nintendo</td>\n",
       "      <td>[Open-World Action]</td>\n",
       "    </tr>\n",
       "    <tr>\n",
       "      <th>2</th>\n",
       "      <td>6718cedb17c581114a9d20d1</td>\n",
       "      <td>Red Dead Redemption 2</td>\n",
       "      <td>97.0</td>\n",
       "      <td>[Xbox One, PlayStation 4, PC]</td>\n",
       "      <td>2018-10-26</td>\n",
       "      <td>[Rockstar Games]</td>\n",
       "      <td>Rockstar Games</td>\n",
       "      <td>[Open-World Action]</td>\n",
       "    </tr>\n",
       "    <tr>\n",
       "      <th>3</th>\n",
       "      <td>6718cedb17c581114a9d20d2</td>\n",
       "      <td>Grand Theft Auto V</td>\n",
       "      <td>97.0</td>\n",
       "      <td>[PlayStation 3, Xbox 360, PlayStation 4, Xbox One, PC, PlayStation 5, Xbox Series X]</td>\n",
       "      <td>2014-11-18</td>\n",
       "      <td>[Rockstar North]</td>\n",
       "      <td>Rockstar Games</td>\n",
       "      <td>[Open-World Action]</td>\n",
       "    </tr>\n",
       "    <tr>\n",
       "      <th>4</th>\n",
       "      <td>6718cedb17c581114a9d20d3</td>\n",
       "      <td>Super Mario Odyssey</td>\n",
       "      <td>97.0</td>\n",
       "      <td>[Nintendo Switch]</td>\n",
       "      <td>2017-10-27</td>\n",
       "      <td>[Nintendo]</td>\n",
       "      <td>Nintendo</td>\n",
       "      <td>[3D Platformer]</td>\n",
       "    </tr>\n",
       "  </tbody>\n",
       "</table>\n",
       "</div>"
      ],
      "text/plain": [
       "                  object_id                                    title  score  \\\n",
       "0  6718cddc17c581114a9d20cf                     Super Mario Galaxy 2   97.0   \n",
       "1  6718cedb17c581114a9d20d0  The Legend of Zelda: Breath of the Wild   97.0   \n",
       "2  6718cedb17c581114a9d20d1                    Red Dead Redemption 2   97.0   \n",
       "3  6718cedb17c581114a9d20d2                       Grand Theft Auto V   97.0   \n",
       "4  6718cedb17c581114a9d20d3                      Super Mario Odyssey   97.0   \n",
       "\n",
       "                                                                              platforms  \\\n",
       "0                                                                                 [Wii]   \n",
       "1                                                              [Wii U, Nintendo Switch]   \n",
       "2                                                         [Xbox One, PlayStation 4, PC]   \n",
       "3  [PlayStation 3, Xbox 360, PlayStation 4, Xbox One, PC, PlayStation 5, Xbox Series X]   \n",
       "4                                                                     [Nintendo Switch]   \n",
       "\n",
       "  release_date            developers       publisher               genres  \n",
       "0   2010-05-23  [Nintendo EAD Tokyo]        Nintendo      [3D Platformer]  \n",
       "1   2017-03-03            [Nintendo]        Nintendo  [Open-World Action]  \n",
       "2   2018-10-26      [Rockstar Games]  Rockstar Games  [Open-World Action]  \n",
       "3   2014-11-18      [Rockstar North]  Rockstar Games  [Open-World Action]  \n",
       "4   2017-10-27            [Nintendo]        Nintendo      [3D Platformer]  "
      ]
     },
     "execution_count": 6,
     "metadata": {},
     "output_type": "execute_result"
    }
   ],
   "source": [
    "df.head()"
   ]
  },
  {
   "cell_type": "code",
   "execution_count": 7,
   "metadata": {},
   "outputs": [
    {
     "data": {
      "text/plain": [
       "(8015, 8)"
      ]
     },
     "execution_count": 7,
     "metadata": {},
     "output_type": "execute_result"
    }
   ],
   "source": [
    "df.shape"
   ]
  },
  {
   "cell_type": "markdown",
   "metadata": {},
   "source": [
    "\n",
    "## Create and populate Vectorstore using PostgreSQL and PGVector\n",
    "\n",
    "As described in LangChain docs:\n",
    "\n",
    "\"PGVector: An implementation of LangChain vectorstore abstraction using postgres as the backend and utilizing the pgvector extension.\"\n",
    "\n",
    "https://python.langchain.com/docs/integrations/vectorstores/pgvector/\n",
    "\n",
    "#### PGVector docs:\n",
    "https://api.python.langchain.com/en/latest/vectorstores/langchain_postgres.vectorstores.PGVector.html"
   ]
  },
  {
   "cell_type": "code",
   "execution_count": 44,
   "metadata": {},
   "outputs": [],
   "source": [
    "from langchain_openai import OpenAIEmbeddings\n",
    "\n",
    "embeddings_model = \"text-embedding-3-large\"\n",
    "dimensions = 256\n",
    "embeddings = OpenAIEmbeddings(model=embeddings_model, dimensions=dimensions)\n"
   ]
  },
  {
   "cell_type": "code",
   "execution_count": 45,
   "metadata": {},
   "outputs": [],
   "source": [
    "from langchain_postgres import PGVector\n",
    "from langchain_postgres.vectorstores import PGVector, DistanceStrategy\n",
    "\n",
    "# See docker command above to launch a postgres instance with pgvector enabled.\n",
    "connection = f'postgresql+psycopg://{os.environ[\"POSTGRES_USER\"]}:{os.environ[\"POSTGRES_PASSWORD\"]}@{os.environ[\"POSTGRES_HOST\"]}:5432/{os.environ[\"POSTGRES_DB_VECTOR\"]}'  # Uses psycopg3!\n",
    "collection_name = \"metacritic_pages\"\n",
    "\n",
    "# https://api.python.langchain.com/en/latest/vectorstores/langchain_postgres.vectorstores.PGVector.html\n",
    "\n",
    "vector_store = PGVector(\n",
    "    embeddings=embeddings,\n",
    "    embedding_length=dimensions,\n",
    "    distance_strategy=DistanceStrategy.COSINE,\n",
    "    collection_name=collection_name,\n",
    "    connection=connection,\n",
    "    use_jsonb=True\n",
    ")"
   ]
  },
  {
   "cell_type": "markdown",
   "metadata": {},
   "source": [
    "## Prepare data queried from Postgres"
   ]
  },
  {
   "cell_type": "code",
   "execution_count": 10,
   "metadata": {},
   "outputs": [
    {
     "data": {
      "application/vnd.jupyter.widget-view+json": {
       "model_id": "e00b888c8720499a93b07a92c492add7",
       "version_major": 2,
       "version_minor": 0
      },
      "text/plain": [
       "  0%|          | 0/8015 [00:00<?, ?it/s]"
      ]
     },
     "metadata": {},
     "output_type": "display_data"
    }
   ],
   "source": [
    "from langchain.docstore.document import Document\n",
    "\n",
    "docs = [\n",
    "    Document(\n",
    "        page_content=f\"Game name: '{doc['title']}'; score: {doc['score']}; platforms: {doc['platforms']}; release date: {doc['release_date']}; developers: {doc['developers']}; publisher: {doc['publisher']}; genres: {doc['genres']}\",\n",
    "        metadata={\n",
    "            \"object_id\": doc[\"object_id\"],\n",
    "            \"title\": doc[\"title\"],\n",
    "            \"score\": doc[\"score\"],\n",
    "            \"platforms\": doc[\"platforms\"],\n",
    "            \"release_date\": doc[\"release_date\"],\n",
    "            \"developers\": doc[\"developers\"],\n",
    "            \"publisher\": doc[\"publisher\"],\n",
    "            \"genres\": doc[\"genres\"],\n",
    "        }\n",
    "    ) for doc in tqdm(df.to_dict(orient=\"records\"))\n",
    "]"
   ]
  },
  {
   "cell_type": "code",
   "execution_count": 52,
   "metadata": {},
   "outputs": [
    {
     "data": {
      "text/plain": [
       "5"
      ]
     },
     "execution_count": 52,
     "metadata": {},
     "output_type": "execute_result"
    }
   ],
   "source": [
    "df.score.isna().sum()"
   ]
  },
  {
   "cell_type": "markdown",
   "metadata": {},
   "source": [
    "## Create embeddings using OpenAI batch API"
   ]
  },
  {
   "cell_type": "code",
   "execution_count": 12,
   "metadata": {},
   "outputs": [
    {
     "data": {
      "application/vnd.jupyter.widget-view+json": {
       "model_id": "c1e8a3c55bfc48878edddcb0d771f247",
       "version_major": 2,
       "version_minor": 0
      },
      "text/plain": [
       "  0%|          | 0/8015 [00:00<?, ?it/s]"
      ]
     },
     "metadata": {},
     "output_type": "display_data"
    }
   ],
   "source": [
    "batch_filename = f'batchinput_embed_metacritic_pages.jsonl'\n",
    "with open(batch_filename, 'w') as f:\n",
    "    for doc in tqdm(docs):\n",
    "        request = {\n",
    "            \"custom_id\": str(doc.metadata['object_id']),\n",
    "            \"method\": \"POST\",\n",
    "            \"url\": \"/v1/embeddings\",\n",
    "            \"body\": {\n",
    "                \"input\": doc.page_content,\n",
    "                \"model\": embeddings_model,\n",
    "                \"encoding_format\": \"float\",\n",
    "                \"dimensions\": dimensions,\n",
    "                \"user\": \"user_001\",\n",
    "            }\n",
    "        }\n",
    "        json.dump(request, f)\n",
    "        f.write('\\n')\n"
   ]
  },
  {
   "cell_type": "code",
   "execution_count": 13,
   "metadata": {},
   "outputs": [
    {
     "data": {
      "text/plain": [
       "Batch(id='batch_6718d65381d881908175d1b785c20cc5', completion_window='24h', created_at=1729680979, endpoint='/v1/embeddings', input_file_id='file-S6l0liz9kM1RqItSDIInEDrl', object='batch', status='validating', cancelled_at=None, cancelling_at=None, completed_at=None, error_file_id=None, errors=None, expired_at=None, expires_at=1729767379, failed_at=None, finalizing_at=None, in_progress_at=None, metadata={'description': 'metacritic embeddings all 8K'}, output_file_id=None, request_counts=BatchRequestCounts(completed=0, failed=0, total=0))"
      ]
     },
     "execution_count": 13,
     "metadata": {},
     "output_type": "execute_result"
    }
   ],
   "source": [
    "from openai import OpenAI\n",
    "client = OpenAI(api_key=os.environ['OPENAI_APIKEY'])\n",
    "\n",
    "batch_input_file = client.files.create(\n",
    "  file=open(batch_filename, \"rb\"),\n",
    "  purpose=\"batch\"\n",
    ")\n",
    "\n",
    "batch_input_file_id = batch_input_file.id\n",
    "\n",
    "batch_create_msg = client.batches.create(\n",
    "    input_file_id=batch_input_file_id,\n",
    "    endpoint=\"/v1/embeddings\",\n",
    "    completion_window=\"24h\",\n",
    "    metadata={\n",
    "      \"description\": f\"metacritic embeddings all 8K\"\n",
    "    }\n",
    ")\n",
    "batch_create_msg"
   ]
  },
  {
   "cell_type": "code",
   "execution_count": 34,
   "metadata": {},
   "outputs": [
    {
     "name": "stdout",
     "output_type": "stream",
     "text": [
      "metacritic embeddings all 8K completed\n",
      "BatchRequestCounts(completed=8015, failed=0, total=8015)\n"
     ]
    }
   ],
   "source": [
    "batch_info = client.batches.retrieve(batch_create_msg.id)\n",
    "# batch_info = client.batches.retrieve(\"batch_6717c4726d148190b3d3bc2dc00093ac\")\n",
    "print(batch_info.metadata['description'], batch_info.status)\n",
    "print(batch_info.request_counts)"
   ]
  },
  {
   "cell_type": "code",
   "execution_count": 35,
   "metadata": {},
   "outputs": [],
   "source": [
    "batch_output_filename = 'batchoutput_embed_metacritic_pages.jsonl'"
   ]
  },
  {
   "cell_type": "code",
   "execution_count": 36,
   "metadata": {},
   "outputs": [
    {
     "name": "stdout",
     "output_type": "stream",
     "text": [
      "batchoutput_embed_metacritic_pages.jsonl completed.\n"
     ]
    }
   ],
   "source": [
    "if batch_info.status == 'completed':\n",
    "    file_response = client.files.content(batch_info.output_file_id)\n",
    "    with open(batch_output_filename, \"wb\") as f:\n",
    "        f.write(file_response.content)\n",
    "\n",
    "    print(f\"{batch_output_filename} completed.\")\n",
    "else:\n",
    "    print(f\"Batch job {batch_info.metadata['description']} is still {batch_info.status}.\")"
   ]
  },
  {
   "cell_type": "code",
   "execution_count": 37,
   "metadata": {},
   "outputs": [
    {
     "data": {
      "application/vnd.jupyter.widget-view+json": {
       "model_id": "76220c765076422db244495fc156b876",
       "version_major": 2,
       "version_minor": 0
      },
      "text/plain": [
       "0it [00:00, ?it/s]"
      ]
     },
     "metadata": {},
     "output_type": "display_data"
    }
   ],
   "source": [
    "\n",
    "batch_data = []\n",
    "with open(batch_output_filename, \"r\") as f:\n",
    "    for i, line in tqdm(enumerate(f)):\n",
    "        batch_data.append(json.loads(line))\n",
    "\n"
   ]
  },
  {
   "cell_type": "code",
   "execution_count": 39,
   "metadata": {},
   "outputs": [
    {
     "data": {
      "application/vnd.jupyter.widget-view+json": {
       "model_id": "85216b1d1df941409e29ba85d980ba49",
       "version_major": 2,
       "version_minor": 0
      },
      "text/plain": [
       "  0%|          | 0/8015 [00:00<?, ?it/s]"
      ]
     },
     "metadata": {},
     "output_type": "display_data"
    }
   ],
   "source": [
    "\n",
    "output_dicts = []\n",
    "for response in tqdm(batch_data):\n",
    "    content = {\n",
    "        \"id\": response[\"custom_id\"],\n",
    "        \"embedding\": response[\"response\"][\"body\"][\"data\"][0][\"embedding\"]\n",
    "    }\n",
    "    # print(content)\n",
    "    # break\n",
    "    output_dicts.append(content)"
   ]
  },
  {
   "cell_type": "code",
   "execution_count": 47,
   "metadata": {},
   "outputs": [
    {
     "data": {
      "text/plain": [
       "256"
      ]
     },
     "execution_count": 47,
     "metadata": {},
     "output_type": "execute_result"
    }
   ],
   "source": [
    "len(output_dicts[0]['embedding'])"
   ]
  },
  {
   "cell_type": "code",
   "execution_count": 40,
   "metadata": {},
   "outputs": [],
   "source": [
    "# sort both lists by object_id\n",
    "output_dicts = sorted(output_dicts, key=lambda x: x['id'])\n",
    "docs = sorted(docs, key=lambda x: x.metadata['object_id'])"
   ]
  },
  {
   "cell_type": "code",
   "execution_count": null,
   "metadata": {},
   "outputs": [],
   "source": [
    "# convert date to string and swap NaN with None for score\n",
    "for doc in docs:\n",
    "    doc.metadata['release_date'] = str(doc.metadata['release_date'])\n",
    "    if pd.isnull(doc.metadata['score']):\n",
    "        doc.metadata['score'] = None"
   ]
  },
  {
   "cell_type": "code",
   "execution_count": 42,
   "metadata": {},
   "outputs": [],
   "source": [
    "for i in range(len(output_dicts)):\n",
    "    assert output_dicts[i]['id'] == docs[i].metadata['object_id']"
   ]
  },
  {
   "cell_type": "code",
   "execution_count": 54,
   "metadata": {},
   "outputs": [
    {
     "data": {
      "application/vnd.jupyter.widget-view+json": {
       "model_id": "dc0434ad344a445996c42e0b0bc3cecf",
       "version_major": 2,
       "version_minor": 0
      },
      "text/plain": [
       "  0%|          | 0/9 [00:00<?, ?it/s]"
      ]
     },
     "metadata": {},
     "output_type": "display_data"
    },
    {
     "name": "stdout",
     "output_type": "stream",
     "text": [
      "Adding embeddings 0 to 1000...\n",
      "Adding embeddings 1000 to 2000...\n",
      "Adding embeddings 2000 to 3000...\n",
      "Adding embeddings 3000 to 4000...\n",
      "Adding embeddings 4000 to 5000...\n",
      "Adding embeddings 5000 to 6000...\n",
      "Adding embeddings 6000 to 7000...\n",
      "Adding embeddings 7000 to 8000...\n",
      "Adding embeddings 8000 to 9000...\n"
     ]
    }
   ],
   "source": [
    "# vector_store.add_documents(docs, ids=[doc.metadata[\"id\"] for doc in docs[:100]])\n",
    "for i in tqdm(range(9)):\n",
    "    start = i*1000\n",
    "    end = (i+1)*1000\n",
    "    if start > len(output_dicts):\n",
    "        break\n",
    "    print(f\"Adding embeddings {start} to {end}...\")\n",
    "    vector_store.add_embeddings(\n",
    "        texts=[doc.page_content for doc in docs[start:end]],\n",
    "        embeddings=[em['embedding'] for em in output_dicts[start:end]],\n",
    "        metadatas=[doc.metadata for doc in docs[start:end]],\n",
    "        ids=[em['id'] for em in output_dicts[start:end]]\n",
    "    )"
   ]
  },
  {
   "cell_type": "code",
   "execution_count": 55,
   "metadata": {},
   "outputs": [
    {
     "name": "stdout",
     "output_type": "stream",
     "text": [
      "* 0.4137864359489929 Game name: 'Super Mario Bros. Wonder'; score: 92.0; platforms: ['Nintendo Switch']; release date: 2023-10-20; developers: ['Nintendo']; publisher: Nintendo; genres: ['2D Platformer'] [{'score': 92.0, 'title': 'Super Mario Bros. Wonder', 'genres': ['2D Platformer'], 'object_id': '6718cede17c581114a9d20fe', 'platforms': ['Nintendo Switch'], 'publisher': 'Nintendo', 'developers': ['Nintendo'], 'release_date': '2023-10-20'}]\n",
      "* 0.4416879748291974 Game name: 'Mario & Luigi: Superstar Saga + Bowser's Minions'; score: 81.0; platforms: ['3DS']; release date: 2017-10-06; developers: ['Alphadream Corporation']; publisher: Nintendo; genres: ['JRPG'] [{'score': 81.0, 'title': \"Mario & Luigi: Superstar Saga + Bowser's Minions\", 'genres': ['JRPG'], 'object_id': '6718cfe517c581114a9d2630', 'platforms': ['3DS'], 'publisher': 'Nintendo', 'developers': ['Alphadream Corporation'], 'release_date': '2017-10-06'}]\n",
      "* 0.4585527181625366 Game name: 'New Super Mario Bros. 2'; score: 78.0; platforms: ['3DS']; release date: 2012-08-19; developers: ['Nintendo']; publisher: Nintendo; genres: ['2D Platformer'] [{'score': 78.0, 'title': 'New Super Mario Bros. 2', 'genres': ['2D Platformer'], 'object_id': '6718d02b17c581114a9d2a8c', 'platforms': ['3DS'], 'publisher': 'Nintendo', 'developers': ['Nintendo'], 'release_date': '2012-08-19'}]\n",
      "* 0.4674640893936157 Game name: 'Super Mario Odyssey'; score: 97.0; platforms: ['Nintendo Switch']; release date: 2017-10-27; developers: ['Nintendo']; publisher: Nintendo; genres: ['3D Platformer'] [{'score': 97.0, 'title': 'Super Mario Odyssey', 'genres': ['3D Platformer'], 'object_id': '6718cedb17c581114a9d20d3', 'platforms': ['Nintendo Switch'], 'publisher': 'Nintendo', 'developers': ['Nintendo'], 'release_date': '2017-10-27'}]\n",
      "* 0.46761244535446167 Game name: 'Super Mario 3D World + Bowser's Fury'; score: 89.0; platforms: ['Nintendo Switch']; release date: 2021-02-12; developers: ['Nintendo']; publisher: Nintendo; genres: ['3D Platformer'] [{'score': 89.0, 'title': \"Super Mario 3D World + Bowser's Fury\", 'genres': ['3D Platformer'], 'object_id': '6718cee617c581114a9d2181', 'platforms': ['Nintendo Switch'], 'publisher': 'Nintendo', 'developers': ['Nintendo'], 'release_date': '2021-02-12'}]\n",
      "* 0.46911218946503375 Game name: 'Mario & Luigi: Bowser's Inside Story + Bowser Jr.'s Journey'; score: 84.0; platforms: ['3DS']; release date: 2019-01-11; developers: ['Alphadream Corporation']; publisher: Nintendo; genres: ['JRPG'] [{'score': 84.0, 'title': \"Mario & Luigi: Bowser's Inside Story + Bowser Jr.'s Journey\", 'genres': ['JRPG'], 'object_id': '6718cfc017c581114a9d23e0', 'platforms': ['3DS'], 'publisher': 'Nintendo', 'developers': ['Alphadream Corporation'], 'release_date': '2019-01-11'}]\n",
      "* 0.47197312116622925 Game name: 'Mario vs. Donkey Kong'; score: 76.0; platforms: ['Nintendo Switch']; release date: 2024-02-16; developers: ['Nintendo Software Technology']; publisher: Nintendo; genres: ['2D Platformer'] [{'score': 76.0, 'title': 'Mario vs. Donkey Kong', 'genres': ['2D Platformer'], 'object_id': '6718d04917c581114a9d2c5d', 'platforms': ['Nintendo Switch'], 'publisher': 'Nintendo', 'developers': ['Nintendo Software Technology'], 'release_date': '2024-02-16'}]\n",
      "* 0.47378766536712646 Game name: 'Super Mario 3D Land'; score: 90.0; platforms: ['3DS']; release date: 2011-11-13; developers: ['Nintendo']; publisher: Nintendo; genres: ['3D Platformer'] [{'score': 90.0, 'title': 'Super Mario 3D Land', 'genres': ['3D Platformer'], 'object_id': '6718cee317c581114a9d2146', 'platforms': ['3DS'], 'publisher': 'Nintendo', 'developers': ['Nintendo'], 'release_date': '2011-11-13'}]\n",
      "* 0.4755215644836426 Game name: 'Mario vs. Donkey Kong: Mini-Land Mayhem'; score: 79.0; platforms: ['DS']; release date: 2010-11-14; developers: ['Nintendo Software Technology']; publisher: Nintendo; genres: ['2D Platformer'] [{'score': 79.0, 'title': 'Mario vs. Donkey Kong: Mini-Land Mayhem', 'genres': ['2D Platformer'], 'object_id': '6718d01417c581114a9d2914', 'platforms': ['DS'], 'publisher': 'Nintendo', 'developers': ['Nintendo Software Technology'], 'release_date': '2010-11-14'}]\n",
      "* 0.4765737056732178 Game name: 'Princess Peach: Showtime!'; score: 74.0; platforms: ['Nintendo Switch']; release date: 2024-03-22; developers: ['Good-Feel']; publisher: Nintendo; genres: ['Linear Action Adventure'] [{'score': 74.0, 'title': 'Princess Peach: Showtime!', 'genres': ['Linear Action Adventure'], 'object_id': '6718d07a17c581114a9d2f6e', 'platforms': ['Nintendo Switch'], 'publisher': 'Nintendo', 'developers': ['Good-Feel'], 'release_date': '2024-03-22'}]\n",
      "* 0.4785497473805983 Game name: 'Kirby: Triple Deluxe'; score: 80.0; platforms: ['3DS']; release date: 2014-05-02; developers: ['HAL Labs']; publisher: Nintendo; genres: ['2D Platformer'] [{'score': 80.0, 'title': 'Kirby: Triple Deluxe', 'genres': ['2D Platformer'], 'object_id': '6718d00417c581114a9d2823', 'platforms': ['3DS'], 'publisher': 'Nintendo', 'developers': ['HAL Labs'], 'release_date': '2014-05-02'}]\n",
      "* 0.48057645559310913 Game name: 'Mario vs. Donkey Kong: Tipping Stars'; score: 70.0; platforms: ['Wii U', '3DS']; release date: 2015-03-05; developers: ['Nintendo Software Technology']; publisher: Nintendo; genres: ['Action Puzzle'] [{'score': 70.0, 'title': 'Mario vs. Donkey Kong: Tipping Stars', 'genres': ['Action Puzzle'], 'object_id': '6718d0c417c581114a9d3408', 'platforms': ['Wii U', '3DS'], 'publisher': 'Nintendo', 'developers': ['Nintendo Software Technology'], 'release_date': '2015-03-05'}]\n",
      "* 0.4809078574180603 Game name: 'Super Mario Galaxy 2'; score: 97.0; platforms: ['Wii']; release date: 2010-05-23; developers: ['Nintendo EAD Tokyo']; publisher: Nintendo; genres: ['3D Platformer'] [{'score': 97.0, 'title': 'Super Mario Galaxy 2', 'genres': ['3D Platformer'], 'object_id': '6718cddc17c581114a9d20cf', 'platforms': ['Wii'], 'publisher': 'Nintendo', 'developers': ['Nintendo EAD Tokyo'], 'release_date': '2010-05-23'}]\n",
      "* 0.48154228925704956 Game name: 'Pikmin 1 + 2'; score: 79.0; platforms: ['Nintendo Switch']; release date: 2023-06-21; developers: ['Nintendo']; publisher: Nintendo; genres: ['Compilation'] [{'score': 79.0, 'title': 'Pikmin 1 + 2', 'genres': ['Compilation'], 'object_id': '6718d00a17c581114a9d2880', 'platforms': ['Nintendo Switch'], 'publisher': 'Nintendo', 'developers': ['Nintendo'], 'release_date': '2023-06-21'}]\n",
      "* 0.4827481508255005 Game name: 'Super Chariot'; score: 76.0; platforms: ['Nintendo Switch']; release date: 2018-05-10; developers: ['Frima Studio']; publisher: Microids; genres: ['2D Platformer'] [{'score': 76.0, 'title': 'Super Chariot', 'genres': ['2D Platformer'], 'object_id': '6718d04a17c581114a9d2c79', 'platforms': ['Nintendo Switch'], 'publisher': 'Microids', 'developers': ['Frima Studio'], 'release_date': '2018-05-10'}]\n",
      "* 0.4830767954312798 Game name: 'Kirby's Adventure'; score: 77.0; platforms: ['3DS']; release date: 2011-11-17; developers: ['Arika']; publisher: Nintendo; genres: ['2D Platformer'] [{'score': 77.0, 'title': \"Kirby's Adventure\", 'genres': ['2D Platformer'], 'object_id': '6718d03917c581114a9d2b66', 'platforms': ['3DS'], 'publisher': 'Nintendo', 'developers': ['Arika'], 'release_date': '2011-11-17'}]\n",
      "* 0.48318478565306655 Game name: 'Mario Strikers: Battle League'; score: 73.0; platforms: ['Nintendo Switch']; release date: 2022-06-10; developers: ['Next Level Games']; publisher: Nintendo; genres: ['Soccer'] [{'score': 73.0, 'title': 'Mario Strikers: Battle League', 'genres': ['Soccer'], 'object_id': '6718d09317c581114a9d30ee', 'platforms': ['Nintendo Switch'], 'publisher': 'Nintendo', 'developers': ['Next Level Games'], 'release_date': '2022-06-10'}]\n",
      "* 0.48563709940689115 Game name: 'Super Mario Maker 2'; score: 88.0; platforms: ['Nintendo Switch']; release date: 2019-06-28; developers: ['Nintendo']; publisher: Nintendo; genres: ['2D Platformer'] [{'score': 88.0, 'title': 'Super Mario Maker 2', 'genres': ['2D Platformer'], 'object_id': '6718cfa017c581114a9d21e2', 'platforms': ['Nintendo Switch'], 'publisher': 'Nintendo', 'developers': ['Nintendo'], 'release_date': '2019-06-28'}]\n",
      "* 0.48579655545343603 Game name: 'Kirby and the Rainbow Curse'; score: 73.0; platforms: ['Wii U']; release date: 2015-02-20; developers: ['HAL Labs']; publisher: Nintendo; genres: ['2D Platformer'] [{'score': 73.0, 'title': 'Kirby and the Rainbow Curse', 'genres': ['2D Platformer'], 'object_id': '6718d08717c581114a9d3038', 'platforms': ['Wii U'], 'publisher': 'Nintendo', 'developers': ['HAL Labs'], 'release_date': '2015-02-20'}]\n",
      "* 0.4863492250442505 Game name: 'Kirby's Return to Dream Land Deluxe'; score: 79.0; platforms: ['Nintendo Switch']; release date: 2023-02-24; developers: ['HAL Labs']; publisher: Nintendo; genres: ['2D Platformer'] [{'score': 79.0, 'title': \"Kirby's Return to Dream Land Deluxe\", 'genres': ['2D Platformer'], 'object_id': '6718d00e17c581114a9d28bc', 'platforms': ['Nintendo Switch'], 'publisher': 'Nintendo', 'developers': ['HAL Labs'], 'release_date': '2023-02-24'}]\n",
      "* 0.486621245343126 Game name: 'Mario & Luigi: Paper Jam'; score: 76.0; platforms: ['3DS']; release date: 2016-01-22; developers: ['Alphadream Corporation']; publisher: Nintendo; genres: ['JRPG'] [{'score': 76.0, 'title': 'Mario & Luigi: Paper Jam', 'genres': ['JRPG'], 'object_id': '6718d04d17c581114a9d2ca6', 'platforms': ['3DS'], 'publisher': 'Nintendo', 'developers': ['Alphadream Corporation'], 'release_date': '2016-01-22'}]\n",
      "* 0.4875692419749037 Game name: 'Luigi's Mansion 2 HD'; score: 77.0; platforms: ['Nintendo Switch']; release date: 2024-06-27; developers: ['Tantalus']; publisher: Nintendo; genres: ['Action Adventure'] [{'score': 77.0, 'title': \"Luigi's Mansion 2 HD\", 'genres': ['Action Adventure'], 'object_id': '6718d03317c581114a9d2b06', 'platforms': ['Nintendo Switch'], 'publisher': 'Nintendo', 'developers': ['Tantalus'], 'release_date': '2024-06-27'}]\n",
      "* 0.48850464820861816 Game name: 'Super Mario All-Stars'; score: 70.0; platforms: ['Wii']; release date: 2010-12-12; developers: ['Nintendo']; publisher: Nintendo; genres: ['Compilation'] [{'score': 70.0, 'title': 'Super Mario All-Stars', 'genres': ['Compilation'], 'object_id': '6718d0cc17c581114a9d347b', 'platforms': ['Wii'], 'publisher': 'Nintendo', 'developers': ['Nintendo'], 'release_date': '2010-12-12'}]\n",
      "* 0.48941969871520996 Game name: 'Super Mario RPG'; score: 84.0; platforms: ['Nintendo Switch']; release date: 2023-11-17; developers: ['ArtePiazza']; publisher: Nintendo; genres: ['JRPG'] [{'score': 84.0, 'title': 'Super Mario RPG', 'genres': ['JRPG'], 'object_id': '6718cfc617c581114a9d2445', 'platforms': ['Nintendo Switch'], 'publisher': 'Nintendo', 'developers': ['ArtePiazza'], 'release_date': '2023-11-17'}]\n",
      "* 0.48954951763153076 Game name: 'Kirby Fighters Deluxe'; score: 66.0; platforms: ['3DS']; release date: 2014-08-29; developers: ['HAL Labs']; publisher: Nintendo; genres: ['2D Fighting'] [{'score': 66.0, 'title': 'Kirby Fighters Deluxe', 'genres': ['2D Fighting'], 'object_id': '6718d0fd17c581114a9d3789', 'platforms': ['3DS'], 'publisher': 'Nintendo', 'developers': ['HAL Labs'], 'release_date': '2014-08-29'}]\n",
      "* 0.4916322079787314 Game name: 'Super Mario 3D World'; score: 93.0; platforms: ['Wii U']; release date: 2013-11-22; developers: ['Nintendo']; publisher: Nintendo; genres: ['3D Platformer'] [{'score': 93.0, 'title': 'Super Mario 3D World', 'genres': ['3D Platformer'], 'object_id': '6718cedd17c581114a9d20ed', 'platforms': ['Wii U'], 'publisher': 'Nintendo', 'developers': ['Nintendo'], 'release_date': '2013-11-22'}]\n",
      "* 0.49170422554016113 Game name: 'Super Mario Bros. 35'; score: 75.0; platforms: ['Nintendo Switch']; release date: 2020-10-01; developers: ['Nintendo']; publisher: Nintendo; genres: ['2D Platformer'] [{'score': 75.0, 'title': 'Super Mario Bros. 35', 'genres': ['2D Platformer'], 'object_id': '6718d06b17c581114a9d2e86', 'platforms': ['Nintendo Switch'], 'publisher': 'Nintendo', 'developers': ['Nintendo'], 'release_date': '2020-10-01'}]\n",
      "* 0.4918315713505992 Game name: 'The Legend of Zelda: Majora's Mask 3D'; score: 89.0; platforms: ['3DS']; release date: 2015-02-13; developers: ['GREZZO']; publisher: Nintendo; genres: ['Open-World Action'] [{'score': 89.0, 'title': \"The Legend of Zelda: Majora's Mask 3D\", 'genres': ['Open-World Action'], 'object_id': '6718cee417c581114a9d215c', 'platforms': ['3DS'], 'publisher': 'Nintendo', 'developers': ['GREZZO'], 'release_date': '2015-02-13'}]\n",
      "* 0.493771493434906 Game name: 'Mario Party: Star Rush'; score: 68.0; platforms: ['3DS']; release date: 2016-11-04; developers: ['Nd Cube', 'Nintendo']; publisher: Nintendo; genres: ['Party'] [{'score': 68.0, 'title': 'Mario Party: Star Rush', 'genres': ['Party'], 'object_id': '6718d0e417c581114a9d3603', 'platforms': ['3DS'], 'publisher': 'Nintendo', 'developers': ['Nd Cube', 'Nintendo'], 'release_date': '2016-11-04'}]\n",
      "* 0.49378907680511475 Game name: 'Donkey Kong Country: Tropical Freeze'; score: 83.0; platforms: ['Wii U', 'Nintendo Switch']; release date: 2014-02-21; developers: ['Retro Studios']; publisher: Nintendo; genres: ['2D Platformer'] [{'score': 83.0, 'title': 'Donkey Kong Country: Tropical Freeze', 'genres': ['2D Platformer'], 'object_id': '6718cfd217c581114a9d2508', 'platforms': ['Wii U', 'Nintendo Switch'], 'publisher': 'Nintendo', 'developers': ['Retro Studios'], 'release_date': '2014-02-21'}]\n",
      "* 0.49466077967467226 Game name: 'Mario and Donkey Kong: Minis on the Move'; score: 78.0; platforms: ['3DS']; release date: 2013-05-09; developers: ['Nintendo']; publisher: Nintendo; genres: ['Action Puzzle'] [{'score': 78.0, 'title': 'Mario and Donkey Kong: Minis on the Move', 'genres': ['Action Puzzle'], 'object_id': '6718d02317c581114a9d2a06', 'platforms': ['3DS'], 'publisher': 'Nintendo', 'developers': ['Nintendo'], 'release_date': '2013-05-09'}]\n",
      "* 0.4947199821472168 Game name: 'Mario + Rabbids: Kingdom Battle - Donkey Kong Adventure'; score: 82.0; platforms: ['Nintendo Switch']; release date: 2018-06-26; developers: ['Ubisoft Milan']; publisher: Ubisoft; genres: ['Turn-Based Tactics'] [{'score': 82.0, 'title': 'Mario + Rabbids: Kingdom Battle - Donkey Kong Adventure', 'genres': ['Turn-Based Tactics'], 'object_id': '6718cfd717c581114a9d2556', 'platforms': ['Nintendo Switch'], 'publisher': 'Ubisoft', 'developers': ['Ubisoft Milan'], 'release_date': '2018-06-26'}]\n",
      "* 0.4956665930549251 Game name: 'Luigi's Mansion: Dark Moon'; score: 86.0; platforms: ['3DS']; release date: 2013-03-24; developers: ['Next Level Games']; publisher: Nintendo; genres: ['Action Adventure'] [{'score': 86.0, 'title': \"Luigi's Mansion: Dark Moon\", 'genres': ['Action Adventure'], 'object_id': '6718cfaf17c581114a9d22cf', 'platforms': ['3DS'], 'publisher': 'Nintendo', 'developers': ['Next Level Games'], 'release_date': '2013-03-24'}]\n",
      "* 0.4968686103820801 Game name: 'Kirby and the Forgotten Land'; score: 85.0; platforms: ['Nintendo Switch']; release date: 2022-03-25; developers: ['HAL Labs']; publisher: Nintendo; genres: ['3D Platformer'] [{'score': 85.0, 'title': 'Kirby and the Forgotten Land', 'genres': ['3D Platformer'], 'object_id': '6718cfb917c581114a9d2372', 'platforms': ['Nintendo Switch'], 'publisher': 'Nintendo', 'developers': ['HAL Labs'], 'release_date': '2022-03-25'}]\n",
      "* 0.4982985258102417 Game name: 'Kirby Star Allies'; score: 73.0; platforms: ['Nintendo Switch']; release date: 2018-03-16; developers: ['HAL Labs']; publisher: Nintendo; genres: ['2D Platformer'] [{'score': 73.0, 'title': 'Kirby Star Allies', 'genres': ['2D Platformer'], 'object_id': '6718d08a17c581114a9d3061', 'platforms': ['Nintendo Switch'], 'publisher': 'Nintendo', 'developers': ['HAL Labs'], 'release_date': '2018-03-16'}]\n",
      "* 0.4984855055809021 Game name: 'Mario & Luigi: Dream Team'; score: 81.0; platforms: ['3DS']; release date: 2013-08-11; developers: ['Alphadream Corporation']; publisher: Nintendo; genres: ['JRPG'] [{'score': 81.0, 'title': 'Mario & Luigi: Dream Team', 'genres': ['JRPG'], 'object_id': '6718cfe917c581114a9d2677', 'platforms': ['3DS'], 'publisher': 'Nintendo', 'developers': ['Alphadream Corporation'], 'release_date': '2013-08-11'}]\n",
      "* 0.5005817711353302 Game name: 'New Super Mario Bros. U Deluxe'; score: 80.0; platforms: ['Nintendo Switch']; release date: 2019-01-11; developers: ['Nintendo']; publisher: Nintendo; genres: ['2D Platformer'] [{'score': 80.0, 'title': 'New Super Mario Bros. U Deluxe', 'genres': ['2D Platformer'], 'object_id': '6718cffc17c581114a9d2799', 'platforms': ['Nintendo Switch'], 'publisher': 'Nintendo', 'developers': ['Nintendo'], 'release_date': '2019-01-11'}]\n",
      "* 0.5021627246044433 Game name: 'Adventure Time: Hey Ice King! Why'd You Steal Our Garbage?!!'; score: 67.0; platforms: ['DS', '3DS']; release date: 2012-11-13; developers: ['WayForward']; publisher: D3Publisher; genres: ['Open-World Action'] [{'score': 67.0, 'title': \"Adventure Time: Hey Ice King! Why'd You Steal Our Garbage?!!\", 'genres': ['Open-World Action'], 'object_id': '6718d0f517c581114a9d3711', 'platforms': ['DS', '3DS'], 'publisher': 'D3Publisher', 'developers': ['WayForward'], 'release_date': '2012-11-13'}]\n",
      "* 0.5026521383135227 Game name: 'Kirby's Blowout Blast'; score: 69.0; platforms: ['3DS']; release date: 2017-07-06; developers: ['HAL Labs']; publisher: Nintendo; genres: ['Action'] [{'score': 69.0, 'title': \"Kirby's Blowout Blast\", 'genres': ['Action'], 'object_id': '6718d0d617c581114a9d3521', 'platforms': ['3DS'], 'publisher': 'Nintendo', 'developers': ['HAL Labs'], 'release_date': '2017-07-06'}]\n",
      "* 0.5033365190029144 Game name: 'Luigi's Mansion'; score: 74.0; platforms: ['GameCube', '3DS']; release date: 2018-10-12; developers: ['GREZZO']; publisher: Nintendo; genres: ['Action Adventure'] [{'score': 74.0, 'title': \"Luigi's Mansion\", 'genres': ['Action Adventure'], 'object_id': '6718d07a17c581114a9d2f6c', 'platforms': ['GameCube', '3DS'], 'publisher': 'Nintendo', 'developers': ['GREZZO'], 'release_date': '2018-10-12'}]\n",
      "* 0.5035924911499023 Game name: 'Kirby: Planet Robobot'; score: 81.0; platforms: ['3DS']; release date: 2016-06-10; developers: ['HAL Labs']; publisher: Nintendo; genres: ['2D Platformer'] [{'score': 81.0, 'title': 'Kirby: Planet Robobot', 'genres': ['2D Platformer'], 'object_id': '6718cfe517c581114a9d262d', 'platforms': ['3DS'], 'publisher': 'Nintendo', 'developers': ['HAL Labs'], 'release_date': '2016-06-10'}]\n",
      "* 0.5041454434394836 Game name: 'Super Mario 3D All-Stars'; score: 82.0; platforms: ['Nintendo Switch']; release date: 2020-09-18; developers: ['Nintendo']; publisher: Nintendo; genres: ['Compilation'] [{'score': 82.0, 'title': 'Super Mario 3D All-Stars', 'genres': ['Compilation'], 'object_id': '6718cfda17c581114a9d257d', 'platforms': ['Nintendo Switch'], 'publisher': 'Nintendo', 'developers': ['Nintendo'], 'release_date': '2020-09-18'}]\n",
      "* 0.5052459836006165 Game name: 'Mario Party Superstars'; score: 80.0; platforms: ['Nintendo Switch']; release date: 2021-10-29; developers: ['Nd Cube']; publisher: Nintendo; genres: ['Party'] [{'score': 80.0, 'title': 'Mario Party Superstars', 'genres': ['Party'], 'object_id': '6718d00417c581114a9d2826', 'platforms': ['Nintendo Switch'], 'publisher': 'Nintendo', 'developers': ['Nd Cube'], 'release_date': '2021-10-29'}]\n",
      "* 0.50722736120224 Game name: 'Super Mario Maker'; score: 88.0; platforms: ['Wii U', '3DS']; release date: 2015-09-11; developers: ['Nintendo']; publisher: Nintendo; genres: ['2D Platformer'] [{'score': 88.0, 'title': 'Super Mario Maker', 'genres': ['2D Platformer'], 'object_id': '6718cf9d17c581114a9d21bd', 'platforms': ['Wii U', '3DS'], 'publisher': 'Nintendo', 'developers': ['Nintendo'], 'release_date': '2015-09-11'}]\n",
      "* 0.5086150169372559 Game name: 'Mighty Switch Force! 2'; score: 73.0; platforms: ['3DS', 'Wii U']; release date: 2013-06-13; developers: ['WayForward']; publisher: WayForward; genres: ['2D Platformer'] [{'score': 73.0, 'title': 'Mighty Switch Force! 2', 'genres': ['2D Platformer'], 'object_id': '6718d08f17c581114a9d30b4', 'platforms': ['3DS', 'Wii U'], 'publisher': 'WayForward', 'developers': ['WayForward'], 'release_date': '2013-06-13'}]\n",
      "* 0.508680671453476 Game name: 'Kirby Fighters 2'; score: 65.0; platforms: ['Nintendo Switch']; release date: 2020-09-23; developers: ['HAL Labs']; publisher: Nintendo; genres: ['2D Fighting'] [{'score': 65.0, 'title': 'Kirby Fighters 2', 'genres': ['2D Fighting'], 'object_id': '6718d10717c581114a9d3834', 'platforms': ['Nintendo Switch'], 'publisher': 'Nintendo', 'developers': ['HAL Labs'], 'release_date': '2020-09-23'}]\n",
      "* 0.5092383628629653 Game name: 'Blossom Tales II: The Minotaur Prince'; score: 77.0; platforms: ['PC', 'Nintendo Switch', 'Xbox Series X', 'Xbox One']; release date: 2022-08-16; developers: ['Castle Pixel, LLC.']; publisher: Playtonic Friends; genres: ['Open-World Action'] [{'score': 77.0, 'title': 'Blossom Tales II: The Minotaur Prince', 'genres': ['Open-World Action'], 'object_id': '6718d03117c581114a9d2aeb', 'platforms': ['PC', 'Nintendo Switch', 'Xbox Series X', 'Xbox One'], 'publisher': 'Playtonic Friends', 'developers': ['Castle Pixel, LLC.'], 'release_date': '2022-08-16'}]\n",
      "* 0.5098225766526108 Game name: 'Dedede's Drum Dash Deluxe'; score: 65.0; platforms: ['3DS']; release date: 2014-08-29; developers: ['HAL Labs']; publisher: Nintendo; genres: ['Rhythm'] [{'score': 65.0, 'title': \"Dedede's Drum Dash Deluxe\", 'genres': ['Rhythm'], 'object_id': '6718d10e17c581114a9d3891', 'platforms': ['3DS'], 'publisher': 'Nintendo', 'developers': ['HAL Labs'], 'release_date': '2014-08-29'}]\n",
      "* 0.5123462677001953 Game name: 'Disney Magical World 2'; score: 73.0; platforms: ['3DS']; release date: 2016-10-14; developers: ['h.a.n.d. Inc.']; publisher: Nintendo; genres: ['Virtual Life'] [{'score': 73.0, 'title': 'Disney Magical World 2', 'genres': ['Virtual Life'], 'object_id': '6718d08817c581114a9d304d', 'platforms': ['3DS'], 'publisher': 'Nintendo', 'developers': ['h.a.n.d. Inc.'], 'release_date': '2016-10-14'}]\n",
      "* 0.5125426352024078 Game name: 'Snow Bros. Nick & Tom Special'; score: 60.0; platforms: ['Nintendo Switch']; release date: 2022-05-19; developers: ['CRT Games']; publisher: Daewon Media Co., Ltd.; genres: ['2D Platformer'] [{'score': 60.0, 'title': 'Snow Bros. Nick & Tom Special', 'genres': ['2D Platformer'], 'object_id': '6718d13f17c581114a9d3b96', 'platforms': ['Nintendo Switch'], 'publisher': 'Daewon Media Co., Ltd.', 'developers': ['CRT Games'], 'release_date': '2022-05-19'}]\n"
     ]
    }
   ],
   "source": [
    "query = \"super mario 2\"\n",
    "\n",
    "results = vector_store.similarity_search_with_score(\n",
    "    query=query,\n",
    "    k=50,\n",
    "    filter={\n",
    "        # \"entity_class\": {\"$in\": ['Game']},\n",
    "        # \"target_class\": {\"$in\": ['Location', 'City']}\n",
    "    }\n",
    ")\n",
    "for doc in results:\n",
    "    print(f\"* {doc[1]} {doc[0].page_content} [{doc[0].metadata}]\")"
   ]
  },
  {
   "cell_type": "code",
   "execution_count": 33,
   "metadata": {},
   "outputs": [
    {
     "data": {
      "text/plain": [
       "(Document(id='20732', metadata={'id': 20732, 'property_id': 27045, 'entity_class': 'Character', 'target_class': 'Designer', 'property_name': 'characterDesignBy', 'entity_subclass': 'Hero', 'property_description': \"Indicates the designer responsible for creating the character's appearance.\"}, page_content=\"Poperty name: 'characterDesignBy'; property description: Indicates the designer responsible for creating the character's appearance. This property applies to objects of class 'Character' and has a target object or value with class 'Designer'.             Using OWL: 'characterDesignBy' rdfs:comment 'Indicates the designer responsible for creating the character's appearance.'; rdfs:domain 'Character'; rdfs:range 'Designer'.\"),\n",
       " 0.24955305462443178)"
      ]
     },
     "execution_count": 33,
     "metadata": {},
     "output_type": "execute_result"
    }
   ],
   "source": [
    "results[0]"
   ]
  },
  {
   "cell_type": "code",
   "execution_count": 74,
   "metadata": {},
   "outputs": [],
   "source": [
    "vector_store.delete(ids=[str(i) for i in range(1000)])"
   ]
  },
  {
   "cell_type": "code",
   "execution_count": 1,
   "metadata": {},
   "outputs": [
    {
     "ename": "ModuleNotFoundError",
     "evalue": "No module named 'plotly'",
     "output_type": "error",
     "traceback": [
      "\u001b[0;31m---------------------------------------------------------------------------\u001b[0m",
      "\u001b[0;31mModuleNotFoundError\u001b[0m                       Traceback (most recent call last)",
      "Cell \u001b[0;32mIn[1], line 3\u001b[0m\n\u001b[1;32m      1\u001b[0m \u001b[38;5;28;01mimport\u001b[39;00m \u001b[38;5;21;01mpacmap\u001b[39;00m\n\u001b[1;32m      2\u001b[0m \u001b[38;5;28;01mimport\u001b[39;00m \u001b[38;5;21;01mnumpy\u001b[39;00m \u001b[38;5;28;01mas\u001b[39;00m \u001b[38;5;21;01mnp\u001b[39;00m\n\u001b[0;32m----> 3\u001b[0m \u001b[38;5;28;01mimport\u001b[39;00m \u001b[38;5;21;01mplotly\u001b[39;00m\u001b[38;5;21;01m.\u001b[39;00m\u001b[38;5;21;01mexpress\u001b[39;00m \u001b[38;5;28;01mas\u001b[39;00m \u001b[38;5;21;01mpx\u001b[39;00m\n\u001b[1;32m      5\u001b[0m embedding_projector \u001b[38;5;241m=\u001b[39m pacmap\u001b[38;5;241m.\u001b[39mPaCMAP(n_components\u001b[38;5;241m=\u001b[39m\u001b[38;5;241m2\u001b[39m, n_neighbors\u001b[38;5;241m=\u001b[39m\u001b[38;5;28;01mNone\u001b[39;00m, MN_ratio\u001b[38;5;241m=\u001b[39m\u001b[38;5;241m0.5\u001b[39m, FP_ratio\u001b[38;5;241m=\u001b[39m\u001b[38;5;241m2.0\u001b[39m, random_state\u001b[38;5;241m=\u001b[39m\u001b[38;5;241m1\u001b[39m)\n\u001b[1;32m      7\u001b[0m embeddings_2d \u001b[38;5;241m=\u001b[39m [\n\u001b[1;32m      8\u001b[0m     \u001b[38;5;28mlist\u001b[39m(vector_store\u001b[38;5;241m.\u001b[39mindex\u001b[38;5;241m.\u001b[39mreconstruct_n(idx, \u001b[38;5;241m1\u001b[39m)[\u001b[38;5;241m0\u001b[39m]) \u001b[38;5;28;01mfor\u001b[39;00m idx \u001b[38;5;129;01min\u001b[39;00m \u001b[38;5;28mrange\u001b[39m(\u001b[38;5;28mlen\u001b[39m(docs[:\u001b[38;5;241m1000\u001b[39m]))\n\u001b[1;32m      9\u001b[0m ]\n",
      "\u001b[0;31mModuleNotFoundError\u001b[0m: No module named 'plotly'"
     ]
    }
   ],
   "source": [
    "import pacmap\n",
    "import numpy as np\n",
    "import plotly.express as px\n",
    "\n",
    "embedding_projector = pacmap.PaCMAP(n_components=2, n_neighbors=None, MN_ratio=0.5, FP_ratio=2.0, random_state=1)\n",
    "\n",
    "embeddings_2d = [\n",
    "    list(vector_store.index.reconstruct_n(idx, 1)[0]) for idx in range(len(docs[:1000]))\n",
    "]\n",
    "\n",
    "# Fit the data (the index of transformed data corresponds to the index of the original data)\n",
    "documents_projected = embedding_projector.fit_transform(np.array(embeddings_2d), init=\"pca\")"
   ]
  },
  {
   "cell_type": "code",
   "execution_count": null,
   "metadata": {},
   "outputs": [],
   "source": [
    "df = pd.DataFrame.from_dict(\n",
    "    [\n",
    "        {\n",
    "            \"x\": documents_projected[i, 0],\n",
    "            \"y\": documents_projected[i, 1],\n",
    "            \"class\": RAW_KNOWLEDGE_BASE[:1000][i].metadata[\"entity_class\"],\n",
    "            \"extract\": RAW_KNOWLEDGE_BASE[:1000][i].page_content[:100],\n",
    "            \"symbol\": \"circle\",\n",
    "            \"size_col\": 4,\n",
    "        }\n",
    "        for i in range(len(RAW_KNOWLEDGE_BASE[:1000]))\n",
    "    ]\n",
    ")\n",
    "\n",
    "# Visualize the embedding\n",
    "fig = px.scatter(\n",
    "    df,\n",
    "    x=\"x\",\n",
    "    y=\"y\",\n",
    "    color=\"source\",\n",
    "    hover_data=\"extract\",\n",
    "    size=\"size_col\",\n",
    "    symbol=\"symbol\",\n",
    "    color_discrete_map={\"User query\": \"black\"},\n",
    "    width=1000,\n",
    "    height=700,\n",
    ")\n",
    "fig.update_traces(\n",
    "    marker=dict(opacity=1, line=dict(width=0, color=\"DarkSlateGrey\")),\n",
    "    selector=dict(mode=\"markers\"),\n",
    ")\n",
    "fig.update_layout(\n",
    "    legend_title_text=\"<b>Chunk source</b>\",\n",
    "    title=\"<b>2D Projection of Chunk Embeddings via PaCMAP</b>\",\n",
    ")\n",
    "fig.show()"
   ]
  }
 ],
 "metadata": {
  "kernelspec": {
   "display_name": "venv",
   "language": "python",
   "name": "python3"
  },
  "language_info": {
   "codemirror_mode": {
    "name": "ipython",
    "version": 3
   },
   "file_extension": ".py",
   "mimetype": "text/x-python",
   "name": "python",
   "nbconvert_exporter": "python",
   "pygments_lexer": "ipython3",
   "version": "3.10.12"
  }
 },
 "nbformat": 4,
 "nbformat_minor": 2
}
